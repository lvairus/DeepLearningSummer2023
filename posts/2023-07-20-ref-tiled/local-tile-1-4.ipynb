{
 "cells": [
  {
   "cell_type": "markdown",
   "metadata": {},
   "source": [
    "working locally, \n",
    "getting the intervals for every tile of chromosomes 1 through 4\n",
    "function writes a new txt file with all the intervals for reftile run"
   ]
  },
  {
   "cell_type": "code",
   "execution_count": 1,
   "metadata": {},
   "outputs": [],
   "source": [
    "l = 896*128\n",
    "hl = l/2 \n",
    "hl = int(hl)"
   ]
  },
  {
   "cell_type": "code",
   "execution_count": 2,
   "metadata": {},
   "outputs": [],
   "source": [
    "# chr 1\n",
    "# length 249,250,621\n",
    "\n",
    "#starting interval\n",
    "int1_center = hl*1\n",
    "int1_start = int1_center - 1\n",
    "int1_end = int1_center + 1\n",
    "\n",
    "\n",
    "int1 = f'chr1_{hl-1}_{hl+1}'"
   ]
  },
  {
   "cell_type": "code",
   "execution_count": 3,
   "metadata": {},
   "outputs": [
    {
     "data": {
      "text/plain": [
       "int"
      ]
     },
     "execution_count": 3,
     "metadata": {},
     "output_type": "execute_result"
    }
   ],
   "source": [
    "type(hl)"
   ]
  },
  {
   "cell_type": "code",
   "execution_count": 4,
   "metadata": {},
   "outputs": [],
   "source": [
    "# chr 1\n",
    "chr1_len = 249250621\n",
    "center = 0\n",
    "chr1_intervals = []\n",
    "\n",
    "while center+l < chr1_len:\n",
    "    center += hl\n",
    "    int = f'chr1_{center-1}_{center+1}'\n",
    "    chr1_intervals.append(int)\n",
    "\n",
    "last_center = chr1_len - hl\n",
    "last_int = f'chr1_{last_center-1}_{last_center+1}'\n",
    "chr1_intervals.append(last_int)"
   ]
  },
  {
   "cell_type": "code",
   "execution_count": 10,
   "metadata": {},
   "outputs": [],
   "source": [
    "def make_ints(chr, chr_len):\n",
    "    global hl\n",
    "    center = 0\n",
    "    while center+l < chr_len:\n",
    "        center += hl\n",
    "        int = f'chr{chr}_{center-1}_{center+1}'\n",
    "        chr1_intervals.append(int)\n",
    "\n",
    "    last_center = chr_len - hl\n",
    "    last_int = f'chr{chr}_{last_center-1}_{last_center+1}'\n",
    "    chr1_intervals.append(last_int)"
   ]
  },
  {
   "cell_type": "code",
   "execution_count": null,
   "metadata": {},
   "outputs": [],
   "source": [
    "# make_ints('1', 249250621)"
   ]
  },
  {
   "cell_type": "markdown",
   "metadata": {},
   "source": [
    "test start middle and end preds"
   ]
  }
 ],
 "metadata": {
  "kernelspec": {
   "display_name": "dlgtools",
   "language": "python",
   "name": "python3"
  },
  "language_info": {
   "codemirror_mode": {
    "name": "ipython",
    "version": 3
   },
   "file_extension": ".py",
   "mimetype": "text/x-python",
   "name": "python",
   "nbconvert_exporter": "python",
   "pygments_lexer": "ipython3",
   "version": "3.11.3"
  },
  "orig_nbformat": 4
 },
 "nbformat": 4,
 "nbformat_minor": 2
}
