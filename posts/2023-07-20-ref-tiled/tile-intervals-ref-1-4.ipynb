{
 "cells": [
  {
   "cell_type": "markdown",
   "metadata": {},
   "source": [
    "---\n",
    "title: \"making tile intervals for chr 20-Y\"\n",
    "author: \"Laura Vairus\"\n",
    "date: \"2023-07-20\"\n",
    "categories: [code]\n",
    "---"
   ]
  },
  {
   "cell_type": "markdown",
   "metadata": {},
   "source": [
    "## Getting the intervals for every tile of chromosomes 20, 21, 22, X, Y"
   ]
  },
  {
   "cell_type": "code",
   "execution_count": 2,
   "metadata": {},
   "outputs": [],
   "source": [
    "# length of enformer output bps\n",
    "L = 896*128\n",
    "HL = int(L/2)\n",
    "\n",
    "# chromosome lengths\n",
    "chr20_len = 64444167\n",
    "chr21_len = 46709983\n",
    "chr22_len = 50818468\n",
    "chrX_len = 156040895\n",
    "chrY_len = 57227415"
   ]
  },
  {
   "cell_type": "code",
   "execution_count": 12,
   "metadata": {},
   "outputs": [],
   "source": [
    "def make_intervals(chr, chr_len, filepath):\n",
    "    \"\"\"\n",
    "    Writes a file of your overlapping chromosome intervals\n",
    "\n",
    "    Parameters:\n",
    "    chr (string): chromosome number\n",
    "    chr_len (int): length of chromosome\n",
    "    filepath (string): path to where you want to save your intervals\n",
    "\n",
    "    Returns:\n",
    "    None\n",
    "    \"\"\"\n",
    "    global L, HL\n",
    "    num_tiles = math.floor(chr_len/HL)\n",
    "\n",
    "    # Open the file in write mode and write the strings\n",
    "    with open(filepath, 'w') as file:\n",
    "        for i in range(num_tiles):\n",
    "            start = HL * i\n",
    "            end = HL * (i+2)\n",
    "            interval = f'\"chr{chr}_{start}_{end}\"'\n",
    "            file.write(interval + '\\n')\n",
    "\n",
    "        last_start = chr_len - L\n",
    "        last_end = chr_len\n",
    "        last_int = f'\"chr{chr}_{last_start}_{last_end}\"'\n",
    "        file.write(last_int)\n",
    "\n",
    "    return None"
   ]
  },
  {
   "cell_type": "code",
   "execution_count": 20,
   "metadata": {},
   "outputs": [],
   "source": [
    "def make_intervals2(chr, chr_len, filepath):\n",
    "    \"\"\"\n",
    "    Writes a file of your overlapping chromosome intervals\n",
    "\n",
    "    Parameters:\n",
    "    chr (string): chromosome number\n",
    "    chr_len (int): length of chromosome\n",
    "    filepath (string): path to where you want to save your intervals\n",
    "\n",
    "    Returns:\n",
    "    None\n",
    "    \"\"\"\n",
    "    global L, HL\n",
    "    num_tiles = chr_len // HL\n",
    "\n",
    "    # Open the file in write mode and write the strings\n",
    "    with open(filepath, 'w') as file:\n",
    "        for i in range(num_tiles):\n",
    "            start = HL * i\n",
    "            end = HL * (i+2)\n",
    "            interval = f'\"chr{chr}_{start}_{end}\"'\n",
    "            file.write(interval + '\\n')\n",
    "            \n",
    "    return None"
   ]
  },
  {
   "cell_type": "code",
   "execution_count": 22,
   "metadata": {},
   "outputs": [],
   "source": [
    "make_intervals2('20', chr20_len, 'chr20_intervals_overstep.txt')"
   ]
  },
  {
   "cell_type": "code",
   "execution_count": 23,
   "metadata": {},
   "outputs": [],
   "source": [
    "make_intervals2('21', chr21_len, 'chr21_intervals_overstep.txt')"
   ]
  },
  {
   "cell_type": "code",
   "execution_count": 24,
   "metadata": {},
   "outputs": [],
   "source": [
    "make_intervals2('22', chr22_len, 'chr22_intervals_overstep.txt')"
   ]
  },
  {
   "cell_type": "code",
   "execution_count": 25,
   "metadata": {},
   "outputs": [],
   "source": [
    "make_intervals2('X', chrX_len, 'chrX_intervals_overstep.txt')"
   ]
  },
  {
   "cell_type": "code",
   "execution_count": 26,
   "metadata": {},
   "outputs": [],
   "source": [
    "make_intervals2('Y', chrY_len, 'chrY_intervals_overstep.txt')"
   ]
  },
  {
   "cell_type": "code",
   "execution_count": 15,
   "metadata": {},
   "outputs": [],
   "source": [
    "make_intervals('20', chr20_len, 'chr20_intervals.txt')"
   ]
  },
  {
   "cell_type": "code",
   "execution_count": 16,
   "metadata": {},
   "outputs": [],
   "source": [
    "make_intervals('21', chr21_len, 'chr21_intervals.txt')"
   ]
  },
  {
   "cell_type": "code",
   "execution_count": 17,
   "metadata": {},
   "outputs": [],
   "source": [
    "make_intervals('22', chr22_len, 'chr22_intervals.txt')"
   ]
  },
  {
   "cell_type": "code",
   "execution_count": 18,
   "metadata": {},
   "outputs": [],
   "source": [
    "make_intervals('X', chrX_len, 'chrX_intervals.txt')"
   ]
  },
  {
   "cell_type": "code",
   "execution_count": 19,
   "metadata": {},
   "outputs": [],
   "source": [
    "make_intervals('Y', chrY_len, 'chrY_intervals.txt')"
   ]
  },
  {
   "cell_type": "code",
   "execution_count": null,
   "metadata": {},
   "outputs": [],
   "source": []
  }
 ],
 "metadata": {
  "kernelspec": {
   "display_name": "enf-tools",
   "language": "python",
   "name": "python3"
  },
  "language_info": {
   "codemirror_mode": {
    "name": "ipython",
    "version": 3
   },
   "file_extension": ".py",
   "mimetype": "text/x-python",
   "name": "python",
   "nbconvert_exporter": "python",
   "pygments_lexer": "ipython3",
   "version": "3.10.6"
  },
  "orig_nbformat": 4
 },
 "nbformat": 4,
 "nbformat_minor": 2
}
