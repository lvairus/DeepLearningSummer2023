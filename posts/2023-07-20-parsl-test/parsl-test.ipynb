{
 "cells": [
  {
   "cell_type": "code",
   "execution_count": 1,
   "metadata": {},
   "outputs": [
    {
     "name": "stdout",
     "output_type": "stream",
     "text": [
      "Collecting parsl\n",
      "  Obtaining dependency information for parsl from https://files.pythonhosted.org/packages/1c/e0/9455faca67f5f8f6afa3414526452f442c120f675677d7f2654b3a212d63/parsl-2023.7.17-py3-none-any.whl.metadata\n",
      "  Using cached parsl-2023.7.17-py3-none-any.whl.metadata (3.6 kB)\n",
      "Requirement already satisfied: pyzmq>=17.1.2 in /Users/lauvav/miniconda3/envs/parsl-tools/lib/python3.10/site-packages (from parsl) (25.1.0)\n",
      "Collecting typeguard<3,>=2.10 (from parsl)\n",
      "  Using cached typeguard-2.13.3-py3-none-any.whl (17 kB)\n",
      "Requirement already satisfied: typing-extensions<5,>=4.6 in /Users/lauvav/miniconda3/envs/parsl-tools/lib/python3.10/site-packages (from parsl) (4.7.1)\n",
      "Collecting types-paramiko (from parsl)\n",
      "  Obtaining dependency information for types-paramiko from https://files.pythonhosted.org/packages/8e/92/17f6d1bf82b039f6b42d9ef77b9dd96422691d8c3cc1dc2e6f4c1a3726b1/types_paramiko-3.2.0.1-py3-none-any.whl.metadata\n",
      "  Using cached types_paramiko-3.2.0.1-py3-none-any.whl.metadata (1.6 kB)\n",
      "Collecting types-requests (from parsl)\n",
      "  Obtaining dependency information for types-requests from https://files.pythonhosted.org/packages/06/9b/04bb62f11a6824df5d4568439cf0715118c265d0ffbebeb7cf4b8c9caa15/types_requests-2.31.0.2-py3-none-any.whl.metadata\n",
      "  Using cached types_requests-2.31.0.2-py3-none-any.whl.metadata (1.4 kB)\n",
      "Collecting types-six (from parsl)\n",
      "  Obtaining dependency information for types-six from https://files.pythonhosted.org/packages/e6/c8/829ed94ad26c81e180a4fd5fe205fbd179a622154e5b14e86ed285ca73e9/types_six-1.16.21.9-py3-none-any.whl.metadata\n",
      "  Using cached types_six-1.16.21.9-py3-none-any.whl.metadata (1.3 kB)\n",
      "Requirement already satisfied: six in /Users/lauvav/miniconda3/envs/parsl-tools/lib/python3.10/site-packages (from parsl) (1.16.0)\n",
      "Collecting globus-sdk (from parsl)\n",
      "  Obtaining dependency information for globus-sdk from https://files.pythonhosted.org/packages/06/8e/788fe930ce0d0158fe0f9940c730d89808d98965551b9cd02a2f27876dcb/globus_sdk-3.25.0-py3-none-any.whl.metadata\n",
      "  Using cached globus_sdk-3.25.0-py3-none-any.whl.metadata (3.2 kB)\n",
      "Collecting dill (from parsl)\n",
      "  Using cached dill-0.3.6-py3-none-any.whl (110 kB)\n",
      "Collecting tblib (from parsl)\n",
      "  Obtaining dependency information for tblib from https://files.pythonhosted.org/packages/9e/bd/ccb241b97e39dd8ec143418f89b3fd5752f872c862877a0f1b2d9fb9e815/tblib-2.0.0-py3-none-any.whl.metadata\n",
      "  Using cached tblib-2.0.0-py3-none-any.whl.metadata (25 kB)\n",
      "Collecting requests (from parsl)\n",
      "  Obtaining dependency information for requests from https://files.pythonhosted.org/packages/70/8e/0e2d847013cb52cd35b38c009bb167a1a26b2ce6cd6965bf26b47bc0bf44/requests-2.31.0-py3-none-any.whl.metadata\n",
      "  Using cached requests-2.31.0-py3-none-any.whl.metadata (4.6 kB)\n",
      "Collecting paramiko (from parsl)\n",
      "  Obtaining dependency information for paramiko from https://files.pythonhosted.org/packages/97/dc/d326721840be423d3728c1329be0c61a34ab3eec514f830c01fec31cd9ad/paramiko-3.2.0-py3-none-any.whl.metadata\n",
      "  Using cached paramiko-3.2.0-py3-none-any.whl.metadata (4.4 kB)\n",
      "Requirement already satisfied: psutil>=5.5.1 in /Users/lauvav/miniconda3/envs/parsl-tools/lib/python3.10/site-packages (from parsl) (5.9.5)\n",
      "Collecting setproctitle (from parsl)\n",
      "  Using cached setproctitle-1.3.2-cp310-cp310-macosx_10_9_universal2.whl (16 kB)\n",
      "Collecting pyjwt[crypto]<3.0.0,>=2.0.0 (from globus-sdk->parsl)\n",
      "  Obtaining dependency information for pyjwt[crypto]<3.0.0,>=2.0.0 from https://files.pythonhosted.org/packages/2b/4f/e04a8067c7c96c364cef7ef73906504e2f40d690811c021e1a1901473a19/PyJWT-2.8.0-py3-none-any.whl.metadata\n",
      "  Using cached PyJWT-2.8.0-py3-none-any.whl.metadata (4.2 kB)\n",
      "Collecting cryptography!=3.4.0,>=3.3.1 (from globus-sdk->parsl)\n",
      "  Obtaining dependency information for cryptography!=3.4.0,>=3.3.1 from https://files.pythonhosted.org/packages/5a/ae/c5493024f3d9bef59021085f08bf37afd0bac50c7764cdc58327245df213/cryptography-41.0.2-cp37-abi3-macosx_10_12_universal2.whl.metadata\n",
      "  Downloading cryptography-41.0.2-cp37-abi3-macosx_10_12_universal2.whl.metadata (5.2 kB)\n",
      "Collecting charset-normalizer<4,>=2 (from requests->parsl)\n",
      "  Obtaining dependency information for charset-normalizer<4,>=2 from https://files.pythonhosted.org/packages/ec/a7/96835706283d63fefbbbb4f119d52f195af00fc747e67cc54397c56312c8/charset_normalizer-3.2.0-cp310-cp310-macosx_11_0_arm64.whl.metadata\n",
      "  Using cached charset_normalizer-3.2.0-cp310-cp310-macosx_11_0_arm64.whl.metadata (31 kB)\n",
      "Collecting idna<4,>=2.5 (from requests->parsl)\n",
      "  Using cached idna-3.4-py3-none-any.whl (61 kB)\n",
      "Collecting urllib3<3,>=1.21.1 (from requests->parsl)\n",
      "  Obtaining dependency information for urllib3<3,>=1.21.1 from https://files.pythonhosted.org/packages/9b/81/62fd61001fa4b9d0df6e31d47ff49cfa9de4af03adecf339c7bc30656b37/urllib3-2.0.4-py3-none-any.whl.metadata\n",
      "  Downloading urllib3-2.0.4-py3-none-any.whl.metadata (6.6 kB)\n",
      "Collecting certifi>=2017.4.17 (from requests->parsl)\n",
      "  Using cached certifi-2023.5.7-py3-none-any.whl (156 kB)\n",
      "Collecting bcrypt>=3.2 (from paramiko->parsl)\n",
      "  Using cached bcrypt-4.0.1-cp36-abi3-macosx_10_10_universal2.whl (473 kB)\n",
      "Collecting pynacl>=1.5 (from paramiko->parsl)\n",
      "  Using cached PyNaCl-1.5.0-cp36-abi3-macosx_10_10_universal2.whl (349 kB)\n",
      "Collecting types-urllib3 (from types-requests->parsl)\n",
      "  Obtaining dependency information for types-urllib3 from https://files.pythonhosted.org/packages/11/7b/3fc711b2efea5e85a7a0bbfe269ea944aa767bbba5ec52f9ee45d362ccf3/types_urllib3-1.26.25.14-py3-none-any.whl.metadata\n",
      "  Using cached types_urllib3-1.26.25.14-py3-none-any.whl.metadata (1.7 kB)\n",
      "Collecting cffi>=1.12 (from cryptography!=3.4.0,>=3.3.1->globus-sdk->parsl)\n",
      "  Downloading cffi-1.15.1-cp310-cp310-macosx_11_0_arm64.whl (174 kB)\n",
      "\u001b[2K     \u001b[90m━━━━━━━━━━━━━━━━━━━━━━━━━━━━━━━━━━━━━━━\u001b[0m \u001b[32m174.3/174.3 kB\u001b[0m \u001b[31m4.9 MB/s\u001b[0m eta \u001b[36m0:00:00\u001b[0m\n",
      "\u001b[?25hCollecting pycparser (from cffi>=1.12->cryptography!=3.4.0,>=3.3.1->globus-sdk->parsl)\n",
      "  Using cached pycparser-2.21-py2.py3-none-any.whl (118 kB)\n",
      "Using cached parsl-2023.7.17-py3-none-any.whl (453 kB)\n",
      "Using cached globus_sdk-3.25.0-py3-none-any.whl (242 kB)\n",
      "Using cached requests-2.31.0-py3-none-any.whl (62 kB)\n",
      "Using cached paramiko-3.2.0-py3-none-any.whl (224 kB)\n",
      "Using cached tblib-2.0.0-py3-none-any.whl (11 kB)\n",
      "Using cached types_paramiko-3.2.0.1-py3-none-any.whl (33 kB)\n",
      "Using cached types_requests-2.31.0.2-py3-none-any.whl (14 kB)\n",
      "Using cached types_six-1.16.21.9-py3-none-any.whl (14 kB)\n",
      "Using cached charset_normalizer-3.2.0-cp310-cp310-macosx_11_0_arm64.whl (124 kB)\n",
      "Downloading cryptography-41.0.2-cp37-abi3-macosx_10_12_universal2.whl (5.3 MB)\n",
      "\u001b[2K   \u001b[90m━━━━━━━━━━━━━━━━━━━━━━━━━━━━━━━━━━━━━━━━\u001b[0m \u001b[32m5.3/5.3 MB\u001b[0m \u001b[31m3.4 MB/s\u001b[0m eta \u001b[36m0:00:00\u001b[0m00:01\u001b[0m00:01\u001b[0m\n",
      "\u001b[?25hDownloading urllib3-2.0.4-py3-none-any.whl (123 kB)\n",
      "\u001b[2K   \u001b[90m━━━━━━━━━━━━━━━━━━━━━━━━━━━━━━━━━━━━━━━━\u001b[0m \u001b[32m123.9/123.9 kB\u001b[0m \u001b[31m3.2 MB/s\u001b[0m eta \u001b[36m0:00:00\u001b[0m\n",
      "\u001b[?25hUsing cached types_urllib3-1.26.25.14-py3-none-any.whl (15 kB)\n",
      "Using cached PyJWT-2.8.0-py3-none-any.whl (22 kB)\n",
      "Installing collected packages: types-urllib3, types-six, urllib3, types-requests, typeguard, tblib, setproctitle, pyjwt, pycparser, idna, dill, charset-normalizer, certifi, bcrypt, requests, cffi, pynacl, cryptography, types-paramiko, paramiko, globus-sdk, parsl\n",
      "Successfully installed bcrypt-4.0.1 certifi-2023.5.7 cffi-1.15.1 charset-normalizer-3.2.0 cryptography-41.0.2 dill-0.3.6 globus-sdk-3.25.0 idna-3.4 paramiko-3.2.0 parsl-2023.7.17 pycparser-2.21 pyjwt-2.8.0 pynacl-1.5.0 requests-2.31.0 setproctitle-1.3.2 tblib-2.0.0 typeguard-2.13.3 types-paramiko-3.2.0.1 types-requests-2.31.0.2 types-six-1.16.21.9 types-urllib3-1.26.25.14 urllib3-2.0.4\n",
      "Note: you may need to restart the kernel to use updated packages.\n"
     ]
    }
   ],
   "source": [
    "%pip install parsl\n"
   ]
  },
  {
   "cell_type": "code",
   "execution_count": 2,
   "metadata": {},
   "outputs": [
    {
     "name": "stdout",
     "output_type": "stream",
     "text": [
      "2023.07.17\n"
     ]
    }
   ],
   "source": [
    "import parsl\n",
    "import os\n",
    "from parsl.app.app import python_app, bash_app\n",
    "from parsl.configs.local_threads import config\n",
    "\n",
    "#parsl.set_stream_logger() # <-- log everything to stdout\n",
    "\n",
    "print(parsl.__version__)"
   ]
  },
  {
   "cell_type": "code",
   "execution_count": 3,
   "metadata": {},
   "outputs": [
    {
     "data": {
      "text/plain": [
       "<parsl.dataflow.dflow.DataFlowKernel at 0x11d65d480>"
      ]
     },
     "execution_count": 3,
     "metadata": {},
     "output_type": "execute_result"
    }
   ],
   "source": [
    "parsl.load(config)"
   ]
  },
  {
   "cell_type": "code",
   "execution_count": 4,
   "metadata": {},
   "outputs": [
    {
     "name": "stdout",
     "output_type": "stream",
     "text": [
      "Hello World!\n"
     ]
    }
   ],
   "source": [
    "@python_app\n",
    "def hello ():\n",
    "    return 'Hello World!'\n",
    "\n",
    "print(hello().result())"
   ]
  },
  {
   "cell_type": "code",
   "execution_count": 5,
   "metadata": {},
   "outputs": [
    {
     "name": "stdout",
     "output_type": "stream",
     "text": [
      "45\n"
     ]
    }
   ],
   "source": [
    "@python_app\n",
    "def multiply(a, b):\n",
    "    return a * b\n",
    "\n",
    "print(multiply(5, 9).result())"
   ]
  },
  {
   "cell_type": "code",
   "execution_count": 6,
   "metadata": {},
   "outputs": [
    {
     "name": "stdout",
     "output_type": "stream",
     "text": [
      "Hello World!\n"
     ]
    }
   ],
   "source": [
    "@python_app\n",
    "def slow_hello ():\n",
    "    import time\n",
    "    time.sleep(5)\n",
    "    return 'Hello World!'\n",
    "\n",
    "print(slow_hello().result())"
   ]
  },
  {
   "cell_type": "code",
   "execution_count": 7,
   "metadata": {},
   "outputs": [
    {
     "name": "stdout",
     "output_type": "stream",
     "text": [
      "Hello World!\n",
      "\n"
     ]
    }
   ],
   "source": [
    "@bash_app\n",
    "def echo_hello(stdout='echo-hello.stdout', stderr='echo-hello.stderr'):\n",
    "    return 'echo \"Hello World!\"'\n",
    "\n",
    "echo_hello().result()\n",
    "\n",
    "with open('echo-hello.stdout', 'r') as f:\n",
    "     print(f.read())"
   ]
  },
  {
   "cell_type": "code",
   "execution_count": 8,
   "metadata": {},
   "outputs": [],
   "source": [
    "for i in range(3):\n",
    "    with open(os.path.join(os.getcwd(), 'hello-{}.txt'.format(i)), 'w') as f:\n",
    "        f.write('hello {}\\n'.format(i))"
   ]
  },
  {
   "cell_type": "code",
   "execution_count": 9,
   "metadata": {},
   "outputs": [
    {
     "name": "stdout",
     "output_type": "stream",
     "text": [
      "hello 0\n",
      "hello 1\n",
      "hello 2\n",
      "\n"
     ]
    }
   ],
   "source": [
    "from parsl.data_provider.files import File\n",
    "\n",
    "@bash_app\n",
    "def cat(inputs=[], outputs=[]):\n",
    "    return 'cat {} > {}'.format(\" \".join([i.filepath for i in inputs]), outputs[0])\n",
    "\n",
    "concat = cat(inputs=[File(os.path.join(os.getcwd(), 'hello-0.txt')),\n",
    "                    File(os.path.join(os.getcwd(), 'hello-1.txt')),\n",
    "                    File(os.path.join(os.getcwd(), 'hello-2.txt'))],\n",
    "             outputs=[File(os.path.join(os.getcwd(), 'all_hellos.txt'))])\n",
    "\n",
    "# Open the concatenated file\n",
    "with open(concat.outputs[0].result(), 'r') as f:\n",
    "     print(f.read())"
   ]
  },
  {
   "cell_type": "code",
   "execution_count": 21,
   "metadata": {},
   "outputs": [
    {
     "data": {
      "text/plain": [
       "parsl.config.Config"
      ]
     },
     "execution_count": 21,
     "metadata": {},
     "output_type": "execute_result"
    }
   ],
   "source": [
    "type(config)"
   ]
  },
  {
   "cell_type": "code",
   "execution_count": 10,
   "metadata": {},
   "outputs": [
    {
     "name": "stdout",
     "output_type": "stream",
     "text": [
      "Done: False\n",
      "Result: Hello World!\n",
      "Done: True\n"
     ]
    }
   ],
   "source": [
    "@python_app\n",
    "def hello ():\n",
    "    import time\n",
    "    time.sleep(5)\n",
    "    return 'Hello World!'\n",
    "\n",
    "app_future = hello()\n",
    "\n",
    "# Check if the app_future is resolved, which it won't be\n",
    "print('Done: {}'.format(app_future.done()))\n",
    "\n",
    "# Print the result of the app_future. Note: this\n",
    "# call will block and wait for the future to resolve\n",
    "print('Result: {}'.format(app_future.result()))\n",
    "print('Done: {}'.format(app_future.done()))"
   ]
  },
  {
   "cell_type": "code",
   "execution_count": 11,
   "metadata": {},
   "outputs": [
    {
     "name": "stdout",
     "output_type": "stream",
     "text": [
      "[<parsl.app.futures.DataFuture object at 0x11d65ebf0 representing <File at 0x118227eb0 url=/Users/lauvav/Github/vairus-blog/posts/2023-07-20-parsl-test/hello-world.txt scheme=file netloc= path=/Users/lauvav/Github/vairus-blog/posts/2023-07-20-parsl-test/hello-world.txt filename=hello-world.txt> not done>]\n",
      "Done: False\n",
      "Hello World!\n",
      "\n",
      "[<parsl.app.futures.DataFuture object at 0x11d65ebf0 representing <File at 0x118227eb0 url=/Users/lauvav/Github/vairus-blog/posts/2023-07-20-parsl-test/hello-world.txt scheme=file netloc= path=/Users/lauvav/Github/vairus-blog/posts/2023-07-20-parsl-test/hello-world.txt filename=hello-world.txt> done>]\n",
      "Done: True\n"
     ]
    }
   ],
   "source": [
    "# App that echos an input message to an output file\n",
    "@bash_app\n",
    "def slowecho(message, outputs=[]):\n",
    "    return 'sleep 5; echo %s &> %s' % (message, outputs[0])\n",
    "\n",
    "# Call slowecho specifying the output file\n",
    "hello = slowecho('Hello World!', outputs=[File(os.path.join(os.getcwd(), 'hello-world.txt'))])\n",
    "\n",
    "# The AppFuture's outputs attribute is a list of DataFutures\n",
    "print(hello.outputs)\n",
    "\n",
    "# Also check the AppFuture\n",
    "print('Done: {}'.format(hello.done()))\n",
    "\n",
    "# Print the contents of the output DataFuture when complete\n",
    "with open(hello.outputs[0].result(), 'r') as f:\n",
    "     print(f.read())\n",
    "\n",
    "# Now that this is complete, check the DataFutures again, and the Appfuture\n",
    "print(hello.outputs)\n",
    "print('Done: {}'.format(hello.done()))"
   ]
  },
  {
   "cell_type": "code",
   "execution_count": 12,
   "metadata": {},
   "outputs": [
    {
     "name": "stdout",
     "output_type": "stream",
     "text": [
      "Hello World!\n",
      "\n"
     ]
    }
   ],
   "source": [
    "from parsl.data_provider.files import File\n",
    "\n",
    "# App that copies the contents of a file to another file\n",
    "@bash_app\n",
    "def copy(inputs=[], outputs=[]):\n",
    "     return 'cat %s &> %s' % (inputs[0], outputs[0])\n",
    "\n",
    "# Create a test file\n",
    "open(os.path.join(os.getcwd(), 'cat-in.txt'), 'w').write('Hello World!\\n')\n",
    "\n",
    "# Create Parsl file objects\n",
    "parsl_infile = File(os.path.join(os.getcwd(), 'cat-in.txt'),)\n",
    "parsl_outfile = File(os.path.join(os.getcwd(), 'cat-out.txt'),)\n",
    "\n",
    "# Call the copy app with the Parsl file\n",
    "copy_future = copy(inputs=[parsl_infile], outputs=[parsl_outfile])\n",
    "\n",
    "# Read what was redirected to the output file\n",
    "with open(copy_future.outputs[0].result(), 'r') as f:\n",
    "     print(f.read())"
   ]
  },
  {
   "cell_type": "code",
   "execution_count": 13,
   "metadata": {},
   "outputs": [
    {
     "name": "stdout",
     "output_type": "stream",
     "text": [
      "['0', '1', '10', '11', '12', '13', '14', '15', '16', '17', '18', '19', '2', '20', '21', '22', '23', '24', '25', '26', '27', '28', '29', '3', '30', '31', '32', '33', '34', '35', '36', '37', '38', '39', '4', '40', '41', '42', '43', '44', '45', '46', '47', '48', '49', '5', '50', '51', '52', '53', '54', '55', '56', '57', '58', '59', '6', '60', '61', '62', '63', '64', '65', '66', '67', '68', '69', '7', '70', '71', '72', '73', '74', '75', '76', '77', '78', '79', '8', '80', '81', '82', '83', '84', '85', '86', '87', '88', '89', '9', '90', '91', '92', '93', '94', '95', '96', '97', '98', '99']\n"
     ]
    }
   ],
   "source": [
    "from parsl.data_provider.files import File\n",
    "\n",
    "@python_app\n",
    "def sort_numbers(inputs=[]):\n",
    "    with open(inputs[0].filepath, 'r') as f:\n",
    "        strs = [n.strip() for n in f.readlines()]\n",
    "        strs.sort()\n",
    "        return strs\n",
    "\n",
    "unsorted_file = File('https://raw.githubusercontent.com/Parsl/parsl-tutorial/master/input/unsorted.txt')\n",
    "\n",
    "f = sort_numbers(inputs=[unsorted_file])\n",
    "print (f.result())"
   ]
  },
  {
   "cell_type": "code",
   "execution_count": 14,
   "metadata": {},
   "outputs": [
    {
     "name": "stdout",
     "output_type": "stream",
     "text": [
      "Random number: 8\n",
      "File contents: 8\n",
      "\n"
     ]
    }
   ],
   "source": [
    "# App that generates a random number\n",
    "@python_app\n",
    "def generate(limit):\n",
    "      from random import randint\n",
    "      return randint(1,limit)\n",
    "\n",
    "# App that writes a variable to a file\n",
    "@bash_app\n",
    "def save(variable, outputs=[]):\n",
    "      return 'echo %s &> %s' % (variable, outputs[0])\n",
    "\n",
    "# Generate a random number between 1 and 10\n",
    "random = generate(10)\n",
    "print('Random number: %s' % random.result())\n",
    "\n",
    "# Save the random number to a file\n",
    "saved = save(random, outputs=[File(os.path.join(os.getcwd(), 'sequential-output.txt'))])\n",
    "\n",
    "# Print the output file\n",
    "with open(saved.outputs[0].result(), 'r') as f:\n",
    "      print('File contents: %s' % f.read())"
   ]
  },
  {
   "cell_type": "code",
   "execution_count": 15,
   "metadata": {},
   "outputs": [
    {
     "name": "stdout",
     "output_type": "stream",
     "text": [
      "[6, 2, 2, 7, 2]\n"
     ]
    }
   ],
   "source": [
    "# App that generates a random number after a delay\n",
    "@python_app\n",
    "def generate(limit,delay):\n",
    "    from random import randint\n",
    "    import time\n",
    "    time.sleep(delay)\n",
    "    return randint(1,limit)\n",
    "\n",
    "# Generate 5 random numbers between 1 and 10\n",
    "rand_nums = []\n",
    "for i in range(5):\n",
    "    rand_nums.append(generate(10,i))\n",
    "\n",
    "# Wait for all apps to finish and collect the results\n",
    "outputs = [i.result() for i in rand_nums]\n",
    "\n",
    "# Print results\n",
    "print(outputs)"
   ]
  },
  {
   "cell_type": "code",
   "execution_count": 16,
   "metadata": {},
   "outputs": [
    {
     "name": "stdout",
     "output_type": "stream",
     "text": [
      "85706\n"
     ]
    }
   ],
   "source": [
    "# App that generates a semi-random number between 0 and 32,767\n",
    "@bash_app\n",
    "def generate(outputs=[]):\n",
    "    return \"echo $(( RANDOM )) &> {}\".format(outputs[0])\n",
    "\n",
    "# App that concatenates input files into a single output file\n",
    "@bash_app\n",
    "def concat(inputs=[], outputs=[]):\n",
    "    return \"cat {0} > {1}\".format(\" \".join([i.filepath for i in inputs]), outputs[0])\n",
    "\n",
    "# App that calculates the sum of values in a list of input files\n",
    "@python_app\n",
    "def total(inputs=[]):\n",
    "    total = 0\n",
    "    with open(inputs[0], 'r') as f:\n",
    "        for l in f:\n",
    "            total += int(l)\n",
    "    return total\n",
    "\n",
    "# Create 5 files with semi-random numbers in parallel\n",
    "output_files = []\n",
    "for i in range (5):\n",
    "     output_files.append(generate(outputs=[File(os.path.join(os.getcwd(), 'random-{}.txt'.format(i)))]))\n",
    "\n",
    "# Concatenate the files into a single file\n",
    "cc = concat(inputs=[i.outputs[0] for i in output_files],\n",
    "            outputs=[File(os.path.join(os.getcwd(), 'all.txt'))])\n",
    "\n",
    "# Calculate the sum of the random numbers\n",
    "total = total(inputs=[cc.outputs[0]])\n",
    "print (total.result())"
   ]
  },
  {
   "cell_type": "code",
   "execution_count": 17,
   "metadata": {},
   "outputs": [
    {
     "name": "stdout",
     "output_type": "stream",
     "text": [
      "55\n"
     ]
    }
   ],
   "source": [
    "from parsl.app.app import join_app, python_app\n",
    "\n",
    "@python_app\n",
    "def add(*args):\n",
    "    \"\"\"Add all of the arguments together. If no arguments, then\n",
    "    zero is returned (the neutral element of +)\n",
    "    \"\"\"\n",
    "    accumulator = 0\n",
    "    for v in args:\n",
    "        accumulator += v\n",
    "    return accumulator\n",
    "\n",
    "\n",
    "@join_app\n",
    "def fibonacci(n):\n",
    "    if n == 0:\n",
    "        return add()\n",
    "    elif n == 1:\n",
    "        return add(1)\n",
    "    else:\n",
    "        return add(fibonacci(n - 1), fibonacci(n - 2))\n",
    "\n",
    "print(fibonacci(10).result())"
   ]
  },
  {
   "cell_type": "code",
   "execution_count": 18,
   "metadata": {},
   "outputs": [
    {
     "name": "stdout",
     "output_type": "stream",
     "text": [
      "a: 3.14020 b: 3.14044 c: 3.14084\n",
      "Average: 3.14049\n"
     ]
    }
   ],
   "source": [
    "# App that estimates pi by placing points in a box\n",
    "@python_app\n",
    "def pi(num_points):\n",
    "    from random import random\n",
    "\n",
    "    inside = 0\n",
    "    for i in range(num_points):\n",
    "        x, y = random(), random()  # Drop a random point in the box.\n",
    "        if x**2 + y**2 < 1:        # Count points within the circle.\n",
    "            inside += 1\n",
    "\n",
    "    return (inside*4 / num_points)\n",
    "\n",
    "# App that computes the mean of three values\n",
    "@python_app\n",
    "def mean(a, b, c):\n",
    "    return (a + b + c) / 3\n",
    "\n",
    "# Estimate three values for pi\n",
    "a, b, c = pi(10**6), pi(10**6), pi(10**6)\n",
    "\n",
    "# Compute the mean of the three estimates\n",
    "mean_pi  = mean(a, b, c)\n",
    "\n",
    "# Print the results\n",
    "print(\"a: {:.5f} b: {:.5f} c: {:.5f}\".format(a.result(), b.result(), c.result()))\n",
    "print(\"Average: {:.5f}\".format(mean_pi.result()))"
   ]
  },
  {
   "cell_type": "code",
   "execution_count": 19,
   "metadata": {},
   "outputs": [],
   "source": [
    "from parsl.config import Config\n",
    "from parsl.executors.threads import ThreadPoolExecutor\n",
    "\n",
    "local_threads = Config(\n",
    "    executors=[\n",
    "        ThreadPoolExecutor(\n",
    "            max_threads=8,\n",
    "            label='local_threads'\n",
    "        )\n",
    "    ]\n",
    ")\n"
   ]
  },
  {
   "cell_type": "code",
   "execution_count": null,
   "metadata": {},
   "outputs": [],
   "source": []
  }
 ],
 "metadata": {
  "kernelspec": {
   "display_name": "parsl-tools",
   "language": "python",
   "name": "python3"
  },
  "language_info": {
   "codemirror_mode": {
    "name": "ipython",
    "version": 3
   },
   "file_extension": ".py",
   "mimetype": "text/x-python",
   "name": "python",
   "nbconvert_exporter": "python",
   "pygments_lexer": "ipython3",
   "version": "3.10.12"
  },
  "orig_nbformat": 4
 },
 "nbformat": 4,
 "nbformat_minor": 2
}
