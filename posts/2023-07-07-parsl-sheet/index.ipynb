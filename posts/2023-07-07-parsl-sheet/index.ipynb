{
  "cells": [
    {
      "cell_type": "raw",
      "id": "fb38a63c",
      "metadata": {},
      "source": [
        "---\n",
        "title: \"Parsl Cheatsheet\"\n",
        "author: \"Laura Vairus\"\n",
        "date: \"07-07-2023\"\n",
        "---"
      ]
    },
    {
      "cell_type": "markdown",
      "id": "ad0548fa",
      "metadata": {},
      "source": [
        "### Imports"
      ]
    },
    {
      "cell_type": "code",
      "execution_count": 1,
      "id": "0f4f08e3",
      "metadata": {
        "vscode": {
          "languageId": "python"
        }
      },
      "outputs": [],
      "source": [
        "import parsl\n",
        "from parsl.app.app import python_app, bash_app"
      ]
    },
    {
      "cell_type": "markdown",
      "id": "414616b9",
      "metadata": {},
      "source": [
        "### Making a python function parallelizable:"
      ]
    },
    {
      "cell_type": "code",
      "execution_count": 2,
      "id": "ffb13324",
      "metadata": {
        "vscode": {
          "languageId": "python"
        }
      },
      "outputs": [
        {
          "ename": "RuntimeError",
          "evalue": "Must first load config",
          "output_type": "error",
          "traceback": [
            "\u001b[0;31m---------------------------------------------------------------------------\u001b[0m",
            "\u001b[0;31mRuntimeError\u001b[0m                              Traceback (most recent call last)",
            "Cell \u001b[0;32mIn[2], line 8\u001b[0m\n\u001b[1;32m      5\u001b[0m   \u001b[39mreturn\u001b[39;00m param\n\u001b[1;32m      7\u001b[0m \u001b[39m# call function normally and it will be run async\u001b[39;00m\n\u001b[0;32m----> 8\u001b[0m my_func(\u001b[39m'\u001b[39;49m\u001b[39mparam\u001b[39;49m\u001b[39m'\u001b[39;49m) \n",
            "File \u001b[0;32m~/.local/polaris/conda/2023-01-10-unstable/lib/python3.10/site-packages/parsl/app/python.py:66\u001b[0m, in \u001b[0;36mPythonApp.__call__\u001b[0;34m(self, *args, **kwargs)\u001b[0m\n\u001b[1;32m     63\u001b[0m invocation_kwargs\u001b[39m.\u001b[39mupdate(kwargs)\n\u001b[1;32m     65\u001b[0m \u001b[39mif\u001b[39;00m \u001b[39mself\u001b[39m\u001b[39m.\u001b[39mdata_flow_kernel \u001b[39mis\u001b[39;00m \u001b[39mNone\u001b[39;00m:\n\u001b[0;32m---> 66\u001b[0m     dfk \u001b[39m=\u001b[39m DataFlowKernelLoader\u001b[39m.\u001b[39;49mdfk()\n\u001b[1;32m     67\u001b[0m \u001b[39melse\u001b[39;00m:\n\u001b[1;32m     68\u001b[0m     dfk \u001b[39m=\u001b[39m \u001b[39mself\u001b[39m\u001b[39m.\u001b[39mdata_flow_kernel\n",
            "File \u001b[0;32m~/.local/polaris/conda/2023-01-10-unstable/lib/python3.10/site-packages/parsl/dataflow/dflow.py:1432\u001b[0m, in \u001b[0;36mDataFlowKernelLoader.dfk\u001b[0;34m(cls)\u001b[0m\n\u001b[1;32m   1430\u001b[0m \u001b[39m\u001b[39m\u001b[39m\"\"\"Return the currently-loaded DataFlowKernel.\"\"\"\u001b[39;00m\n\u001b[1;32m   1431\u001b[0m \u001b[39mif\u001b[39;00m \u001b[39mcls\u001b[39m\u001b[39m.\u001b[39m_dfk \u001b[39mis\u001b[39;00m \u001b[39mNone\u001b[39;00m:\n\u001b[0;32m-> 1432\u001b[0m     \u001b[39mraise\u001b[39;00m \u001b[39mRuntimeError\u001b[39;00m(\u001b[39m'\u001b[39m\u001b[39mMust first load config\u001b[39m\u001b[39m'\u001b[39m)\n\u001b[1;32m   1433\u001b[0m \u001b[39mreturn\u001b[39;00m \u001b[39mcls\u001b[39m\u001b[39m.\u001b[39m_dfk\n",
            "\u001b[0;31mRuntimeError\u001b[0m: Must first load config"
          ]
        }
      ],
      "source": [
        "@python_app\n",
        "def my_func(param):\n",
        "  # import any packages you need\n",
        "  print(param)\n",
        "  return param\n",
        "\n",
        "# call function normally and it will be run async\n",
        "my_func('param') "
      ]
    },
    {
      "cell_type": "markdown",
      "id": "fff85786",
      "metadata": {},
      "source": [
        "### Making a bash function parallelizable"
      ]
    },
    {
      "cell_type": "code",
      "execution_count": null,
      "id": "4f76b588",
      "metadata": {
        "vscode": {
          "languageId": "python"
        }
      },
      "outputs": [],
      "source": [
        "import parsl\n",
        "from parsl.app.app import bash_app\n",
        "\n",
        "@bash_app\n",
        "def bash_func(stdout='path/output.stdout', stderr='path/error.stderr'):\n",
        "    return 'bash code string'\n",
        "\n",
        "# call function\n",
        "bash_func().result()\n",
        "\n",
        "# read the output file\n",
        "with open('output-filename.stdout', 'r') as f:\n",
        "     print(f.read())"
      ]
    },
    {
      "cell_type": "markdown",
      "id": "85541f3d",
      "metadata": {},
      "source": [
        "### AppFutures\n",
        "when you run apps that take a long time, instead of getting a variable for your return result, you get an appfuture variable, which holds information about the running code."
      ]
    },
    {
      "cell_type": "code",
      "execution_count": null,
      "id": "3aa5e6ae",
      "metadata": {
        "vscode": {
          "languageId": "python"
        }
      },
      "outputs": [],
      "source": [
        "@python_app\n",
        "def func ():\n",
        "    # code\n",
        "\n",
        "#assigning variable\n",
        "app_future = func()\n",
        "\n",
        "# boolean on whether the function is finished running or not\n",
        "app_future.done()\n",
        "\n",
        "# returns result, warning: calling this will make you wait until the function is finished\n",
        "app_future.result()\n",
        "\n",
        "# returns any exceptions raised during the app execution.\n",
        "app_future.exception()\n",
        "\n",
        "# attribute of appfuture, list of all DataFutures of function\n",
        "app_future.outputs"
      ]
    },
    {
      "cell_type": "markdown",
      "id": "80ef01a7",
      "metadata": {},
      "source": [
        "### DataFutures\n",
        "when you run apps that take a long time that return files, instead of getting the files for your results, you get an datafutures, which can be accessed through your appfuture's attributes, and which contain information about the files you will receive. "
      ]
    },
    {
      "cell_type": "code",
      "execution_count": null,
      "id": "074df3ad",
      "metadata": {
        "vscode": {
          "languageId": "python"
        }
      },
      "outputs": [],
      "source": [
        "#assigning variable\n",
        "data_future1 = app_future[0]\n",
        "\n",
        "# boolean on whether the data is available\n",
        "data_future1.done()\n",
        "\n",
        "# retrieves the data object (e.g., file path, value) when it becomes available.\n",
        "data_future1.result()\n",
        "\n",
        "# retrieves any exceptions raised during the data retrieval.\n",
        "data_future1.exception()\n",
        "\n",
        "# references the parent AppFuture object that produced the data.\n",
        "data_future1.parent"
      ]
    },
    {
      "cell_type": "markdown",
      "id": "c41b4de5",
      "metadata": {},
      "source": [
        "### dataflowkernel\n",
        "\n",
        "wip\n"
      ]
    }
  ],
  "metadata": {
    "kernelspec": {
      "display_name": "Python 3",
      "language": "python",
      "name": "python3"
    }
  },
  "nbformat": 4,
  "nbformat_minor": 5
}
