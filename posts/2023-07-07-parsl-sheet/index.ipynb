{
  "cells": [
    {
      "cell_type": "raw",
      "metadata": {},
      "source": [
        "---\n",
        "title: \"Parsl Cheatsheet\"\n",
        "author: \"Laura Vairus\"\n",
        "date: \"07-07-2023\"\n",
        "---"
      ],
      "id": "fb38a63c"
    },
    {
      "cell_type": "markdown",
      "metadata": {},
      "source": [
        "### Imports"
      ],
      "id": "ad0548fa"
    },
    {
      "cell_type": "code",
      "metadata": {},
      "source": [
        "import parsl\n",
        "from parsl.app.app import python_app, bash_app"
      ],
      "id": "0f4f08e3",
      "execution_count": null,
      "outputs": []
    },
    {
      "cell_type": "markdown",
      "metadata": {},
      "source": [
        "### Making a python function parallelizable:"
      ],
      "id": "414616b9"
    },
    {
      "cell_type": "code",
      "metadata": {},
      "source": [
        "@python_app\n",
        "def py_func(param):\n",
        "  # import any packages you need\n",
        "  # code \n",
        "\n",
        "# call function normally and it will be run async\n",
        "my_func(param) "
      ],
      "id": "ffb13324",
      "execution_count": null,
      "outputs": []
    },
    {
      "cell_type": "markdown",
      "metadata": {},
      "source": [
        "### Making a bash function parallelizable"
      ],
      "id": "fff85786"
    },
    {
      "cell_type": "code",
      "metadata": {},
      "source": [
        "import parsl\n",
        "from parsl.app.app import bash_app\n",
        "\n",
        "@bash_app\n",
        "def bash_func(stdout='path/output.stdout', stderr='path/error.stderr'):\n",
        "    return 'bash code string'\n",
        "\n",
        "# call function\n",
        "bash_func().result()\n",
        "\n",
        "# read the output file\n",
        "with open('output-filename.stdout', 'r') as f:\n",
        "     print(f.read())"
      ],
      "id": "4f76b588",
      "execution_count": null,
      "outputs": []
    },
    {
      "cell_type": "markdown",
      "metadata": {},
      "source": [
        "### AppFutures\n",
        "when you run apps that take a long time, instead of getting a variable for your return result, you get an appfuture variable, which holds information about the running code."
      ],
      "id": "85541f3d"
    },
    {
      "cell_type": "code",
      "metadata": {},
      "source": [
        "@python_app\n",
        "def func ():\n",
        "    # code\n",
        "\n",
        "#assigning variable\n",
        "app_future = func()\n",
        "\n",
        "# boolean on whether the function is finished running or not\n",
        "app_future.done()\n",
        "\n",
        "# returns result, warning: calling this will make you wait until the function is finished\n",
        "app_future.result()\n",
        "\n",
        "# returns any exceptions raised during the app execution.\n",
        "app_future.exception()\n",
        "\n",
        "# attribute of appfuture, list of all DataFutures of function\n",
        "app_future.outputs"
      ],
      "id": "3aa5e6ae",
      "execution_count": null,
      "outputs": []
    },
    {
      "cell_type": "markdown",
      "metadata": {},
      "source": [
        "### DataFutures\n",
        "when you run apps that take a long time that return files, instead of getting the files for your results, you get an datafutures, which can be accessed through your appfuture's attributes, and which contain information about the files you will receive. "
      ],
      "id": "80ef01a7"
    },
    {
      "cell_type": "code",
      "metadata": {},
      "source": [
        "#assigning variable\n",
        "data_future1 = app_future[0]\n",
        "\n",
        "# boolean on whether the data is available\n",
        "data_future1.done()\n",
        "\n",
        "# retrieves the data object (e.g., file path, value) when it becomes available.\n",
        "data_future1.result()\n",
        "\n",
        "# retrieves any exceptions raised during the data retrieval.\n",
        "data_future1.exception()\n",
        "\n",
        "# references the parent AppFuture object that produced the data.\n",
        "data_future1.parent"
      ],
      "id": "074df3ad",
      "execution_count": null,
      "outputs": []
    },
    {
      "cell_type": "markdown",
      "metadata": {},
      "source": [
        "### dataflowkernel\n",
        "\n",
        "wip\n"
      ],
      "id": "c41b4de5"
    }
  ],
  "metadata": {
    "kernelspec": {
      "name": "python3",
      "language": "python",
      "display_name": "Python 3 (ipykernel)"
    }
  },
  "nbformat": 4,
  "nbformat_minor": 5
}