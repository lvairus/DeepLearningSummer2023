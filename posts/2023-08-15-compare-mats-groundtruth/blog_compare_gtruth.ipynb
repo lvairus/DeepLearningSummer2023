{
 "cells": [
  {
   "cell_type": "markdown",
   "metadata": {},
   "source": [
    "---\n",
    "title: \"Comparing different prediction matrices to ground truth\"\n",
    "author: \"Laura Vairus\"\n",
    "date: \"2023-08-16\"\n",
    "categories: [method, code]\n",
    "---"
   ]
  },
  {
   "cell_type": "markdown",
   "metadata": {},
   "source": [
    "When making the epigenome to query, we want it to be as accurate as possible. Some papers decribe they got their predictions by running enformer on the target interval, randomly shifted up and down, reverse complementing, and averaging them all together. To check which way is best, I made 4 different prediction matrices to evaluate by comparing against the ground truth\n",
    "- (forward) normal forward prediction on the target interval\n",
    "- (reverse) reverse complement prediction on the target interval\n",
    "- (forrev) average of the forward and reverse complement predictions above\n",
    "- (forrevshift) average of the forward and reverse complement prediction on the target interval normally, shifted up 3bps, and shifted down 3bps"
   ]
  },
  {
   "cell_type": "markdown",
   "metadata": {},
   "source": [
    "## Getting ground truth"
   ]
  },
  {
   "cell_type": "markdown",
   "metadata": {},
   "source": [
    "First, I had to get the ground truth data. I used the matrices from \"/grand/TFXcan/imlab/data/enformer_training_data/basenji_data_h5/no_groups_popseq_revised_order/test_pop_seq.hdf5\", which were used to test the training of enformer."
   ]
  },
  {
   "cell_type": "markdown",
   "metadata": {},
   "source": [
    "This hdf5 file contains 4 datasets: pop_sequence, query_regions, sequence, and target.\n",
    "\n",
    "- query regions has 1937 lists of interval data: chromosome number, start position, and end position. shape (1937, 3)\n",
    "- sequence has 1937 DNA sequeces that are 131072 bps long and encoded into a one-hot-matrix of 4 groups. shape (1947, 131072, 4)\n",
    "- target has 1937 target enformer outputs of the usual (896, 5313) bin by track matrices. shape (1937, 896, 5313)\n",
    "\n",
    "I will use the target matrices as the ground truth\n"
   ]
  },
  {
   "cell_type": "markdown",
   "metadata": {},
   "source": [
    "There was some confusion around whether the 1937 'target' predictions and 'query_region' intervals lined up so I wrote some code to compare each 'sequence' entry to the one-hot-encoded extraction of the corresponding 'query_regions' interval from the hg38 reference genome"
   ]
  },
  {
   "cell_type": "markdown",
   "metadata": {},
   "source": [
    "### code setup"
   ]
  },
  {
   "cell_type": "code",
   "execution_count": 35,
   "metadata": {},
   "outputs": [],
   "source": [
    "# imports\n",
    "\n",
    "import h5py\n",
    "import numpy as np\n",
    "import pandas as pd\n",
    "import matplotlib.pyplot as plt\n",
    "import tensorflow as tf\n",
    "import tensorflow_hub as hub\n",
    "import kipoiseq\n",
    "from kipoiseq import Interval\n",
    "import pyfaidx\n",
    "import joblib\n",
    "from collections import Counter"
   ]
  },
  {
   "cell_type": "code",
   "execution_count": 3,
   "metadata": {},
   "outputs": [],
   "source": [
    "# # @title `Enformer`, `EnformerScoreVariantsNormalized`, `EnformerScoreVariantsPCANormalized`,\n",
    "# SEQUENCE_LENGTH = 393216\n",
    "\n",
    "# class Enformer:\n",
    "\n",
    "#   def __init__(self, tfhub_url):\n",
    "#     self._model = hub.load(tfhub_url).model\n",
    "\n",
    "#   def predict_on_batch(self, inputs):\n",
    "#     predictions = self._model.predict_on_batch(inputs)\n",
    "#     return {k: v.numpy() for k, v in predictions.items()}\n",
    "\n",
    "#   @tf.function\n",
    "#   def contribution_input_grad(self, input_sequence,\n",
    "#                               target_mask, output_head='human'):\n",
    "#     input_sequence = input_sequence[tf.newaxis]\n",
    "\n",
    "#     target_mask_mass = tf.reduce_sum(target_mask)\n",
    "#     with tf.GradientTape() as tape:\n",
    "#       tape.watch(input_sequence)\n",
    "#       prediction = tf.reduce_sum(\n",
    "#           target_mask[tf.newaxis] *\n",
    "#           self._model.predict_on_batch(input_sequence)[output_head]) / target_mask_mass\n",
    "\n",
    "#     input_grad = tape.gradient(prediction, input_sequence) * input_sequence\n",
    "#     input_grad = tf.squeeze(input_grad, axis=0)\n",
    "#     return tf.reduce_sum(input_grad, axis=-1)\n",
    "\n",
    "\n",
    "# class EnformerScoreVariantsRaw:\n",
    "\n",
    "#   def __init__(self, tfhub_url, organism='human'):\n",
    "#     self._model = Enformer(tfhub_url)\n",
    "#     self._organism = organism\n",
    "\n",
    "#   def predict_on_batch(self, inputs):\n",
    "#     ref_prediction = self._model.predict_on_batch(inputs['ref'])[self._organism]\n",
    "#     alt_prediction = self._model.predict_on_batch(inputs['alt'])[self._organism]\n",
    "\n",
    "#     return alt_prediction.mean(axis=1) - ref_prediction.mean(axis=1)\n",
    "\n",
    "\n",
    "# class EnformerScoreVariantsNormalized:\n",
    "\n",
    "#   def __init__(self, tfhub_url, transform_pkl_path,\n",
    "#                organism='human'):\n",
    "#     assert organism == 'human', 'Transforms only compatible with organism=human'\n",
    "#     self._model = EnformerScoreVariantsRaw(tfhub_url, organism)\n",
    "#     with tf.io.gfile.GFile(transform_pkl_path, 'rb') as f:\n",
    "#       transform_pipeline = joblib.load(f)\n",
    "#     self._transform = transform_pipeline.steps[0][1]  # StandardScaler.\n",
    "\n",
    "#   def predict_on_batch(self, inputs):\n",
    "#     scores = self._model.predict_on_batch(inputs)\n",
    "#     return self._transform.transform(scores)\n",
    "\n",
    "\n",
    "# class EnformerScoreVariantsPCANormalized:\n",
    "\n",
    "#   def __init__(self, tfhub_url, transform_pkl_path,\n",
    "#                organism='human', num_top_features=500):\n",
    "#     self._model = EnformerScoreVariantsRaw(tfhub_url, organism)\n",
    "#     with tf.io.gfile.GFile(transform_pkl_path, 'rb') as f:\n",
    "#       self._transform = joblib.load(f)\n",
    "#     self._num_top_features = num_top_features\n",
    "\n",
    "#   def predict_on_batch(self, inputs):\n",
    "#     scores = self._model.predict_on_batch(inputs)\n",
    "#     return self._transform.transform(scores)[:, :self._num_top_features]\n",
    "\n",
    "\n",
    "# # TODO(avsec): Add feature description: Either PCX, or full names."
   ]
  },
  {
   "cell_type": "code",
   "execution_count": 3,
   "metadata": {},
   "outputs": [],
   "source": [
    "# @title `variant_centered_sequences`\n",
    "\n",
    "class FastaStringExtractor:\n",
    "\n",
    "    def __init__(self, fasta_file):\n",
    "        self.fasta = pyfaidx.Fasta(fasta_file)\n",
    "        self._chromosome_sizes = {k: len(v) for k, v in self.fasta.items()}\n",
    "\n",
    "    def extract(self, interval: Interval, **kwargs) -> str:\n",
    "        # Truncate interval if it extends beyond the chromosome lengths.\n",
    "        chromosome_length = self._chromosome_sizes[interval.chrom]\n",
    "        trimmed_interval = Interval(interval.chrom,\n",
    "                                    max(interval.start, 0),\n",
    "                                    min(interval.end, chromosome_length),\n",
    "                                    )\n",
    "        # pyfaidx wants a 1-based interval\n",
    "        sequence = str(self.fasta.get_seq(trimmed_interval.chrom,\n",
    "                                          trimmed_interval.start + 1,\n",
    "                                          trimmed_interval.stop).seq).upper()\n",
    "        # Fill truncated values with N's.\n",
    "        pad_upstream = 'N' * max(-interval.start, 0)\n",
    "        pad_downstream = 'N' * max(interval.end - chromosome_length, 0)\n",
    "        return pad_upstream + sequence + pad_downstream\n",
    "\n",
    "    def close(self):\n",
    "        return self.fasta.close()\n",
    "\n",
    "\n",
    "def variant_generator(vcf_file, gzipped=False):\n",
    "  \"\"\"Yields a kipoiseq.dataclasses.Variant for each row in VCF file.\"\"\"\n",
    "  def _open(file):\n",
    "    return gzip.open(vcf_file, 'rt') if gzipped else open(vcf_file)\n",
    "\n",
    "  with _open(vcf_file) as f:\n",
    "    for line in f:\n",
    "      if line.startswith('#'):\n",
    "        continue\n",
    "      chrom, pos, id, ref, alt_list = line.split('\\t')[:5]\n",
    "      # Split ALT alleles and return individual variants as output.\n",
    "      for alt in alt_list.split(','):\n",
    "        yield kipoiseq.dataclasses.Variant(chrom=chrom, pos=pos,\n",
    "                                           ref=ref, alt=alt, id=id)\n",
    "\n",
    "\n",
    "def one_hot_encode(sequence):\n",
    "  return kipoiseq.transforms.functional.one_hot_dna(sequence).astype(np.float32)\n",
    "\n",
    "\n",
    "def variant_centered_sequences(vcf_file, sequence_length, gzipped=False,\n",
    "                               chr_prefix=''):\n",
    "  seq_extractor = kipoiseq.extractors.VariantSeqExtractor(\n",
    "    reference_sequence=FastaStringExtractor(fasta_file))\n",
    "\n",
    "  for variant in variant_generator(vcf_file, gzipped=gzipped):\n",
    "    interval = Interval(chr_prefix + variant.chrom,\n",
    "                        variant.pos, variant.pos)\n",
    "    interval = interval.resize(sequence_length)\n",
    "    center = interval.center() - interval.start\n",
    "\n",
    "    reference = seq_extractor.extract(interval, [], anchor=center)\n",
    "    alternate = seq_extractor.extract(interval, [variant], anchor=center)\n",
    "\n",
    "    yield {'inputs': {'ref': one_hot_encode(reference),\n",
    "                      'alt': one_hot_encode(alternate)},\n",
    "           'metadata': {'chrom': chr_prefix + variant.chrom,\n",
    "                        'pos': variant.pos,\n",
    "                        'id': variant.id,\n",
    "                        'ref': variant.ref,\n",
    "                        'alt': variant.alt}}"
   ]
  },
  {
   "cell_type": "code",
   "execution_count": 5,
   "metadata": {},
   "outputs": [],
   "source": [
    "fasta_extractor38 = FastaStringExtractor('/lus/grand/projects/TFXcan/imlab/data/hg_sequences/hg38/Homo_sapiens_assembly38.fasta')\n",
    "fasta_extractor19 = FastaStringExtractor('/lus/grand/projects/TFXcan/imlab/data/hg_sequences/hg19/raw/genome.fa')"
   ]
  },
  {
   "cell_type": "markdown",
   "metadata": {},
   "source": [
    "### checking values"
   ]
  },
  {
   "cell_type": "code",
   "execution_count": 4,
   "metadata": {},
   "outputs": [],
   "source": [
    "with h5py.File(f'/grand/TFXcan/imlab/data/enformer_training_data/basenji_data_h5/no_groups_popseq_revised_order/test_pop_seq.hdf5') as f:\n",
    "    intervals = f['query_regions'][()]"
   ]
  },
  {
   "cell_type": "code",
   "execution_count": 38,
   "metadata": {},
   "outputs": [],
   "source": [
    "def check_int_seqs(intervals, i):\n",
    "    for interval in intervals:\n",
    "\n",
    "        if i % 20 == 0:\n",
    "            print(f'now on index {i}, interval {interval}')\n",
    "\n",
    "        chr = interval[0]\n",
    "        start = interval[1]\n",
    "        end = interval[2]\n",
    "\n",
    "        if chr == 0:\n",
    "            chr = 'X'\n",
    "\n",
    "        with h5py.File(f'/grand/TFXcan/imlab/data/enformer_training_data/basenji_data_h5/no_groups_popseq_revised_order/test_pop_seq.hdf5') as f:\n",
    "            target_seq = f['sequence'][()][i,:,:]\n",
    "        \n",
    "        target_interval = kipoiseq.Interval(f'chr{chr}', start, end)\n",
    "        seq38 = one_hot_encode(fasta_extractor38.extract(target_interval))\n",
    "        \n",
    "        if np.array_equal(target_seq, seq38) == False:\n",
    "            print(f'not equal at index {i}, interval {interval}')\n",
    "        \n",
    "        i += 1\n"
   ]
  },
  {
   "cell_type": "code",
   "execution_count": null,
   "metadata": {},
   "outputs": [
    {
     "name": "stdout",
     "output_type": "stream",
     "text": [
      "now on index 1160, interval [        0 125746319 125877391]\n",
      "now on index 1180, interval [        0 122535027 122666099]\n",
      "now on index 1200, interval [      14 77070902 77201974]\n",
      "now on index 1220, interval [      14 58376595 58507667]\n",
      "now on index 1240, interval [        3 189435603 189566675]\n",
      "now on index 1260, interval [      15 23391563 23522635]\n",
      "now on index 1280, interval [      12 11085476 11216548]\n",
      "now on index 1300, interval [      14 96797410 96928482]\n",
      "now on index 1320, interval [      14 58605973 58737045]\n",
      "now on index 1340, interval [       14 105169707 105300779]\n",
      "now on index 1360, interval [      14 36585685 36716757]\n",
      "now on index 1380, interval [      14 87507601 87638673]\n",
      "now on index 1400, interval [      10 37784915 37915987]\n",
      "now on index 1420, interval [       14 100926214 101057286]\n",
      "now on index 1440, interval [      14 45416738 45547810]\n",
      "now on index 1460, interval [      11 32207325 32338397]\n",
      "now on index 1480, interval [       14 104825640 104956712]\n",
      "now on index 1500, interval [      14 81773151 81904223]\n",
      "now on index 1520, interval [      14 91292338 91423410]\n",
      "now on index 1540, interval [      14 94388941 94520013]\n",
      "now on index 1560, interval [      14 49774920 49905992]\n",
      "now on index 1580, interval [        3 194825986 194957058]\n",
      "now on index 1600, interval [      19 43297334 43428406]\n",
      "now on index 1620, interval [      14 56885638 57016710]\n",
      "now on index 1640, interval [        0 128154788 128285860]\n",
      "now on index 1660, interval [      14 28328077 28459149]\n",
      "now on index 1680, interval [      15 22907247 23038319]\n",
      "now on index 1700, interval [      14 66978270 67109342]\n",
      "now on index 1720, interval [        2 124046842 124177914]\n",
      "now on index 1740, interval [        2 123014641 123145713]\n",
      "now on index 1760, interval [      14 50348365 50479437]\n",
      "now on index 1780, interval [      15 24882520 25013592]\n",
      "now on index 1800, interval [        0 140770578 140901650]\n",
      "now on index 1820, interval [      13 86482357 86613429]\n",
      "now on index 1840, interval [        3 193335029 193466101]\n",
      "now on index 1860, interval [      14 64111045 64242117]\n",
      "now on index 1880, interval [       12 132797807 132928879]\n",
      "now on index 1900, interval [      11 35074550 35205622]\n",
      "now on index 1920, interval [        3 183471775 183602847]\n"
     ]
    }
   ],
   "source": [
    "check_int_seqs(intervals[541:], 541)"
   ]
  },
  {
   "cell_type": "markdown",
   "metadata": {},
   "source": [
    "Every sequence except for the ones on indices 317, 1159, and 541 matched up with the correspomding extracted sequence. the 317 and 1159 sequences gave a KeyError that suggested there might be an \"M\" in the extracted region, and the 514th sequence simply did not match it's correspomdong extraction, both of which should be looked into further."
   ]
  },
  {
   "cell_type": "code",
   "execution_count": 23,
   "metadata": {},
   "outputs": [
    {
     "ename": "KeyError",
     "evalue": "'M'",
     "output_type": "error",
     "traceback": [
      "\u001b[0;31m---------------------------------------------------------------------------\u001b[0m",
      "\u001b[0;31mKeyError\u001b[0m                                  Traceback (most recent call last)",
      "Cell \u001b[0;32mIn[23], line 3\u001b[0m\n\u001b[1;32m      1\u001b[0m target_interval \u001b[39m=\u001b[39m kipoiseq\u001b[39m.\u001b[39mInterval(\u001b[39m'\u001b[39m\u001b[39mchr1\u001b[39m\u001b[39m'\u001b[39m, \u001b[39m248654924\u001b[39m, \u001b[39m248785996\u001b[39m)\n\u001b[1;32m      2\u001b[0m extract \u001b[39m=\u001b[39m fasta_extractor38\u001b[39m.\u001b[39mextract(target_interval)\n\u001b[0;32m----> 3\u001b[0m seq38 \u001b[39m=\u001b[39m one_hot_encode(extract)\n",
      "Cell \u001b[0;32mIn[4], line 46\u001b[0m, in \u001b[0;36mone_hot_encode\u001b[0;34m(sequence)\u001b[0m\n\u001b[1;32m     45\u001b[0m \u001b[39mdef\u001b[39;00m \u001b[39mone_hot_encode\u001b[39m(sequence):\n\u001b[0;32m---> 46\u001b[0m   \u001b[39mreturn\u001b[39;00m kipoiseq\u001b[39m.\u001b[39;49mtransforms\u001b[39m.\u001b[39;49mfunctional\u001b[39m.\u001b[39;49mone_hot_dna(sequence)\u001b[39m.\u001b[39mastype(np\u001b[39m.\u001b[39mfloat32)\n",
      "File \u001b[0;32m~/.local/polaris/conda/2023-01-10-unstable/lib/python3.10/site-packages/kipoiseq/transforms/functional.py:135\u001b[0m, in \u001b[0;36mone_hot_dna\u001b[0;34m(seq, dtype)\u001b[0m\n\u001b[1;32m    133\u001b[0m     \u001b[39mreturn\u001b[39;00m out\u001b[39m.\u001b[39mastype(dtype)\n\u001b[1;32m    134\u001b[0m \u001b[39melse\u001b[39;00m:\n\u001b[0;32m--> 135\u001b[0m     \u001b[39mreturn\u001b[39;00m one_hot(seq, alphabet\u001b[39m=\u001b[39;49mDNA, neutral_alphabet\u001b[39m=\u001b[39;49m[\u001b[39m'\u001b[39;49m\u001b[39mN\u001b[39;49m\u001b[39m'\u001b[39;49m], neutral_value\u001b[39m=\u001b[39;49m\u001b[39m.25\u001b[39;49m, dtype\u001b[39m=\u001b[39;49mdtype)\n",
      "File \u001b[0;32m~/.local/polaris/conda/2023-01-10-unstable/lib/python3.10/site-packages/kipoiseq/transforms/functional.py:120\u001b[0m, in \u001b[0;36mone_hot\u001b[0;34m(seq, alphabet, neutral_alphabet, neutral_value, dtype)\u001b[0m\n\u001b[1;32m    118\u001b[0m \u001b[39mif\u001b[39;00m \u001b[39mnot\u001b[39;00m \u001b[39misinstance\u001b[39m(seq, \u001b[39mstr\u001b[39m):\n\u001b[1;32m    119\u001b[0m     \u001b[39mraise\u001b[39;00m \u001b[39mValueError\u001b[39;00m(\u001b[39m\"\u001b[39m\u001b[39mseq needs to be a string\u001b[39m\u001b[39m\"\u001b[39m)\n\u001b[0;32m--> 120\u001b[0m \u001b[39mreturn\u001b[39;00m token2one_hot(tokenize(seq, alphabet, neutral_alphabet), \u001b[39mlen\u001b[39m(alphabet), neutral_value, dtype\u001b[39m=\u001b[39mdtype)\n",
      "File \u001b[0;32m~/.local/polaris/conda/2023-01-10-unstable/lib/python3.10/site-packages/kipoiseq/transforms/functional.py:101\u001b[0m, in \u001b[0;36mtokenize\u001b[0;34m(seq, alphabet, neutral_alphabet)\u001b[0m\n\u001b[1;32m     99\u001b[0m     alphabet_dict[l] \u001b[39m=\u001b[39m \u001b[39m-\u001b[39m\u001b[39m1\u001b[39m\n\u001b[1;32m    100\u001b[0m \u001b[39m# current performance bottleneck\u001b[39;00m\n\u001b[0;32m--> 101\u001b[0m \u001b[39mreturn\u001b[39;00m np\u001b[39m.\u001b[39marray([alphabet_dict[seq[(i \u001b[39m*\u001b[39m nchar):((i \u001b[39m+\u001b[39m \u001b[39m1\u001b[39m) \u001b[39m*\u001b[39m nchar)]] \u001b[39mfor\u001b[39;00m i \u001b[39min\u001b[39;00m \u001b[39mrange\u001b[39m(\u001b[39mlen\u001b[39m(seq) \u001b[39m/\u001b[39m\u001b[39m/\u001b[39m nchar)])\n",
      "File \u001b[0;32m~/.local/polaris/conda/2023-01-10-unstable/lib/python3.10/site-packages/kipoiseq/transforms/functional.py:101\u001b[0m, in \u001b[0;36m<listcomp>\u001b[0;34m(.0)\u001b[0m\n\u001b[1;32m     99\u001b[0m     alphabet_dict[l] \u001b[39m=\u001b[39m \u001b[39m-\u001b[39m\u001b[39m1\u001b[39m\n\u001b[1;32m    100\u001b[0m \u001b[39m# current performance bottleneck\u001b[39;00m\n\u001b[0;32m--> 101\u001b[0m \u001b[39mreturn\u001b[39;00m np\u001b[39m.\u001b[39marray([alphabet_dict[seq[(i \u001b[39m*\u001b[39;49m nchar):((i \u001b[39m+\u001b[39;49m \u001b[39m1\u001b[39;49m) \u001b[39m*\u001b[39;49m nchar)]] \u001b[39mfor\u001b[39;00m i \u001b[39min\u001b[39;00m \u001b[39mrange\u001b[39m(\u001b[39mlen\u001b[39m(seq) \u001b[39m/\u001b[39m\u001b[39m/\u001b[39m nchar)])\n",
      "\u001b[0;31mKeyError\u001b[0m: 'M'"
     ]
    }
   ],
   "source": [
    "# \"M\" error output:\n",
    "\n",
    "# 'M' error at index 317, interval ('chr1', 248654924, 248785996)\n",
    "target_interval = kipoiseq.Interval('chr1', 248654924, 248785996)\n",
    "extract = fasta_extractor38.extract(target_interval)\n",
    "seq38 = one_hot_encode(extract)"
   ]
  },
  {
   "cell_type": "code",
   "execution_count": null,
   "metadata": {},
   "outputs": [],
   "source": [
    "# 'M' error at index 1159, interval [12 132224362 132355434]"
   ]
  },
  {
   "cell_type": "code",
   "execution_count": null,
   "metadata": {},
   "outputs": [],
   "source": [
    "# not equal at 541"
   ]
  },
  {
   "cell_type": "markdown",
   "metadata": {},
   "source": [
    "## Comparing matrices to ground truth"
   ]
  },
  {
   "cell_type": "markdown",
   "metadata": {},
   "source": [
    "for my first test, I chose the 1000th index from the basenji dataset. The interval was \"chr17_20693681_20824753\". So I put that interval normally, shifted up 3 bps, and shifted down 3bps, and selected the option for computing the reverse complement in the enformer pipeline. After getting the prediction results, I read them all in and calculated the averages I wanted."
   ]
  },
  {
   "cell_type": "code",
   "execution_count": 36,
   "metadata": {},
   "outputs": [
    {
     "data": {
      "text/plain": [
       "array([[       10,  37555537,  37686609],\n",
       "       [       14,  87048845,  87179917],\n",
       "       [        0, 136527085, 136658157],\n",
       "       ...,\n",
       "       [       19,  30681544,  30812616],\n",
       "       [       14,  61473198,  61604270],\n",
       "       [        2, 129664471, 129795543]])"
      ]
     },
     "execution_count": 36,
     "metadata": {},
     "output_type": "execute_result"
    }
   ],
   "source": [
    "intervals"
   ]
  },
  {
   "cell_type": "code",
   "execution_count": 42,
   "metadata": {},
   "outputs": [
    {
     "data": {
      "text/plain": [
       "(array([      19, 54280007, 54411079]),\n",
       " array([      17, 22089410, 22220482]),\n",
       " array([      17, 20923059, 21054131]),\n",
       " array([      17, 22433477, 22564549]))"
      ]
     },
     "execution_count": 42,
     "metadata": {},
     "output_type": "execute_result"
    }
   ],
   "source": [
    "intervals[100], intervals[469], intervals[1324], intervals[1931]"
   ]
  },
  {
   "cell_type": "code",
   "execution_count": null,
   "metadata": {},
   "outputs": [],
   "source": [
    "# choose 5 random intervals\n",
    "\n",
    "# run enformer on all of them with shifts\n",
    "\n",
    "# read all predictions and truths in\n",
    "\n",
    "# make diffmats and compare ranges"
   ]
  },
  {
   "cell_type": "markdown",
   "metadata": {},
   "source": [
    "### intervals[1000] = chr17_20693681_20824753"
   ]
  },
  {
   "cell_type": "code",
   "execution_count": 4,
   "metadata": {},
   "outputs": [],
   "source": [
    "# read in predictions\n",
    "\n",
    "with h5py.File(\"/grand/TFXcan/imlab/users/lvairus/reftile_project/predictions_folder/chr17_reference_avg6_shifted_regions/predictions_2023-08-15/chr17_predictions/chr17_reference_avg6/haplotype0/chr17_20693681_20824753_predictions.h5\") as f:\n",
    "    forward = f['chr17_20693681_20824753'][()]\n",
    "\n",
    "with h5py.File(\"/grand/TFXcan/imlab/users/lvairus/reftile_project/predictions_folder/chr17_reference_avg6_shifted_regions/predictions_2023-08-15/chr17_predictions/chr17_reference_avg6/haplotype0_rc/chr17_20693681_20824753_predictions.h5\") as f:\n",
    "    reverse = f['chr17_20693681_20824753'][()]\n",
    "\n",
    "revflip = np.flipud(reverse)\n",
    "forrev = (forward + revflip) / 2\n",
    "\n",
    "with h5py.File(\"/grand/TFXcan/imlab/users/lvairus/reftile_project/predictions_folder/chr17_reference_avg6_shifted_regions/predictions_2023-08-15/chr17_predictions/chr17_reference_avg6/haplotype0/chr17_20693678_20824750_predictions.h5\") as f:\n",
    "    shift_down = f['chr17_20693678_20824750'][()]\n",
    "\n",
    "with h5py.File(\"/grand/TFXcan/imlab/users/lvairus/reftile_project/predictions_folder/chr17_reference_avg6_shifted_regions/predictions_2023-08-15/chr17_predictions/chr17_reference_avg6/haplotype0_rc/chr17_20693678_20824750_predictions.h5\") as f:\n",
    "    shift_down_rev = f['chr17_20693678_20824750'][()]\n",
    "shift_down_revflip = np.flipud(shift_down_rev)\n",
    "\n",
    "with h5py.File(\"/grand/TFXcan/imlab/users/lvairus/reftile_project/predictions_folder/chr17_reference_avg6_shifted_regions/predictions_2023-08-15/chr17_predictions/chr17_reference_avg6/haplotype0/chr17_20693684_20824756_predictions.h5\") as f:\n",
    "    shift_up = f['chr17_20693684_20824756'][()]\n",
    "\n",
    "with h5py.File(\"/grand/TFXcan/imlab/users/lvairus/reftile_project/predictions_folder/chr17_reference_avg6_shifted_regions/predictions_2023-08-15/chr17_predictions/chr17_reference_avg6/haplotype0_rc/chr17_20693684_20824756_predictions.h5\") as f:\n",
    "    shift_up_rev = f['chr17_20693684_20824756'][()]\n",
    "shift_up_revflip = np.flipud(shift_up_rev)\n",
    "\n",
    "forrevshift = (forward + revflip + shift_down + shift_down_revflip + shift_up + shift_up_revflip) / 6\n",
    "\n",
    "with h5py.File(\"/grand/TFXcan/imlab/data/enformer_training_data/basenji_data_h5/no_groups_popseq_revised_order/test_pop_seq.hdf5\") as f:\n",
    "    gtruth = f['target'][1000]"
   ]
  },
  {
   "cell_type": "code",
   "execution_count": 109,
   "metadata": {},
   "outputs": [],
   "source": [
    "# Comparison functions\n",
    "\n",
    "def get_diffmat(mat1, mat2):\n",
    "    \n",
    "    diffmat = mat1 - mat2\n",
    "    abs_diffmat = np.abs(diffmat)\n",
    "\n",
    "    colwise_maxes1 = np.max(mat1, axis=0)\n",
    "    colwise_maxes2 = np.max(mat2, axis=0)\n",
    "\n",
    "    colwise_maxes_maxes = np.maximum(colwise_maxes1, colwise_maxes2)\n",
    "\n",
    "    max3_diffmat = diffmat / colwise_maxes_maxes\n",
    "    max3_diffmat = np.abs(max3_diffmat)\n",
    "\n",
    "    return max3_diffmat\n",
    "\n",
    "\n",
    "def get_colcorvec(mat1, mat2):\n",
    "    colcorvec = np.empty(5313)\n",
    "\n",
    "    for col in range(5313):\n",
    "        col_coration = np.corrcoef(mat1[:, col], mat2[:, col])[0, 1]\n",
    "        colcorvec[col] = col_correlation\n",
    "    \n",
    "    return colcorvec\n",
    "\n",
    "\n",
    "def get_summary_list(arr):\n",
    "    summary = [\n",
    "        np.min(arr), \n",
    "        np.percentile(arr, 25), \n",
    "        np.median(arr),  \n",
    "        np.percentile(arr, 75), \n",
    "        np.max(arr), \n",
    "        np.mean(arr),\n",
    "    ]\n",
    "    return summary\n",
    "\n",
    "def get_summary(arr):\n",
    "    summary = {\n",
    "        \"mean\": np.mean(arr),\n",
    "        \"median\": np.median(arr),\n",
    "        \"minimum\": np.min(arr),\n",
    "        \"maximum\": np.max(arr),\n",
    "        \"q1\": np.percentile(arr, 25),\n",
    "        \"q3\": np.percentile(arr, 75),\n",
    "    }\n",
    "    return summary\n",
    "\n",
    "def get_outliers(arr, tol):\n",
    "    outs = arr[arr > tol]\n",
    "\n",
    "    return outs\n",
    "\n",
    "def plot_hist(arr, bin_num, xlab='Value', ylab='Frequency', title='Histogram'):\n",
    "    plt.hist(arr, bins=bin_num)\n",
    "    plt.title(title)\n",
    "    plt.xlabel(xlab)\n",
    "    plt.ylabel(ylab)\n",
    "    plt.show()\n"
   ]
  },
  {
   "cell_type": "code",
   "execution_count": 8,
   "metadata": {},
   "outputs": [],
   "source": [
    "# getting diffmats\n",
    "\n",
    "diff_forward = get_diffmat(forward, gtruth)\n",
    "diff_revflip = get_diffmat(revflip, gtruth)\n",
    "diff_forrev = get_diffmat(forrev, gtruth)\n",
    "diff_forrevshift = get_diffmat(forrevshift, gtruth)"
   ]
  },
  {
   "cell_type": "code",
   "execution_count": 9,
   "metadata": {},
   "outputs": [
    {
     "data": {
      "text/plain": [
       "({'mean': 0.08943542,\n",
       "  'median': 0.05417712,\n",
       "  'minimum': 1.0110318e-09,\n",
       "  'maximum': 1.0,\n",
       "  'q1': 0.014311752514913678,\n",
       "  'q3': 0.12876476719975471},\n",
       " {'mean': 0.08381299,\n",
       "  'median': 0.04633711,\n",
       "  'minimum': 1.1658708e-09,\n",
       "  'maximum': 1.0,\n",
       "  'q1': 0.011574378004297614,\n",
       "  'q3': 0.1206325925886631},\n",
       " {'mean': 0.086790316,\n",
       "  'median': 0.050549816,\n",
       "  'minimum': 1.1148584e-09,\n",
       "  'maximum': 1.0,\n",
       "  'q1': 0.013181468239054084,\n",
       "  'q3': 0.12477813474833965},\n",
       " {'mean': 0.08738545,\n",
       "  'median': 0.051302373,\n",
       "  'minimum': 9.407441e-10,\n",
       "  'maximum': 1.0,\n",
       "  'q1': 0.013385547325015068,\n",
       "  'q3': 0.12577302753925323})"
      ]
     },
     "execution_count": 9,
     "metadata": {},
     "output_type": "execute_result"
    }
   ],
   "source": [
    "# getting summaries\n",
    "\n",
    "get_summary(diff_forward), get_summary(diff_revflip), get_summary(diff_forrev), get_summary(diff_forrevshift)"
   ]
  },
  {
   "cell_type": "code",
   "execution_count": 52,
   "metadata": {},
   "outputs": [
    {
     "data": {
      "text/html": [
       "<div>\n",
       "<style scoped>\n",
       "    .dataframe tbody tr th:only-of-type {\n",
       "        vertical-align: middle;\n",
       "    }\n",
       "\n",
       "    .dataframe tbody tr th {\n",
       "        vertical-align: top;\n",
       "    }\n",
       "\n",
       "    .dataframe thead th {\n",
       "        text-align: right;\n",
       "    }\n",
       "</style>\n",
       "<table border=\"1\" class=\"dataframe\">\n",
       "  <thead>\n",
       "    <tr style=\"text-align: right;\">\n",
       "      <th></th>\n",
       "      <th>mean</th>\n",
       "      <th>median</th>\n",
       "      <th>minimum</th>\n",
       "      <th>maximum</th>\n",
       "      <th>q1</th>\n",
       "      <th>q3</th>\n",
       "    </tr>\n",
       "  </thead>\n",
       "  <tbody>\n",
       "    <tr>\n",
       "      <th>0</th>\n",
       "      <td>0.089435</td>\n",
       "      <td>0.054177</td>\n",
       "      <td>1.011032e-09</td>\n",
       "      <td>1.0</td>\n",
       "      <td>0.014312</td>\n",
       "      <td>0.128765</td>\n",
       "    </tr>\n",
       "    <tr>\n",
       "      <th>1</th>\n",
       "      <td>0.083813</td>\n",
       "      <td>0.046337</td>\n",
       "      <td>1.165871e-09</td>\n",
       "      <td>1.0</td>\n",
       "      <td>0.011574</td>\n",
       "      <td>0.120633</td>\n",
       "    </tr>\n",
       "    <tr>\n",
       "      <th>2</th>\n",
       "      <td>0.086790</td>\n",
       "      <td>0.050550</td>\n",
       "      <td>1.114858e-09</td>\n",
       "      <td>1.0</td>\n",
       "      <td>0.013181</td>\n",
       "      <td>0.124778</td>\n",
       "    </tr>\n",
       "    <tr>\n",
       "      <th>3</th>\n",
       "      <td>0.087385</td>\n",
       "      <td>0.051302</td>\n",
       "      <td>9.407441e-10</td>\n",
       "      <td>1.0</td>\n",
       "      <td>0.013386</td>\n",
       "      <td>0.125773</td>\n",
       "    </tr>\n",
       "  </tbody>\n",
       "</table>\n",
       "</div>"
      ],
      "text/plain": [
       "       mean    median       minimum  maximum        q1        q3\n",
       "0  0.089435  0.054177  1.011032e-09      1.0  0.014312  0.128765\n",
       "1  0.083813  0.046337  1.165871e-09      1.0  0.011574  0.120633\n",
       "2  0.086790  0.050550  1.114858e-09      1.0  0.013181  0.124778\n",
       "3  0.087385  0.051302  9.407441e-10      1.0  0.013386  0.125773"
      ]
     },
     "execution_count": 52,
     "metadata": {},
     "output_type": "execute_result"
    }
   ],
   "source": [
    "df = pd.DataFrame([get_summary(diff_forward), get_summary(diff_revflip), get_summary(diff_forrev), get_summary(diff_forrevshift)])\n",
    "df"
   ]
  },
  {
   "cell_type": "markdown",
   "metadata": {},
   "source": [
    "the reversed matrix had the smallest median and mean of differences between itself and the ground truth matrix"
   ]
  },
  {
   "cell_type": "markdown",
   "metadata": {},
   "source": [
    "I also compared matrices by their column correlations"
   ]
  },
  {
   "cell_type": "code",
   "execution_count": 24,
   "metadata": {},
   "outputs": [],
   "source": [
    "\n",
    "corvec_forward = np.empty(5313)\n",
    "corvec_revflip = np.empty(5313)\n",
    "corvec_forrev = np.empty(5313)\n",
    "corvec_forrevshift = np.empty(5313)\n",
    "\n",
    "for col in range(5313):\n",
    "    col_corr_forward = np.corrcoef(forward[:, col], gtruth[:, col])[0, 1]\n",
    "    col_corr_revflip = np.corrcoef(revflip[:, col], gtruth[:, col])[0, 1]\n",
    "    col_corr_forrev = np.corrcoef(forrev[:, col], gtruth[:, col])[0, 1]\n",
    "    col_corr_forrevshift = np.corrcoef(forrevshift[:, col], gtruth[:, col])[0, 1]\n",
    "\n",
    "    corvec_forward[col] = col_corr_forward\n",
    "    corvec_revflip [col] = col_corr_revflip\n",
    "    corvec_forrev[col] = col_corr_forrev\n",
    "    corvec_forrevshift[col] = col_corr_forrevshift\n"
   ]
  },
  {
   "cell_type": "code",
   "execution_count": 54,
   "metadata": {},
   "outputs": [
    {
     "data": {
      "text/html": [
       "<div>\n",
       "<style scoped>\n",
       "    .dataframe tbody tr th:only-of-type {\n",
       "        vertical-align: middle;\n",
       "    }\n",
       "\n",
       "    .dataframe tbody tr th {\n",
       "        vertical-align: top;\n",
       "    }\n",
       "\n",
       "    .dataframe thead th {\n",
       "        text-align: right;\n",
       "    }\n",
       "</style>\n",
       "<table border=\"1\" class=\"dataframe\">\n",
       "  <thead>\n",
       "    <tr style=\"text-align: right;\">\n",
       "      <th></th>\n",
       "      <th>mean</th>\n",
       "      <th>median</th>\n",
       "      <th>minimum</th>\n",
       "      <th>maximum</th>\n",
       "      <th>q1</th>\n",
       "      <th>q3</th>\n",
       "    </tr>\n",
       "  </thead>\n",
       "  <tbody>\n",
       "    <tr>\n",
       "      <th>0</th>\n",
       "      <td>0.387180</td>\n",
       "      <td>0.363654</td>\n",
       "      <td>-0.142128</td>\n",
       "      <td>0.979091</td>\n",
       "      <td>0.260054</td>\n",
       "      <td>0.485667</td>\n",
       "    </tr>\n",
       "    <tr>\n",
       "      <th>1</th>\n",
       "      <td>0.403603</td>\n",
       "      <td>0.372916</td>\n",
       "      <td>-0.134506</td>\n",
       "      <td>0.978724</td>\n",
       "      <td>0.266568</td>\n",
       "      <td>0.504666</td>\n",
       "    </tr>\n",
       "    <tr>\n",
       "      <th>2</th>\n",
       "      <td>0.402519</td>\n",
       "      <td>0.375665</td>\n",
       "      <td>-0.138941</td>\n",
       "      <td>0.980877</td>\n",
       "      <td>0.268780</td>\n",
       "      <td>0.507861</td>\n",
       "    </tr>\n",
       "    <tr>\n",
       "      <th>3</th>\n",
       "      <td>0.405484</td>\n",
       "      <td>0.378129</td>\n",
       "      <td>-0.139833</td>\n",
       "      <td>0.981330</td>\n",
       "      <td>0.271499</td>\n",
       "      <td>0.510394</td>\n",
       "    </tr>\n",
       "  </tbody>\n",
       "</table>\n",
       "</div>"
      ],
      "text/plain": [
       "       mean    median   minimum   maximum        q1        q3\n",
       "0  0.387180  0.363654 -0.142128  0.979091  0.260054  0.485667\n",
       "1  0.403603  0.372916 -0.134506  0.978724  0.266568  0.504666\n",
       "2  0.402519  0.375665 -0.138941  0.980877  0.268780  0.507861\n",
       "3  0.405484  0.378129 -0.139833  0.981330  0.271499  0.510394"
      ]
     },
     "execution_count": 54,
     "metadata": {},
     "output_type": "execute_result"
    }
   ],
   "source": [
    "df = pd.DataFrame([get_summary(corvec_forward), get_summary(corvec_revflip), get_summary(corvec_forrev), get_summary(corvec_forrevshift)])\n",
    "df"
   ]
  },
  {
   "cell_type": "code",
   "execution_count": 25,
   "metadata": {},
   "outputs": [
    {
     "data": {
      "image/png": "[encoded data removed]",
      "text/plain": [
       "<Figure size 640x480 with 1 Axes>"
      ]
     },
     "metadata": {},
     "output_type": "display_data"
    },
    {
     "data": {
      "text/plain": [
       "{'mean': 0.38718041170625517,\n",
       " 'median': 0.363653568333263,\n",
       " 'minimum': -0.14212758475771817,\n",
       " 'maximum': 0.9790910995883623,\n",
       " 'q1': 0.2600543530074316,\n",
       " 'q3': 0.4856668295265922}"
      ]
     },
     "execution_count": 25,
     "metadata": {},
     "output_type": "execute_result"
    }
   ],
   "source": [
    "plot_hist(corvec_forward, 1000, title=\"forward\")\n",
    "get_summary(corvec_forward)"
   ]
  },
  {
   "cell_type": "code",
   "execution_count": 27,
   "metadata": {},
   "outputs": [
    {
     "data": {
      "image/png": "[encoded data removed]",
      "text/plain": [
       "<Figure size 640x480 with 1 Axes>"
      ]
     },
     "metadata": {},
     "output_type": "display_data"
    },
    {
     "data": {
      "text/plain": [
       "{'mean': 0.40360321051079723,\n",
       " 'median': 0.3729163891112569,\n",
       " 'minimum': -0.13450596082088287,\n",
       " 'maximum': 0.9787238316933228,\n",
       " 'q1': 0.26656786415174694,\n",
       " 'q3': 0.5046657045156163}"
      ]
     },
     "execution_count": 27,
     "metadata": {},
     "output_type": "execute_result"
    }
   ],
   "source": [
    "plot_hist(corvec_revflip, 1000, title=\"reverse\")\n",
    "get_summary(corvec_revflip)"
   ]
  },
  {
   "cell_type": "code",
   "execution_count": 28,
   "metadata": {},
   "outputs": [
    {
     "data": {
      "image/png": "[encoded data removed]",
      "text/plain": [
       "<Figure size 640x480 with 1 Axes>"
      ]
     },
     "metadata": {},
     "output_type": "display_data"
    },
    {
     "data": {
      "text/plain": [
       "{'mean': 0.40251886290533295,\n",
       " 'median': 0.37566488716013463,\n",
       " 'minimum': -0.13894071497942373,\n",
       " 'maximum': 0.980877195481625,\n",
       " 'q1': 0.2687798375206835,\n",
       " 'q3': 0.5078606089010983}"
      ]
     },
     "execution_count": 28,
     "metadata": {},
     "output_type": "execute_result"
    }
   ],
   "source": [
    "plot_hist(corvec_forrev, 1000, title=\"forrev\")\n",
    "get_summary(corvec_forrev)"
   ]
  },
  {
   "cell_type": "code",
   "execution_count": 18,
   "metadata": {},
   "outputs": [
    {
     "data": {
      "image/png": "[encoded data removed]",
      "text/plain": [
       "<Figure size 640x480 with 1 Axes>"
      ]
     },
     "metadata": {},
     "output_type": "display_data"
    },
    {
     "data": {
      "text/plain": [
       "{'mean': 0.4054838451596735,\n",
       " 'median': 0.3781294978904418,\n",
       " 'minimum': -0.13983302881054696,\n",
       " 'maximum': 0.9813297030486948,\n",
       " 'q1': 0.2714992025134109,\n",
       " 'q3': 0.5103938190048124}"
      ]
     },
     "execution_count": 18,
     "metadata": {},
     "output_type": "execute_result"
    }
   ],
   "source": [
    "plot_hist(corvec_forrevshift, 1000, title=\"forrevshift\")\n",
    "get_summary(corvec_forrevshift)"
   ]
  },
  {
   "cell_type": "markdown",
   "metadata": {},
   "source": [
    "the forward reverse and shifted average matrix has the highest mean, median, q1, and q1 of column correlations"
   ]
  },
  {
   "cell_type": "markdown",
   "metadata": {},
   "source": [
    "Conclusion: the forrevshift matrix will give you the closest results to the ground truth, so that's what we will be using for our predictions"
   ]
  },
  {
   "cell_type": "markdown",
   "metadata": {},
   "source": [
    "## Comparing 100 gtruths to predtypes"
   ]
  },
  {
   "cell_type": "code",
   "execution_count": 55,
   "metadata": {},
   "outputs": [
    {
     "data": {
      "text/plain": [
       "array([[       10,  37555537,  37686609],\n",
       "       [       14,  87048845,  87179917],\n",
       "       [        0, 136527085, 136658157],\n",
       "       ...,\n",
       "       [       19,  30681544,  30812616],\n",
       "       [       14,  61473198,  61604270],\n",
       "       [        2, 129664471, 129795543]])"
      ]
     },
     "execution_count": 55,
     "metadata": {},
     "output_type": "execute_result"
    }
   ],
   "source": [
    "# get intervals that contain tss\n",
    "    "
   ]
  },
  {
   "cell_type": "code",
   "execution_count": 5,
   "metadata": {},
   "outputs": [],
   "source": [
    "# read in tss data from hackathon \n",
    "\n",
    "chr1_tss = pd.read_table('/grand/TFXcan/imlab/users/lvairus/hackenf/data/tss_by_chr/chr1_tss_by_gene.txt', sep='\\t')\n",
    "chr2_tss = pd.read_table('/grand/TFXcan/imlab/users/lvairus/hackenf/data/tss_by_chr/chr2_tss_by_gene.txt', sep='\\t')\n",
    "chr3_tss = pd.read_table('/grand/TFXcan/imlab/users/lvairus/hackenf/data/tss_by_chr/chr3_tss_by_gene.txt', sep='\\t')\n",
    "chr4_tss = pd.read_table('/grand/TFXcan/imlab/users/lvairus/hackenf/data/tss_by_chr/chr4_tss_by_gene.txt', sep='\\t')\n",
    "chr5_tss = pd.read_table('/grand/TFXcan/imlab/users/lvairus/hackenf/data/tss_by_chr/chr5_tss_by_gene.txt', sep='\\t')\n",
    "chr6_tss = pd.read_table('/grand/TFXcan/imlab/users/lvairus/hackenf/data/tss_by_chr/chr6_tss_by_gene.txt', sep='\\t')\n",
    "chr7_tss = pd.read_table('/grand/TFXcan/imlab/users/lvairus/hackenf/data/tss_by_chr/chr7_tss_by_gene.txt', sep='\\t')\n",
    "chr8_tss = pd.read_table('/grand/TFXcan/imlab/users/lvairus/hackenf/data/tss_by_chr/chr8_tss_by_gene.txt', sep='\\t')\n",
    "chr9_tss = pd.read_table('/grand/TFXcan/imlab/users/lvairus/hackenf/data/tss_by_chr/chr9_tss_by_gene.txt', sep='\\t')\n",
    "chr10_tss = pd.read_table('/grand/TFXcan/imlab/users/lvairus/hackenf/data/tss_by_chr/chr10_tss_by_gene.txt', sep='\\t')\n",
    "chr11_tss = pd.read_table('/grand/TFXcan/imlab/users/lvairus/hackenf/data/tss_by_chr/chr11_tss_by_gene.txt', sep='\\t')\n",
    "chr12_tss = pd.read_table('/grand/TFXcan/imlab/users/lvairus/hackenf/data/tss_by_chr/chr12_tss_by_gene.txt', sep='\\t')\n",
    "chr13_tss = pd.read_table('/grand/TFXcan/imlab/users/lvairus/hackenf/data/tss_by_chr/chr13_tss_by_gene.txt', sep='\\t')\n",
    "chr14_tss = pd.read_table('/grand/TFXcan/imlab/users/lvairus/hackenf/data/tss_by_chr/chr14_tss_by_gene.txt', sep='\\t')\n",
    "chr15_tss = pd.read_table('/grand/TFXcan/imlab/users/lvairus/hackenf/data/tss_by_chr/chr15_tss_by_gene.txt', sep='\\t')\n",
    "chr16_tss = pd.read_table('/grand/TFXcan/imlab/users/lvairus/hackenf/data/tss_by_chr/chr16_tss_by_gene.txt', sep='\\t')\n",
    "chr17_tss = pd.read_table('/grand/TFXcan/imlab/users/lvairus/hackenf/data/tss_by_chr/chr17_tss_by_gene.txt', sep='\\t')\n",
    "chr18_tss = pd.read_table('/grand/TFXcan/imlab/users/lvairus/hackenf/data/tss_by_chr/chr18_tss_by_gene.txt', sep='\\t')\n",
    "chr19_tss = pd.read_table('/grand/TFXcan/imlab/users/lvairus/hackenf/data/tss_by_chr/chr19_tss_by_gene.txt', sep='\\t')\n",
    "chr20_tss = pd.read_table('/grand/TFXcan/imlab/users/lvairus/hackenf/data/tss_by_chr/chr20_tss_by_gene.txt', sep='\\t')\n",
    "chr21_tss = pd.read_table('/grand/TFXcan/imlab/users/lvairus/hackenf/data/tss_by_chr/chr21_tss_by_gene.txt', sep='\\t')\n",
    "chr22_tss = pd.read_table('/grand/TFXcan/imlab/users/lvairus/hackenf/data/tss_by_chr/chr22_tss_by_gene.txt', sep='\\t')\n",
    "chrX_tss = pd.read_table('/grand/TFXcan/imlab/users/lvairus/hackenf/data/tss_by_chr/chrX_tss_by_gene.txt', sep='\\t')\n",
    "chrY_tss = pd.read_table('/grand/TFXcan/imlab/users/lvairus/hackenf/data/tss_by_chr/chrY_tss_by_gene.txt', sep='\\t')"
   ]
  },
  {
   "cell_type": "code",
   "execution_count": 6,
   "metadata": {},
   "outputs": [
    {
     "data": {
      "text/html": [
       "<div>\n",
       "<style scoped>\n",
       "    .dataframe tbody tr th:only-of-type {\n",
       "        vertical-align: middle;\n",
       "    }\n",
       "\n",
       "    .dataframe tbody tr th {\n",
       "        vertical-align: top;\n",
       "    }\n",
       "\n",
       "    .dataframe thead th {\n",
       "        text-align: right;\n",
       "    }\n",
       "</style>\n",
       "<table border=\"1\" class=\"dataframe\">\n",
       "  <thead>\n",
       "    <tr style=\"text-align: right;\">\n",
       "      <th></th>\n",
       "      <th>genes</th>\n",
       "      <th>txStart_Sites</th>\n",
       "      <th>strand</th>\n",
       "    </tr>\n",
       "  </thead>\n",
       "  <tbody>\n",
       "    <tr>\n",
       "      <th>0</th>\n",
       "      <td>DDX11L1</td>\n",
       "      <td>11869, 11872, 11874, 12010</td>\n",
       "      <td>+</td>\n",
       "    </tr>\n",
       "    <tr>\n",
       "      <th>1</th>\n",
       "      <td>WASH7P</td>\n",
       "      <td>29370, 24886, 29370, 29570, 29806, 19305, 29344</td>\n",
       "      <td>-</td>\n",
       "    </tr>\n",
       "    <tr>\n",
       "      <th>2</th>\n",
       "      <td>MIR1302-11</td>\n",
       "      <td>29554, 30267, 30366</td>\n",
       "      <td>+</td>\n",
       "    </tr>\n",
       "    <tr>\n",
       "      <th>3</th>\n",
       "      <td>FAM138A</td>\n",
       "      <td>36081, 36073</td>\n",
       "      <td>-</td>\n",
       "    </tr>\n",
       "    <tr>\n",
       "      <th>4</th>\n",
       "      <td>OR4G11P</td>\n",
       "      <td>62948</td>\n",
       "      <td>+</td>\n",
       "    </tr>\n",
       "    <tr>\n",
       "      <th>...</th>\n",
       "      <td>...</td>\n",
       "      <td>...</td>\n",
       "      <td>...</td>\n",
       "    </tr>\n",
       "    <tr>\n",
       "      <th>4800</th>\n",
       "      <td>ZNF672</td>\n",
       "      <td>249132409, 249132479, 249132530, 249133027, 24...</td>\n",
       "      <td>+</td>\n",
       "    </tr>\n",
       "    <tr>\n",
       "      <th>4801</th>\n",
       "      <td>ZNF692</td>\n",
       "      <td>249152912, 249153271, 249153271, 249153271, 24...</td>\n",
       "      <td>-</td>\n",
       "    </tr>\n",
       "    <tr>\n",
       "      <th>4802</th>\n",
       "      <td>AL672294.1</td>\n",
       "      <td>249153363</td>\n",
       "      <td>+</td>\n",
       "    </tr>\n",
       "    <tr>\n",
       "      <th>4803</th>\n",
       "      <td>PGBD2</td>\n",
       "      <td>249200395, 249200442, 249200464, 249200571</td>\n",
       "      <td>+</td>\n",
       "    </tr>\n",
       "    <tr>\n",
       "      <th>4804</th>\n",
       "      <td>AL672183.2</td>\n",
       "      <td>249230780</td>\n",
       "      <td>+</td>\n",
       "    </tr>\n",
       "  </tbody>\n",
       "</table>\n",
       "<p>4805 rows × 3 columns</p>\n",
       "</div>"
      ],
      "text/plain": [
       "           genes                                      txStart_Sites strand\n",
       "0        DDX11L1                         11869, 11872, 11874, 12010      +\n",
       "1         WASH7P    29370, 24886, 29370, 29570, 29806, 19305, 29344      -\n",
       "2     MIR1302-11                                29554, 30267, 30366      +\n",
       "3        FAM138A                                       36081, 36073      -\n",
       "4        OR4G11P                                              62948      +\n",
       "...          ...                                                ...    ...\n",
       "4800      ZNF672  249132409, 249132479, 249132530, 249133027, 24...      +\n",
       "4801      ZNF692  249152912, 249153271, 249153271, 249153271, 24...      -\n",
       "4802  AL672294.1                                          249153363      +\n",
       "4803       PGBD2         249200395, 249200442, 249200464, 249200571      +\n",
       "4804  AL672183.2                                          249230780      +\n",
       "\n",
       "[4805 rows x 3 columns]"
      ]
     },
     "execution_count": 6,
     "metadata": {},
     "output_type": "execute_result"
    }
   ],
   "source": [
    "chr1_tss"
   ]
  },
  {
   "cell_type": "code",
   "execution_count": 7,
   "metadata": {},
   "outputs": [],
   "source": [
    "# get list canonical tss\n",
    "\n",
    "chrX_canon_tss = chrX_tss[\"txStart_Sites\"].str.split(',').str[0].values.astype(int)\n",
    "chr1_canon_tss = chr1_tss[\"txStart_Sites\"].str.split(',').str[0].values.astype(int)\n",
    "chr2_canon_tss = chr2_tss[\"txStart_Sites\"].str.split(',').str[0].values.astype(int)\n",
    "chr3_canon_tss = chr3_tss[\"txStart_Sites\"].str.split(',').str[0].values.astype(int)\n",
    "chr4_canon_tss = chr4_tss[\"txStart_Sites\"].str.split(',').str[0].values.astype(int)\n",
    "chr5_canon_tss = chr5_tss[\"txStart_Sites\"].str.split(',').str[0].values.astype(int)\n",
    "chr6_canon_tss = chr6_tss[\"txStart_Sites\"].str.split(',').str[0].values.astype(int)\n",
    "chr7_canon_tss = chr7_tss[\"txStart_Sites\"].str.split(',').str[0].values.astype(int)\n",
    "chr8_canon_tss = chr8_tss[\"txStart_Sites\"].str.split(',').str[0].values.astype(int)\n",
    "chr9_canon_tss = chr9_tss[\"txStart_Sites\"].str.split(',').str[0].values.astype(int)\n",
    "chr10_canon_tss = chr10_tss[\"txStart_Sites\"].str.split(',').str[0].values.astype(int)\n",
    "chr11_canon_tss = chr11_tss[\"txStart_Sites\"].str.split(',').str[0].values.astype(int)\n",
    "chr12_canon_tss = chr12_tss[\"txStart_Sites\"].str.split(',').str[0].values.astype(int)\n",
    "chr13_canon_tss = chr13_tss[\"txStart_Sites\"].str.split(',').str[0].values.astype(int)\n",
    "chr14_canon_tss = chr14_tss[\"txStart_Sites\"].str.split(',').str[0].values.astype(int)\n",
    "chr15_canon_tss = chr15_tss[\"txStart_Sites\"].str.split(',').str[0].values.astype(int)\n",
    "chr16_canon_tss = chr16_tss[\"txStart_Sites\"].str.split(',').str[0].values.astype(int)\n",
    "chr17_canon_tss = chr17_tss[\"txStart_Sites\"].str.split(',').str[0].values.astype(int)\n",
    "chr18_canon_tss = chr18_tss[\"txStart_Sites\"].str.split(',').str[0].values.astype(int)\n",
    "chr19_canon_tss = chr19_tss[\"txStart_Sites\"].str.split(',').str[0].values.astype(int)\n",
    "chr20_canon_tss = chr20_tss[\"txStart_Sites\"].str.split(',').str[0].values.astype(int)\n",
    "chr21_canon_tss = chr21_tss[\"txStart_Sites\"].str.split(',').str[0].values.astype(int)\n",
    "chr22_canon_tss = chr22_tss[\"txStart_Sites\"].str.split(',').str[0].values.astype(int)\n",
    "\n",
    "all_canon_tss = [chrX_canon_tss, chr1_canon_tss, chr2_canon_tss, chr3_canon_tss, chr4_canon_tss, chr5_canon_tss, chr6_canon_tss, chr7_canon_tss, chr8_canon_tss, chr9_canon_tss, chr10_canon_tss, chr11_canon_tss, chr12_canon_tss, chr13_canon_tss, chr14_canon_tss, chr15_canon_tss, chr16_canon_tss, chr17_canon_tss, chr18_canon_tss, chr19_canon_tss, chr20_canon_tss, chr21_canon_tss, chr22_canon_tss]\n"
   ]
  },
  {
   "cell_type": "code",
   "execution_count": 76,
   "metadata": {},
   "outputs": [
    {
     "data": {
      "text/plain": [
       "37686609"
      ]
     },
     "execution_count": 76,
     "metadata": {},
     "output_type": "execute_result"
    }
   ],
   "source": [
    "canon_tss = chr1_canon_tss\n",
    "chr_intervals = intervals[intervals[:, 0] == 1]\n",
    "for interval in chr_intervals:\n",
    "    start = interval[1]\n",
    "    end = interval[2]\n",
    "    \n",
    "    canon_tss[canon_tss >= start]"
   ]
  },
  {
   "cell_type": "code",
   "execution_count": 133,
   "metadata": {},
   "outputs": [
    {
     "name": "stdout",
     "output_type": "stream",
     "text": [
      "228608364 228739436 []\n"
     ]
    }
   ],
   "source": [
    "\n",
    "\n",
    "\n",
    "chr_num = 1\n",
    "canon_tss = chr1_canon_tss\n",
    "chr_intervals = intervals[intervals[:, 0] == chr_num]\n",
    "interval = chr_intervals[0]\n",
    "start = interval[1]\n",
    "end = interval[2]\n",
    "\n",
    "filtered_tss1 = canon_tss[canon_tss >= start]\n",
    "filtered_tss2 = filtered_tss1[filtered_tss1 <= end]\n",
    "\n",
    "print(start, end, filtered_tss2)\n",
    "if any(filtered_tss2):\n",
    "    print(\"true\")"
   ]
  },
  {
   "cell_type": "code",
   "execution_count": 8,
   "metadata": {},
   "outputs": [],
   "source": [
    "intervals_with_tss_list = []\n",
    "\n",
    "for chr_num, canon_tss in enumerate(all_canon_tss):\n",
    "    chr_intervals = intervals[intervals[:, 0] == chr_num]\n",
    "\n",
    "    for interval in chr_intervals:\n",
    "        start = interval[1]\n",
    "        end = interval[2]\n",
    "\n",
    "        filtered_tss = canon_tss[(canon_tss >= start) & (canon_tss <= end)]\n",
    "        \n",
    "        if any(filtered_tss):\n",
    "            intervals_with_tss_list.append(interval)\n",
    "\n"
   ]
  },
  {
   "cell_type": "code",
   "execution_count": 10,
   "metadata": {},
   "outputs": [],
   "source": [
    "intervals_with_tss = np.array(intervals_with_tss_list)"
   ]
  },
  {
   "cell_type": "code",
   "execution_count": 11,
   "metadata": {},
   "outputs": [
    {
     "data": {
      "text/plain": [
       "array([[        0, 136527085, 136658157],\n",
       "       [        0, 117971834, 118102906],\n",
       "       [        0,   4464454,   4595526],\n",
       "       ...,\n",
       "       [       22,  21003344,  21134416],\n",
       "       [       22,  21691478,  21822550],\n",
       "       [       22,  19397698,  19528770]])"
      ]
     },
     "execution_count": 11,
     "metadata": {},
     "output_type": "execute_result"
    }
   ],
   "source": [
    "intervals_with_tss[:10]"
   ]
  },
  {
   "cell_type": "code",
   "execution_count": 9,
   "metadata": {},
   "outputs": [
    {
     "ename": "NameError",
     "evalue": "name 'np' is not defined",
     "output_type": "error",
     "traceback": [
      "\u001b[0;31m---------------------------------------------------------------------------\u001b[0m",
      "\u001b[0;31mNameError\u001b[0m                                 Traceback (most recent call last)",
      "Cell \u001b[0;32mIn[9], line 3\u001b[0m\n\u001b[1;32m      1\u001b[0m \u001b[39m# Generate random indices for sampling\u001b[39;00m\n\u001b[0;32m----> 3\u001b[0m np\u001b[39m.\u001b[39mrandom\u001b[39m.\u001b[39mseed(\u001b[39m2\u001b[39m)\n\u001b[1;32m      4\u001b[0m \u001b[39m# get 100 random indices\u001b[39;00m\n\u001b[1;32m      5\u001b[0m random_indices \u001b[39m=\u001b[39m np\u001b[39m.\u001b[39mrandom\u001b[39m.\u001b[39mrandint(\u001b[39m0\u001b[39m, \u001b[39mlen\u001b[39m(intervals_with_tss), size\u001b[39m=\u001b[39m\u001b[39m100\u001b[39m)\n",
      "\u001b[0;31mNameError\u001b[0m: name 'np' is not defined"
     ]
    }
   ],
   "source": [
    "# Generate random indices for sampling\n",
    "\n",
    "np.random.seed(2)\n",
    "# get 100 random indices\n",
    "random_indices = np.random.randint(0, len(intervals_with_tss), size=100)\n",
    "\n",
    "# add indices of intervals from chromosomes that weren't first sampled (gotten manually)\n",
    "more_indicies = np.array([289,418,426,613,1227,1228])\n",
    "random_indices = np.concatenate([random_indices, more_indicies])\n",
    "\n",
    "# Use the random indices to select random intervals\n",
    "random_intervals = intervals_with_tss[random_indices]\n",
    "set(random_intervals[:,0])\n"
   ]
  },
  {
   "cell_type": "code",
   "execution_count": 89,
   "metadata": {},
   "outputs": [
    {
     "data": {
      "text/plain": [
       "array([      17, 20693681, 20824753])"
      ]
     },
     "execution_count": 89,
     "metadata": {},
     "output_type": "execute_result"
    }
   ],
   "source": [
    "intervals_with_tss[289+9+15+105+1+7+6+12+6+151+12+8+571+35+1]"
   ]
  },
  {
   "cell_type": "code",
   "execution_count": 45,
   "metadata": {},
   "outputs": [
    {
     "data": {
      "text/plain": [
       "Counter({0: 289,\n",
       "         1: 9,\n",
       "         2: 15,\n",
       "         3: 105,\n",
       "         4: 1,\n",
       "         6: 7,\n",
       "         7: 6,\n",
       "         8: 12,\n",
       "         10: 6,\n",
       "         11: 151,\n",
       "         12: 12,\n",
       "         13: 8,\n",
       "         14: 571,\n",
       "         15: 35,\n",
       "         16: 1,\n",
       "         17: 2,\n",
       "         19: 226,\n",
       "         22: 26})"
      ]
     },
     "execution_count": 45,
     "metadata": {},
     "output_type": "execute_result"
    }
   ],
   "source": [
    "Counter(intervals_with_tss[:,0])"
   ]
  },
  {
   "cell_type": "code",
   "execution_count": 94,
   "metadata": {},
   "outputs": [
    {
     "data": {
      "text/plain": [
       "array([[       15,  25341276,  25472348],\n",
       "       [       11,  31633880,  31764952],\n",
       "       [       11,  34845172,  34976244],\n",
       "       [        2, 129320404, 129451476],\n",
       "       [       11,  38400531,  38531603],\n",
       "       [       14,  51036499,  51167571],\n",
       "       [        3, 195743498, 195874570],\n",
       "       [       19,  36645372,  36776444],\n",
       "       [       14,  50577743,  50708815],\n",
       "       [        8, 144614851, 144745923],\n",
       "       [       12,  11085476,  11216548],\n",
       "       [       11,  32895459,  33026531],\n",
       "       [       14,  35324106,  35455178],\n",
       "       [       14,  70418940,  70550012],\n",
       "       [       14,  79135304,  79266376],\n",
       "       [       19,   9779312,   9910384],\n",
       "       [       14,  88425113,  88556185],\n",
       "       [        3, 183815842, 183946914],\n",
       "       [        0, 119348102, 119479174],\n",
       "       [       14,  22823005,  22954077],\n",
       "       [       14,  69501428,  69632500],\n",
       "       [       15,  27176300,  27307372],\n",
       "       [       14,  31998125,  32129197],\n",
       "       [       14,  94733008,  94864080],\n",
       "       [       14,  50807121,  50938193],\n",
       "       [       14,  66290136,  66421208],\n",
       "       [        0,  47378469,  47509541],\n",
       "       [        3,  21096435,  21227507],\n",
       "       [       14, 104596262, 104727334],\n",
       "       [        0, 133545171, 133676243],\n",
       "       [       19,  46049870,  46180942],\n",
       "       [       19,  55426897,  55557969],\n",
       "       [       14,  99320568,  99451640],\n",
       "       [       19,  37792262,  37923334],\n",
       "       [       22,  19283009,  19414081],\n",
       "       [       19,  52663652,  52794724],\n",
       "       [       19,  33319391,  33450463],\n",
       "       [        0, 134806750, 134937822],\n",
       "       [        0,  40497129,  40628201],\n",
       "       [       11,  34042349,  34173421],\n",
       "       [       19,  35498482,  35629554],\n",
       "       [       14,  52068700,  52199772],\n",
       "       [       14,  62390710,  62521782],\n",
       "       [        0,  39579617,  39710689],\n",
       "       [       14,  88425113,  88556185],\n",
       "       [       19,  41921066,  42052138],\n",
       "       [       19,  55885653,  56016725],\n",
       "       [       14,  36815063,  36946135],\n",
       "       [       14, 105055018, 105186090],\n",
       "       [        8, 144729540, 144860612],\n",
       "       [       11,  33239526,  33370598],\n",
       "       [       19,  38365707,  38496779],\n",
       "       [        3, 186568378, 186699450],\n",
       "       [       14,  44843293,  44974365],\n",
       "       [       19,  56344409,  56475481],\n",
       "       [       14,  63881667,  64012739],\n",
       "       [       14,  72368653,  72499725],\n",
       "       [       11,  33239526,  33370598],\n",
       "       [        3, 197349144, 197480216],\n",
       "       [       11,  33468904,  33599976],\n",
       "       [       10,  38014293,  38145365],\n",
       "       [       14,  24313962,  24445034],\n",
       "       [        0, 127122587, 127253659],\n",
       "       [       14,  89686692,  89817764],\n",
       "       [       14,  36470996,  36602068],\n",
       "       [       14,  58261906,  58392978],\n",
       "       [       14,  59867552,  59998624],\n",
       "       [        0, 140885267, 141016339],\n",
       "       [       19,  32287190,  32418262],\n",
       "       [       14,  27066498,  27197570],\n",
       "       [       14,  45990183,  46121255],\n",
       "       [       14,  56885638,  57016710],\n",
       "       [       11,  31404502,  31535574],\n",
       "       [        0, 119118724, 119249796],\n",
       "       [       14,  67895782,  68026854],\n",
       "       [       19,  41003554,  41134626],\n",
       "       [        3, 196316943, 196448015],\n",
       "       [        0, 118201212, 118332284],\n",
       "       [       14,  34865350,  34996422],\n",
       "       [       22,  19283009,  19414081],\n",
       "       [       14,  58605973,  58737045],\n",
       "       [       14,  22708316,  22839388],\n",
       "       [       11,  43905603,  44036675],\n",
       "       [       12,   9243615,   9374687],\n",
       "       [       14,  76497457,  76628529],\n",
       "       [       14,  63881667,  64012739],\n",
       "       [        2, 129320404, 129451476],\n",
       "       [       14,  74203677,  74334749],\n",
       "       [        0, 138476798, 138607870],\n",
       "       [       14,  64225734,  64356806],\n",
       "       [       11,  45396560,  45527632],\n",
       "       [       14,  48742719,  48873791],\n",
       "       [       14,  54821236,  54952308],\n",
       "       [        0, 121617515, 121748587],\n",
       "       [        6,  86319183,  86450255],\n",
       "       [       19,  10238068,  10369140],\n",
       "       [       14, 100582147, 100713219],\n",
       "       [       14,  84181620,  84312692],\n",
       "       [       14,  57344394,  57475466],\n",
       "       [       14, 100696836, 100827908],\n",
       "       [        1, 228608364, 228739436],\n",
       "       [        4,   8816477,   8947549],\n",
       "       [        7,  56540299,  56671371],\n",
       "       [       13,  19096240,  19227312],\n",
       "       [       16,  31833834,  31964906],\n",
       "       [       17,  20693681,  20824753]])"
      ]
     },
     "execution_count": 94,
     "metadata": {},
     "output_type": "execute_result"
    }
   ],
   "source": [
    "random_intervals"
   ]
  },
  {
   "cell_type": "code",
   "execution_count": 101,
   "metadata": {},
   "outputs": [
    {
     "data": {
      "text/plain": [
       "['chr15_25341273_25472345',\n",
       " 'chr15_25341276_25472348',\n",
       " 'chr15_25341279_25472351',\n",
       " 'chr11_31633877_31764949',\n",
       " 'chr11_31633880_31764952',\n",
       " 'chr11_31633883_31764955',\n",
       " 'chr11_34845169_34976241',\n",
       " 'chr11_34845172_34976244',\n",
       " 'chr11_34845175_34976247',\n",
       " 'chr2_129320401_129451473',\n",
       " 'chr2_129320404_129451476',\n",
       " 'chr2_129320407_129451479',\n",
       " 'chr11_38400528_38531600',\n",
       " 'chr11_38400531_38531603',\n",
       " 'chr11_38400534_38531606',\n",
       " 'chr14_51036496_51167568',\n",
       " 'chr14_51036499_51167571',\n",
       " 'chr14_51036502_51167574',\n",
       " 'chr3_195743495_195874567',\n",
       " 'chr3_195743498_195874570']"
      ]
     },
     "execution_count": 101,
     "metadata": {},
     "output_type": "execute_result"
    }
   ],
   "source": [
    "random_interval_strings_shifted = [None] * len(random_intervals) * 3\n",
    "\n",
    "for j, interval in enumerate(random_intervals):\n",
    "    i = j * 3\n",
    "    random_interval_strings_shifted[i] = f'chr{interval[0]}_{interval[1]-3}_{interval[2]-3}'\n",
    "    random_interval_strings_shifted[i+1] = f'chr{interval[0]}_{interval[1]}_{interval[2]}'\n",
    "    random_interval_strings_shifted[i+2] = f'chr{interval[0]}_{interval[1]+3}_{interval[2]+3}'\n",
    "\n",
    "random_interval_strings_shifted[:20]"
   ]
  },
  {
   "cell_type": "code",
   "execution_count": 105,
   "metadata": {},
   "outputs": [],
   "source": [
    "# making the interval txt file for enformer pipeline\n",
    "\n",
    "with open('/grand/TFXcan/imlab/users/lvairus/shared_folder/enformer_pipeline/metadata/test_predtype_intervals.txt', 'w') as f:\n",
    "    for interval in random_intervals:\n",
    "        f.write(f'\"chr{interval[0]}_{interval[1]-3}_{interval[2]-3}\"\\n')\n",
    "        f.write(f'\"chr{interval[0]}_{interval[1]}_{interval[2]}\"\\n')\n",
    "        f.write(f'\"chr{interval[0]}_{interval[1]+3}_{interval[2]+3}\"\\n')"
   ]
  },
  {
   "cell_type": "code",
   "execution_count": 108,
   "metadata": {},
   "outputs": [
    {
     "data": {
      "text/plain": [
       "array([[ True,  True,  True],\n",
       "       [ True,  True,  True],\n",
       "       [ True,  True,  True],\n",
       "       [ True,  True,  True],\n",
       "       [ True,  True,  True],\n",
       "       [ True,  True,  True],\n",
       "       [ True,  True,  True],\n",
       "       [ True,  True,  True],\n",
       "       [ True,  True,  True],\n",
       "       [ True,  True,  True],\n",
       "       [ True,  True,  True],\n",
       "       [ True,  True,  True],\n",
       "       [ True,  True,  True],\n",
       "       [ True,  True,  True],\n",
       "       [ True,  True,  True],\n",
       "       [ True,  True,  True],\n",
       "       [ True,  True,  True],\n",
       "       [ True,  True,  True],\n",
       "       [ True,  True,  True],\n",
       "       [ True,  True,  True],\n",
       "       [ True,  True,  True],\n",
       "       [ True,  True,  True],\n",
       "       [ True,  True,  True],\n",
       "       [ True,  True,  True],\n",
       "       [ True,  True,  True],\n",
       "       [ True,  True,  True],\n",
       "       [ True,  True,  True],\n",
       "       [ True,  True,  True],\n",
       "       [ True,  True,  True],\n",
       "       [ True,  True,  True],\n",
       "       [ True,  True,  True],\n",
       "       [ True,  True,  True],\n",
       "       [ True,  True,  True],\n",
       "       [ True,  True,  True],\n",
       "       [ True,  True,  True],\n",
       "       [ True,  True,  True],\n",
       "       [ True,  True,  True],\n",
       "       [ True,  True,  True],\n",
       "       [ True,  True,  True],\n",
       "       [ True,  True,  True],\n",
       "       [ True,  True,  True],\n",
       "       [ True,  True,  True],\n",
       "       [ True,  True,  True],\n",
       "       [ True,  True,  True],\n",
       "       [ True,  True,  True],\n",
       "       [ True,  True,  True],\n",
       "       [ True,  True,  True],\n",
       "       [ True,  True,  True],\n",
       "       [ True,  True,  True],\n",
       "       [ True,  True,  True],\n",
       "       [ True,  True,  True],\n",
       "       [ True,  True,  True],\n",
       "       [ True,  True,  True],\n",
       "       [ True,  True,  True],\n",
       "       [ True,  True,  True],\n",
       "       [ True,  True,  True],\n",
       "       [ True,  True,  True],\n",
       "       [ True,  True,  True],\n",
       "       [ True,  True,  True],\n",
       "       [ True,  True,  True],\n",
       "       [ True,  True,  True],\n",
       "       [ True,  True,  True],\n",
       "       [ True,  True,  True],\n",
       "       [ True,  True,  True],\n",
       "       [ True,  True,  True],\n",
       "       [ True,  True,  True],\n",
       "       [ True,  True,  True],\n",
       "       [ True,  True,  True],\n",
       "       [ True,  True,  True],\n",
       "       [ True,  True,  True],\n",
       "       [ True,  True,  True],\n",
       "       [ True,  True,  True],\n",
       "       [ True,  True,  True],\n",
       "       [ True,  True,  True],\n",
       "       [ True,  True,  True],\n",
       "       [ True,  True,  True],\n",
       "       [ True,  True,  True],\n",
       "       [ True,  True,  True],\n",
       "       [ True,  True,  True],\n",
       "       [ True,  True,  True],\n",
       "       [ True,  True,  True],\n",
       "       [ True,  True,  True],\n",
       "       [ True,  True,  True],\n",
       "       [ True,  True,  True],\n",
       "       [ True,  True,  True],\n",
       "       [ True,  True,  True],\n",
       "       [ True,  True,  True],\n",
       "       [ True,  True,  True],\n",
       "       [ True,  True,  True],\n",
       "       [ True,  True,  True],\n",
       "       [ True,  True,  True],\n",
       "       [ True,  True,  True],\n",
       "       [ True,  True,  True],\n",
       "       [ True,  True,  True],\n",
       "       [ True,  True,  True],\n",
       "       [ True,  True,  True],\n",
       "       [ True,  True,  True],\n",
       "       [ True,  True,  True],\n",
       "       [ True,  True,  True],\n",
       "       [ True,  True,  True],\n",
       "       [ True,  True,  True],\n",
       "       [ True,  True,  True],\n",
       "       [ True,  True,  True],\n",
       "       [ True,  True,  True],\n",
       "       [ True,  True,  True],\n",
       "       [ True,  True,  True]])"
      ]
     },
     "execution_count": 108,
     "metadata": {},
     "output_type": "execute_result"
    }
   ],
   "source": [
    "intervals_with_tss[random_indices] == random_intervals"
   ]
  },
  {
   "cell_type": "code",
   "execution_count": null,
   "metadata": {},
   "outputs": [],
   "source": [
    "def make_predtypes(index, interval):\n",
    "\n",
    "    with h5py.File(\"/grand/TFXcan/imlab/users/lvairus/reftile_project/predictions_folder/chr17_reference_avg6_shifted_regions/predictions_2023-08-15/chr17_predictions/chr17_reference_avg6/haplotype0/chr17_20693678_20824750_predictions.h5\") as f:\n",
    "        shift_down = f['chr17_20693678_20824750'][()]\n",
    "\n",
    "    with h5py.File(\"/grand/TFXcan/imlab/users/lvairus/reftile_project/predictions_folder/chr17_reference_avg6_shifted_regions/predictions_2023-08-15/chr17_predictions/chr17_reference_avg6/haplotype0_rc/chr17_20693678_20824750_predictions.h5\") as f:\n",
    "        shift_down_rev = f['chr17_20693678_20824750'][()]\n",
    "        shift_down_revflip = np.flipud(shift_down_rev)\n",
    "\n",
    "    with h5py.File(f\"/grand/TFXcan/imlab/users/lvairus/reftile_project/predictions_folder/reference_rcshift_shifted_regions/predictions_2023-08-17/predictions/reference_rcshift/haplotype0/{interval}_predictions.h5\") as f:\n",
    "        no_shift = f[interval][()]\n",
    "\n",
    "    with h5py.File(f\"/grand/TFXcan/imlab/users/lvairus/reftile_project/predictions_folder/reference_rcshift_shifted_regions/predictions_2023-08-17/predictions/reference_rcshift/haplotype0_rc/{interval}_predictions.h5\") as f:\n",
    "        no_shift_rev = f[interval][()]\n",
    "        no_shift_revflip = np.flipud(no_shift_rev)\n",
    "\n",
    "    with h5py.File(\"/grand/TFXcan/imlab/users/lvairus/reftile_project/predictions_folder/chr17_reference_avg6_shifted_regions/predictions_2023-08-15/chr17_predictions/chr17_reference_avg6/haplotype0/chr17_20693684_20824756_predictions.h5\") as f:\n",
    "        shift_up = f['chr17_20693684_20824756'][()]\n",
    "\n",
    "    with h5py.File(\"/grand/TFXcan/imlab/users/lvairus/reftile_project/predictions_folder/chr17_reference_avg6_shifted_regions/predictions_2023-08-15/chr17_predictions/chr17_reference_avg6/haplotype0_rc/chr17_20693684_20824756_predictions.h5\") as f:\n",
    "        shift_up_rev = f['chr17_20693684_20824756'][()]\n",
    "        shift_up_revflip = np.flipud(shift_up_rev)\n",
    "\n",
    "    forrev_avg = (forward + revflip) / 2\n",
    "    shifted_avg = (no_shift + no_shift_revflip + shift_down + shift_down_revflip + shift_up + shift_up_revflip) / 6\n",
    "\n",
    "    with h5py.File(\"/grand/TFXcan/imlab/data/enformer_training_data/basenji_data_h5/no_groups_popseq_revised_order/test_pop_seq.hdf5\") as f:\n",
    "        gtruth = f['target'][index]\n",
    "\n",
    "    return (forward, reverse, forrev_avg, shifted_avg, gtruth)"
   ]
  },
  {
   "cell_type": "code",
   "execution_count": 2,
   "metadata": {},
   "outputs": [
    {
     "data": {
      "text/plain": [
       "48"
      ]
     },
     "execution_count": 2,
     "metadata": {},
     "output_type": "execute_result"
    }
   ],
   "source": [
    "12*4"
   ]
  },
  {
   "cell_type": "code",
   "execution_count": null,
   "metadata": {},
   "outputs": [],
   "source": [
    "long_summary_df = pd.DataFrame(columns=['index', 'predtype', 'stattype', 'value'], index=range(5088))\n",
    "pred_stat_mat = np.zeros((4, 12))\n",
    "\n",
    "for i in len(random_intervals):\n",
    "    index = random_indices[i]\n",
    "    interval = random_intervals[i]\n",
    "\n",
    "    # get predtypes\n",
    "    forward, reverse, forrev_avg, shifted_avg, gtruth = make_predtypes(index, interval) # 5 (896, 5313)\n",
    "\n",
    "    # get reldiffs of each predtype to gtruth\n",
    "    reldiff_forward = get_diffmat(forward, gtruth) # (896, 5313)\n",
    "    reldiff_reverse = get_diffmat(reverse, gtruth)\n",
    "    reldiff_forrev_avg = get_diffmat(forrev_avg, gtruth)\n",
    "    reldiff_shifted_avg = get_diffmat(shifted_avg, gtruth)\n",
    "\n",
    "    # get summary stats of each reldiff\n",
    "    reldiff_forward_stats = get_summary_list(reldiff_forward) # (6)\n",
    "    reldiff_reverse_stats = get_summary_list(reldiff_reverse)\n",
    "    reldiff_forrev_avg_stats = get_summary_list(reldiff_forrev_avg)\n",
    "    reldiff_shifted_avg_stats = get_summary_list(reldiff_shifted_avg)\n",
    "\n",
    "    # get column correlations of each predtype to gtruth\n",
    "    colcorvec_forward = get_colcorvec(forward, gtruth) # (5313)\n",
    "    colcorvec_reverse = get_colcorvec(reverse, gtruth)\n",
    "    colcorvec_forrev_avg = get_colcorvec(forrev_avg, gtruth)\n",
    "    colcorvec_shifted_avg = get_colcorvec(shifted_avg, gtruth)\n",
    "\n",
    "    # get summary stats of each colcorvec\n",
    "    colcorvec_forward_stats = get_summary_list(colcorvec_forward) # (6)\n",
    "    colcorvec_reverse_stats = get_summary_list(colcorvec_reverse)\n",
    "    colcorvec_forrev_avg_stats = get_summary_list(colcorvec_forrev_avg)\n",
    "    colcorvec_shifted_avg_stats = get_summary_list(colcorvec_shifted_avg)\n",
    "\n",
    "    # combine stats into 1 vector\n",
    "    pred_stats_vec = np.concatenate((reldiff_forward_stats, reldiff_reverse_stats, reldiff_forrev_avg_stats, reldiff_shifted_avg_stats, colcorvec_forward_stats, colcorvec_reverse_stats, colcorvec_forrev_avg_stats, colcorvec_shifted_avg_stats), axis=0) # (48)\n",
    "\n",
    "    # add all values to long_summary_df\n",
    "    df.loc[48*i:48*(i+1), 'value'] = pred_stats_vec\n",
    "\n",
    "# loop through index predtype and stattype values to add to long_summary_df\n",
    "stattype_loop = ['reldiff_min','reldiff_q1','reldiff_med','reldiff_q3','reldiff_max','reldiff_mean','colcorvec_min','colcorvec_q1','colcorvec_median','colcorvec_q3','colcorvec_max','colcorvec_mean','colcorvec_std']\n",
    "predtype_loop = ['forward','reverse','forrev_avg','shifted_avg']\n",
    "\n",
    "stattype_loop = stattype_loop*424\n",
    "predtype_loop = predtype_loop*1272\n",
    "    "
   ]
  },
  {
   "cell_type": "code",
   "execution_count": 7,
   "metadata": {},
   "outputs": [
    {
     "data": {
      "text/plain": [
       "5088"
      ]
     },
     "execution_count": 7,
     "metadata": {},
     "output_type": "execute_result"
    }
   ],
   "source": [
    "106*48\n"
   ]
  },
  {
   "cell_type": "code",
   "execution_count": 8,
   "metadata": {},
   "outputs": [
    {
     "ename": "NameError",
     "evalue": "name 'random_indices' is not defined",
     "output_type": "error",
     "traceback": [
      "\u001b[0;31m---------------------------------------------------------------------------\u001b[0m",
      "\u001b[0;31mNameError\u001b[0m                                 Traceback (most recent call last)",
      "Cell \u001b[0;32mIn[8], line 1\u001b[0m\n\u001b[0;32m----> 1\u001b[0m \u001b[39mtype\u001b[39m(random_indices)\n",
      "\u001b[0;31mNameError\u001b[0m: name 'random_indices' is not defined"
     ]
    }
   ],
   "source": [
    "type(random_indices)"
   ]
  },
  {
   "cell_type": "code",
   "execution_count": null,
   "metadata": {},
   "outputs": [],
   "source": []
  }
 ],
 "metadata": {
  "kernelspec": {
   "display_name": "Python 3",
   "language": "python",
   "name": "python3"
  },
  "language_info": {
   "codemirror_mode": {
    "name": "ipython",
    "version": 3
   },
   "file_extension": ".py",
   "mimetype": "text/x-python",
   "name": "python",
   "nbconvert_exporter": "python",
   "pygments_lexer": "ipython3",
   "version": "3.10.9"
  },
  "orig_nbformat": 4
 },
 "nbformat": 4,
 "nbformat_minor": 2
}
