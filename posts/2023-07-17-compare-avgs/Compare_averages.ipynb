{
 "cells": [
  {
   "cell_type": "markdown",
   "metadata": {},
   "source": [
    "---\n",
    "title: \"Compare averages 2\"\n",
    "author: \"Laura Vairus\"\n",
    "date: \"2023-06-17\"\n",
    "---"
   ]
  },
  {
   "cell_type": "markdown",
   "metadata": {},
   "source": [
    "## Import Libraries"
   ]
  },
  {
   "cell_type": "code",
   "execution_count": 39,
   "metadata": {},
   "outputs": [
    {
     "name": "stdout",
     "output_type": "stream",
     "text": [
      "Num GPUs Available:  4\n"
     ]
    }
   ],
   "source": [
    "import tensorflow as tf\n",
    "# Make sure the GPU is enabled \n",
    "assert tf.config.list_physical_devices('GPU'), 'Start the colab kernel with GPU: Runtime -> Change runtime type -> GPU'\n",
    "print(\"Num GPUs Available: \", len(tf.config.list_physical_devices('GPU')))\n",
    "import tensorflow_hub as hub # for interacting with saved models and tensorflow hub\n",
    "import joblib\n",
    "import gzip # for manipulating compressed files\n",
    "import kipoiseq # for manipulating fasta files\n",
    "from kipoiseq import Interval # same as above, really\n",
    "import pyfaidx # to index our reference genome file\n",
    "import pandas as pd # for manipulating dataframes\n",
    "import numpy as np # for numerical computations\n",
    "import matplotlib.pyplot as plt # for plotting\n",
    "import matplotlib as mpl # for plotting\n",
    "import seaborn as sns # for plotting\n",
    "import pickle # for saving large objects\n",
    "import os, sys # functions for interacting with the operating system\n",
    "\n",
    "import numpy as np\n",
    "import matplotlib.pyplot as plt\n",
    "from collections import Counter\n",
    "\n",
    "%matplotlib inline\n",
    "%config InlineBackend.figure_format = 'retina'"
   ]
  },
  {
   "cell_type": "markdown",
   "metadata": {},
   "source": [
    "## Define Paths"
   ]
  },
  {
   "cell_type": "code",
   "execution_count": 40,
   "metadata": {},
   "outputs": [],
   "source": [
    "transform_path = 'gs://dm-enformer/models/enformer.finetuned.SAD.robustscaler-PCA500-robustscaler.transform.pkl'\n",
    "model_path = 'https://tfhub.dev/deepmind/enformer/1'\n",
    "fasta_file = '/grand/TFXcan/imlab/users/lvairus/hackenf/data/genome.fa'\n",
    "targets_txt = 'https://raw.githubusercontent.com/calico/basenji/master/manuscripts/cross2020/targets_human.txt'\n",
    "df_targets = pd.read_csv(targets_txt, sep='\\t')"
   ]
  },
  {
   "cell_type": "markdown",
   "metadata": {},
   "source": [
    "## Define Functions"
   ]
  },
  {
   "cell_type": "code",
   "execution_count": 41,
   "metadata": {},
   "outputs": [],
   "source": [
    "# @title `Enformer`, `EnformerScoreVariantsNormalized`, `EnformerScoreVariantsPCANormalized`,\n",
    "SEQUENCE_LENGTH = 393216\n",
    "\n",
    "class Enformer:\n",
    "\n",
    "  def __init__(self, tfhub_url):\n",
    "    self._model = hub.load(tfhub_url).model\n",
    "\n",
    "  def predict_on_batch(self, inputs):\n",
    "    predictions = self._model.predict_on_batch(inputs)\n",
    "    return {k: v.numpy() for k, v in predictions.items()}\n",
    "\n",
    "  @tf.function\n",
    "  def contribution_input_grad(self, input_sequence,\n",
    "                              target_mask, output_head='human'):\n",
    "    input_sequence = input_sequence[tf.newaxis]\n",
    "\n",
    "    target_mask_mass = tf.reduce_sum(target_mask)\n",
    "    with tf.GradientTape() as tape:\n",
    "      tape.watch(input_sequence)\n",
    "      prediction = tf.reduce_sum(\n",
    "          target_mask[tf.newaxis] *\n",
    "          self._model.predict_on_batch(input_sequence)[output_head]) / target_mask_mass\n",
    "\n",
    "    input_grad = tape.gradient(prediction, input_sequence) * input_sequence\n",
    "    input_grad = tf.squeeze(input_grad, axis=0)\n",
    "    return tf.reduce_sum(input_grad, axis=-1)\n",
    "\n",
    "\n",
    "class EnformerScoreVariantsRaw:\n",
    "\n",
    "  def __init__(self, tfhub_url, organism='human'):\n",
    "    self._model = Enformer(tfhub_url)\n",
    "    self._organism = organism\n",
    "\n",
    "  def predict_on_batch(self, inputs):\n",
    "    ref_prediction = self._model.predict_on_batch(inputs['ref'])[self._organism]\n",
    "    alt_prediction = self._model.predict_on_batch(inputs['alt'])[self._organism]\n",
    "\n",
    "    return alt_prediction.mean(axis=1) - ref_prediction.mean(axis=1)\n",
    "\n",
    "\n",
    "class EnformerScoreVariantsNormalized:\n",
    "\n",
    "  def __init__(self, tfhub_url, transform_pkl_path,\n",
    "               organism='human'):\n",
    "    assert organism == 'human', 'Transforms only compatible with organism=human'\n",
    "    self._model = EnformerScoreVariantsRaw(tfhub_url, organism)\n",
    "    with tf.io.gfile.GFile(transform_pkl_path, 'rb') as f:\n",
    "      transform_pipeline = joblib.load(f)\n",
    "    self._transform = transform_pipeline.steps[0][1]  # StandardScaler.\n",
    "\n",
    "  def predict_on_batch(self, inputs):\n",
    "    scores = self._model.predict_on_batch(inputs)\n",
    "    return self._transform.transform(scores)\n",
    "\n",
    "\n",
    "class EnformerScoreVariantsPCANormalized:\n",
    "\n",
    "  def __init__(self, tfhub_url, transform_pkl_path,\n",
    "               organism='human', num_top_features=500):\n",
    "    self._model = EnformerScoreVariantsRaw(tfhub_url, organism)\n",
    "    with tf.io.gfile.GFile(transform_pkl_path, 'rb') as f:\n",
    "      self._transform = joblib.load(f)\n",
    "    self._num_top_features = num_top_features\n",
    "\n",
    "  def predict_on_batch(self, inputs):\n",
    "    scores = self._model.predict_on_batch(inputs)\n",
    "    return self._transform.transform(scores)[:, :self._num_top_features]\n",
    "\n",
    "\n",
    "# TODO(avsec): Add feature description: Either PCX, or full names.\n",
    "\n",
    "\n",
    "# @title `variant_centered_sequences`\n",
    "\n",
    "class FastaStringExtractor:\n",
    "\n",
    "    def __init__(self, fasta_file):\n",
    "        self.fasta = pyfaidx.Fasta(fasta_file)\n",
    "        self._chromosome_sizes = {k: len(v) for k, v in self.fasta.items()}\n",
    "    #import pd.Interval as Interval\n",
    "    def extract(self, interval: Interval, **kwargs) -> str:\n",
    "        # Truncate interval if it extends beyond the chromosome lengths.\n",
    "        chromosome_length = self._chromosome_sizes[interval.chrom]\n",
    "        trimmed_interval = Interval(interval.chrom,\n",
    "                                    max(interval.start, 0),\n",
    "                                    min(interval.end, chromosome_length),\n",
    "                                    )\n",
    "        # pyfaidx wants a 1-based interval\n",
    "        sequence = str(self.fasta.get_seq(trimmed_interval.chrom,\n",
    "                                          trimmed_interval.start + 1,\n",
    "                                          trimmed_interval.stop).seq).upper()\n",
    "        # Fill truncated values with N's.\n",
    "        pad_upstream = 'N' * max(-interval.start, 0)\n",
    "        pad_downstream = 'N' * max(interval.end - chromosome_length, 0)\n",
    "        return pad_upstream + sequence + pad_downstream\n",
    "\n",
    "    def close(self):\n",
    "        return self.fasta.close()\n",
    "\n",
    "\n",
    "def one_hot_encode(sequence):\n",
    "  return kipoiseq.transforms.functional.one_hot_dna(sequence).astype(np.float32)\n",
    "\n",
    "\n",
    "\n",
    "# @title `plot_tracks`\n",
    "\n",
    "def plot_tracks(tracks, interval, height=1.5):\n",
    "  fig, axes = plt.subplots(len(tracks), 1, figsize=(20, height * len(tracks)), sharex=True)\n",
    "  for ax, (title, y) in zip(axes, tracks.items()):\n",
    "    ax.fill_between(np.linspace(interval.start, interval.end, num=len(y)), y)\n",
    "    ax.set_title(title)\n",
    "    sns.despine(top=True, right=True, bottom=True)\n",
    "  ax.set_xlabel(str(interval))\n",
    "  plt.tight_layout()"
   ]
  },
  {
   "cell_type": "code",
   "execution_count": 42,
   "metadata": {},
   "outputs": [],
   "source": [
    "import Bio\n",
    "\n",
    "from Bio.Seq import Seq\n",
    "def create_rev_complement(dna_string):\n",
    "    return(str(Seq(dna_string).reverse_complement()))"
   ]
  },
  {
   "cell_type": "code",
   "execution_count": 43,
   "metadata": {},
   "outputs": [],
   "source": [
    "def prepare_for_quantify_prediction_per_TSS(predictions, gene, tss_df):\n",
    "\n",
    "  '''\n",
    "\n",
    "  Parameters:\n",
    "          predicitions (A numpy array): All predictions from the track\n",
    "          gene (a gene name, character): a gene\n",
    "          tss_df: a list of dataframe of genes and their transcription start sites\n",
    "  Returns:\n",
    "          A dictionary of cage experiment predictions and a list of transcription start sites\n",
    "\n",
    "  '''\n",
    "\n",
    "  output = dict()\n",
    "  for tdf in tss_df:\n",
    "    if gene not in tdf.genes.values:\n",
    "      continue\n",
    "    gene_tss_list = tdf[tdf.genes == gene].txStart_Sites.apply(str).values\n",
    "    gene_tss_list = [t.split(', ') for t in gene_tss_list]\n",
    "    gene_tss_list = [int(item) for nestedlist in gene_tss_list for item in nestedlist]\n",
    "    gene_tss_list = list(set(gene_tss_list))\n",
    "  output['cage_predictions'] = predictions[:, 5110] # a numpy array\n",
    "  output['gene_TSS'] = gene_tss_list # a list\n",
    "\n",
    "\n",
    "  return(output) # a dictionary\n",
    "\n",
    "def quantify_prediction_per_TSS(low_range, TSS, cage_predictions):\n",
    "\n",
    "  '''\n",
    "  Parameters:\n",
    "          low_range (int): The lower interval\n",
    "          TSS (list of integers): A list of TSS for a gene\n",
    "          cage_predictions: A 1D numpy array or a vector of predictions from enformer corresponding to track 5110 or CAGE predictions\n",
    "  Returns:\n",
    "          A dictionary of gene expression predictions for each TSS for a gene\n",
    "    '''\n",
    "  tss_predictions = dict()\n",
    "  for tss in TSS:\n",
    "    bin_start = low_range + ((768 + 320) * 128)\n",
    "    count = -1\n",
    "    while bin_start < tss:\n",
    "      bin_start = bin_start + 128\n",
    "      count += 1\n",
    "    if count >= len(cage_predictions)-1:\n",
    "      continue\n",
    "    cage_preds = cage_predictions[count - 1] + cage_predictions[count] + cage_predictions[count + 1]\n",
    "    tss_predictions[tss] = cage_preds\n",
    "\n",
    "  return(tss_predictions)\n",
    "\n",
    "def collect_intervals(chromosomes = [\"22\"], gene_list=None):\n",
    "\n",
    "  '''\n",
    "    Parameters :\n",
    "      chromosomes : a list of chromosome numbers; each element should be a string format\n",
    "      gene_list : a list of genes; the genes should be located on those chromosomes\n",
    "\n",
    "    Returns :\n",
    "      A dictionary of genes (from gene_list) and their intervals within their respective chromosomes\n",
    "  '''\n",
    "\n",
    "  gene_intervals = {} # Collect intervals for our genes of interest\n",
    "\n",
    "  for chrom in chromosomes:\n",
    "    with open(\"/grand/TFXcan/imlab/users/lvairus/hackenf/data/gene_chroms/gene_\"+ chrom + \".txt\", \"r\") as chrom_genes:\n",
    "      for line in chrom_genes:\n",
    "        split_line = line.strip().split(\"\\t\")\n",
    "        gene_intervals[split_line[2]] = [\n",
    "                                          split_line[0],\n",
    "                                          int(split_line[3]),\n",
    "                                          int(split_line[4])\n",
    "                                        ]\n",
    "\n",
    "  if isinstance(gene_list, list): # if the user has supplied a list of genes they are interested in\n",
    "    use_genes = dict((k, gene_intervals[k]) for k in gene_list if k in gene_intervals)\n",
    "    return(use_genes)\n",
    "  elif isinstance(gene_list, type(None)):\n",
    "    return(gene_intervals)\n",
    "\n",
    "\n",
    "def run_predictions(gene_intervals, tss_dataframe, individuals_list=None):\n",
    "  '''\n",
    "  Parameters :\n",
    "    gene_intervals : the results from calling `collect_intervals`\n",
    "    tss_dataframe : a list of the TSSs dataframes i.e. the TSS for the genes in the chromosomes\n",
    "    individuals_list : a list of individuals on which we want to make predictions; defaults to None\n",
    "\n",
    "  Returns :\n",
    "    A list of predictions; the first element is the predictions around the TSS for each gene. The second is the prediction across CAGE tracks\n",
    "  '''\n",
    "\n",
    "  gene_output = dict()\n",
    "  gene_predictions = dict()\n",
    "\n",
    "  for gene in gene_intervals.keys():\n",
    "    gene_interval = gene_intervals[gene]\n",
    "    target_interval = kipoiseq.Interval(\"chr\" + gene_interval[0],\n",
    "                                        gene_interval[1],\n",
    "                                        gene_interval[2]) # creates an interval to select the right sequences\n",
    "    target_fa = fasta_extractor.extract(target_interval.resize(SEQUENCE_LENGTH))  # extracts the fasta sequences, and resizes such that it is compatible with the sequence_length\n",
    "    window_coords = target_interval.resize(SEQUENCE_LENGTH) # we also need information about the start and end locations after resizing\n",
    "    try:\n",
    "      cur_gene_vars = pd.read_csv(\"/grand/TFXcan/imlab/users/lvairus/hackenf/data/individual_beds/chr\" + gene_interval[0] + \"/chr\" + gene_interval[0] + \"_\"+ gene + \".bed\", sep=\"\\t\", header=0) # read in the appropriate bed file for the gene\n",
    "    except:\n",
    "      continue\n",
    "    individual_results = dict()\n",
    "    individual_prediction = dict()\n",
    "\n",
    "    if isinstance(individuals_list, list) or isinstance(individuals_list, type(np.empty([1, 1]))):\n",
    "      use_individuals = individuals_list\n",
    "    elif isinstance(individuals_list, type(None)):\n",
    "      use_individuals = cur_gene_vars.columns[4:]\n",
    "\n",
    "    for individual in use_individuals:\n",
    "      print('Currently on gene {}, and predicting on individual {}...'.format(gene, individual))\n",
    "      # two haplotypes per individual\n",
    "      haplo_1 = list(target_fa[:])\n",
    "      haplo_2 = list(target_fa[:])\n",
    "\n",
    "      ref_mismatch_count = 0\n",
    "      for i,row in cur_gene_vars.iterrows():\n",
    "\n",
    "        geno = row[individual].split(\"|\")\n",
    "        if (row[\"POS\"]-window_coords.start-1) >= len(haplo_2):\n",
    "          continue\n",
    "        if (row[\"POS\"]-window_coords.start-1) < 0:\n",
    "          continue\n",
    "        if geno[0] == \"1\":\n",
    "          haplo_1[row[\"POS\"]-window_coords.start-1] = row[\"ALT\"]\n",
    "        if geno[1] == \"1\":\n",
    "          haplo_2[row[\"POS\"]-window_coords.start-1] = row[\"ALT\"]\n",
    "\n",
    "      # predict on the individual's two haplotypes\n",
    "      prediction_1 = model.predict_on_batch(one_hot_encode(\"\".join(haplo_1))[np.newaxis])['human'][0]\n",
    "      prediction_2 = model.predict_on_batch(one_hot_encode(\"\".join(haplo_2))[np.newaxis])['human'][0]\n",
    "\n",
    "      temp_predictions = [prediction_1[:, 5110], prediction_2[:, 5110]] # CAGE predictions we are interested in\n",
    "      individual_prediction[individual] = temp_predictions\n",
    "\n",
    "      # Calculate TSS CAGE expression which correspond to column 5110 of the predictions above\n",
    "      temp_list = list()\n",
    "\n",
    "      pred_prepared_1 = prepare_for_quantify_prediction_per_TSS(predictions=prediction_1, gene=gene, tss_df=tss_dataframe)\n",
    "      tss_predictions_1 = quantify_prediction_per_TSS(low_range = window_coords.start, TSS=pred_prepared_1['gene_TSS'], cage_predictions=pred_prepared_1['cage_predictions'])\n",
    "\n",
    "      pred_prepared_2 = prepare_for_quantify_prediction_per_TSS(predictions=prediction_2, gene=gene, tss_df=tss_dataframe)\n",
    "      tss_predictions_2 = quantify_prediction_per_TSS(low_range = window_coords.start, TSS=pred_prepared_2['gene_TSS'], cage_predictions=pred_prepared_2['cage_predictions'])\n",
    "\n",
    "      temp_list.append(tss_predictions_1)\n",
    "      temp_list.append(tss_predictions_2) # results here are a dictionary for each TSS for each haplotype\n",
    "\n",
    "      individual_results[individual] = temp_list # save for the individual\n",
    "\n",
    "    gene_output[gene] = individual_results\n",
    "    gene_predictions[gene] = individual_prediction\n",
    "\n",
    "  return([gene_output, gene_predictions])\n",
    "\n",
    "\n",
    "def collect_target_intervals(gene_intervals):\n",
    "\n",
    "  '''\n",
    "  Returns a dictionary of Interval objects (from kipoiseq) for each gene corresponding to the locations of the gene\n",
    "  '''\n",
    "\n",
    "  target_intervals_dict = dict()\n",
    "\n",
    "  for gene in gene_intervals.keys():\n",
    "    gene_interval = gene_intervals[gene]\n",
    "    target_interval = kipoiseq.Interval(\"chr\" + gene_interval[0],\n",
    "                                        gene_interval[1],\n",
    "                                        gene_interval[2])\n",
    "    target_intervals_dict[gene] = target_interval\n",
    "\n",
    "  return(target_intervals_dict)\n",
    "\n",
    "def prepare_for_plot_tracks(gene, individual, all_predictions, chromosome=['22']):\n",
    "\n",
    "  '''\n",
    "  This returns a dictionary of gene tracks and gene intervals, prepared for the function plot_tracks.\n",
    "\n",
    "  Parameters:\n",
    "    - gene\n",
    "    - individual\n",
    "    - all_predictions\n",
    "  '''\n",
    "\n",
    "  haplo_predictions = all_predictions[gene][individual]\n",
    "  gene_tracks = {gene + ' | ' + individual + ' | haplotype 1': np.log10(1 + haplo_predictions[0]),\n",
    "                gene + ' | ' + individual + ' | haplotype 2': np.log10(1 + haplo_predictions[1])}\n",
    "\n",
    "  gene_intervals = collect_intervals(chromosomes=chromosome, gene_list=[gene])\n",
    "  gene_intervals = collect_target_intervals(gene_intervals)\n",
    "\n",
    "  output = dict()\n",
    "  output['gene_tracks'] = gene_tracks\n",
    "  output['gene_intervals'] = gene_intervals[gene]\n",
    "\n",
    "  return(output)\n",
    "\n",
    "def check_individuals(path_to_bed_file, list_of_individuals):\n",
    "\n",
    "  '''\n",
    "  Checks if an individual is missing in bed variation files.\n",
    "  These individuals should be removed prior to training\n",
    "  '''\n",
    "\n",
    "  myfile = open(path_to_bed_file, 'r')\n",
    "  myline = myfile.readline()\n",
    "  bed_names = myline.split('\\t')[4:]\n",
    "  myfile.close()\n",
    "\n",
    "  if set(list_of_individuals).issubset(set(bed_names)) == False:\n",
    "    missing = list(set(list_of_individuals).difference(bed_names))\n",
    "    print('This (or these) individual(s) is/are not present: {}'.format(missing))\n",
    "  else:\n",
    "    missing = []\n",
    "    print('All individuals are present in the bed file.')\n",
    "\n",
    "  return(missing)"
   ]
  },
  {
   "cell_type": "code",
   "execution_count": 44,
   "metadata": {},
   "outputs": [],
   "source": [
    "def geno_to_seq(gene, individual):\n",
    "      # two haplotypes per individual\n",
    "  haplo_1 = list(target_fa[:])\n",
    "  haplo_2 = list(target_fa[:])\n",
    "\n",
    "  ref_mismatch_count = 0\n",
    "  for i,row in cur_gene_vars.iterrows():\n",
    "\n",
    "    geno = row[individual].split(\"|\")\n",
    "    if (row[\"POS\"]-window_coords.start-1) >= len(haplo_2):\n",
    "      continue\n",
    "    if (row[\"POS\"]-window_coords.start-1) < 0:\n",
    "      continue\n",
    "    if geno[0] == \"1\":\n",
    "      haplo_1[row[\"POS\"]-window_coords.start-1] = row[\"ALT\"]\n",
    "    if geno[1] == \"1\":\n",
    "      haplo_2[row[\"POS\"]-window_coords.start-1] = row[\"ALT\"]\n",
    "  return haplo_1, haplo_2\n",
    "\n",
    "      # predict on the individual's two haplotypes\n",
    "    "
   ]
  },
  {
   "cell_type": "code",
   "execution_count": 45,
   "metadata": {},
   "outputs": [],
   "source": [
    "def run_predictions2(gene, chrom, indiv):\n",
    "    '''\n",
    "    Parameters :\n",
    "       gene: gene to run (string)\n",
    "       chrom: chrom gene is on (string)\n",
    "       indiv: individual to run (string)\n",
    "       chrNtss: variable of tss for chr\n",
    "    Returns :\n",
    "        A list of predictions; the first element is the predictions around the TSS for each gene. The second is the prediction across CAGE tracks\n",
    "    '''\n",
    "    \n",
    "    gene_intervals = collect_intervals(chromosomes=[chrom], gene_list=[gene])\n",
    "    individuals_list = [indiv]\n",
    "\n",
    "    for gene in gene_intervals.keys():\n",
    "        global fasta_extractor\n",
    "        gene_interval = gene_intervals[gene]\n",
    "        target_interval = kipoiseq.Interval(\"chr\" + gene_interval[0],\n",
    "                                            gene_interval[1],\n",
    "                                            gene_interval[2]) # creates an interval to select the right sequences\n",
    "        target_fa = fasta_extractor.extract(target_interval.resize(SEQUENCE_LENGTH))  # extracts the fasta sequences, and resizes such that it is compatible with the sequence_length\n",
    "        window_coords = target_interval.resize(SEQUENCE_LENGTH) # we also need information about the start and end locations after resizing\n",
    "        try:\n",
    "            cur_gene_vars = pd.read_csv(\"/grand/TFXcan/imlab/users/lvairus/hackenf/data/individual_beds/chr\" + gene_interval[0] + \"/chr\" + gene_interval[0] + \"_\"+ gene + \".bed\", sep=\"\\t\", header=0) # read in the appropriate bed file for the gene\n",
    "        except:\n",
    "            continue\n",
    "        individual_prediction = dict()\n",
    "\n",
    "        if isinstance(individuals_list, list) or isinstance(individuals_list, type(np.empty([1, 1]))):\n",
    "            use_individuals = individuals_list\n",
    "        elif isinstance(individuals_list, type(None)):\n",
    "            use_individuals = cur_gene_vars.columns[4:]\n",
    "\n",
    "        for individual in use_individuals:\n",
    "            # two haplotypes per individual\n",
    "            haplo_1 = list(target_fa[:])\n",
    "            haplo_2 = list(target_fa[:])\n",
    "\n",
    "            ref_mismatch_count = 0\n",
    "            for i,row in cur_gene_vars.iterrows():\n",
    "\n",
    "                geno = row[individual].split(\"|\")\n",
    "                if (row[\"POS\"]-window_coords.start-1) >= len(haplo_2):\n",
    "                    continue\n",
    "                if (row[\"POS\"]-window_coords.start-1) < 0:\n",
    "                    continue\n",
    "                if geno[0] == \"1\":\n",
    "                    haplo_1[row[\"POS\"]-window_coords.start-1] = row[\"ALT\"]\n",
    "                if geno[1] == \"1\":\n",
    "                    haplo_2[row[\"POS\"]-window_coords.start-1] = row[\"ALT\"]\n",
    "\n",
    "            # predict on the individual's two haplotypes\n",
    "            global model\n",
    "\n",
    "            ohe_haplo_1 = one_hot_encode(\"\".join(haplo_1))[np.newaxis]\n",
    "            ohe_haplo_2 = one_hot_encode(\"\".join(haplo_2))[np.newaxis]\n",
    "\n",
    "            ohe_haplo_avg = np.add(ohe_haplo_1, ohe_haplo_2) / 2\n",
    "                                         \n",
    "            prediction_1 = model.predict_on_batch(ohe_haplo_1)['human'][0]\n",
    "            prediction_2 = model.predict_on_batch(ohe_haplo_2)['human'][0]\n",
    "            prediction_avg = model.predict_on_batch(ohe_haplo_avg)['human'][0]\n",
    "            \n",
    "            post_avg = (prediction_1 + prediction_2) / 2\n",
    "            pre_avg = prediction_avg\n",
    "\n",
    "    return([pre_avg, post_avg])"
   ]
  },
  {
   "cell_type": "code",
   "execution_count": 46,
   "metadata": {},
   "outputs": [],
   "source": [
    "def get_relmax(arr):\n",
    "    col_max = np.max(arr, axis=0)\n",
    "    relmax = arr / col_max\n",
    "    return relmax\n",
    "\n",
    "def get_relmed(arr):\n",
    "    col_med = np.median(arr, axis=0)\n",
    "    relmed = arr / col_med\n",
    "    return relmed"
   ]
  },
  {
   "cell_type": "code",
   "execution_count": 67,
   "metadata": {},
   "outputs": [],
   "source": [
    "class RunCompare():\n",
    "\n",
    "    def __init__(self, gene, chrom, indiv):\n",
    "        # starting variables\n",
    "        self.gene = gene\n",
    "        self.chrom = chrom\n",
    "        self.indiv = indiv\n",
    "        # run predictions\n",
    "        self.pre_avg, self.post_avg = run_predictions2(gene, chrom, indiv)\n",
    "        # make diffmats\n",
    "        self.diffmat = self.pre_avg - self.post_avg\n",
    "        self.abs_diffmat = abs(self.diffmat)\n",
    "        self.rel_diffmat = self.abs_diffmat / (abs(self.pre_avg) + abs(self.post_avg) + 1**-16) * 100\n",
    "        self.relmax_diffmat = get_relmax(self.abs_diffmat)\n",
    "        self.relmed_diffmat = get_relmed(self.abs_diffmat)\n",
    "\n",
    "    def get_summary(self, arr):\n",
    "        summary = {\n",
    "            \"mean\": np.mean(arr),\n",
    "            \"median\": np.median(arr),\n",
    "            \"std_dev\": np.std(arr),\n",
    "            \"minimum\": np.min(arr),\n",
    "            \"maximum\": np.max(arr),\n",
    "            \"total_sum\": np.sum(arr),\n",
    "            \"q1\": np.percentile(arr, 25),\n",
    "            \"q2\": np.percentile(arr, 50),\n",
    "            \"q3\": np.percentile(arr, 75),\n",
    "            \"iqr\": np.percentile(arr, 75) - np.percentile(arr, 25)\n",
    "        }\n",
    "        return summary\n",
    "    \n",
    "    def get_outliers(self, arr, tol):\n",
    "        outs = arr[arr > tol]\n",
    "        return outs\n",
    "    \n",
    "    def get_outlier_inds(self, arr, tol):\n",
    "        out_inds = np.where(arr > tol)\n",
    "        out_inds_arr = np.array(list(zip(indices[0], indices[1])))\n",
    "\n",
    "        row_inds = out_inds[0]\n",
    "        col_inds = out_inds[1]\n",
    "\n",
    "        return [out_inds_arr, row_inds, col_inds]\n",
    "    \n",
    "    def plot_hist(self, arr, bin_num):\n",
    "        plt.hist(arr, bins=bin_num)\n",
    "        # Add labels and title\n",
    "        plt.xlabel('Value')\n",
    "        plt.ylabel('Frequency')\n",
    "        # Display the plot\n",
    "        plt.show()\n",
    "\n",
    "    def plot_tol_vs_outs(self, arr, mintol, maxtol, steps):\n",
    "        x = np.linspace(maxtol, mintol, steps)\n",
    "        y = []\n",
    "        for tol in x:\n",
    "            y.append(len(self.get_outliers(arr, tol)))\n",
    "\n",
    "        plt.scatter(x, y)\n",
    "        # Add labels and title\n",
    "        plt.xlabel('tolerance')\n",
    "        plt.ylabel('num outliers')\n",
    "        # Display the plot\n",
    "        plt.show()\n",
    "        return None\n",
    "    \n",
    "    def make_df(self, arr, tol):\n",
    "        global track_names\n",
    "        outs = self.get_outliers(arr, tol)\n",
    "        all_inds, col_inds, row_inds = self.get_outlier_inds(arr, tol)\n",
    "        data = {\n",
    "            'name': [track_names[i] for i in col_inds],\n",
    "            'bin': row_inds,\n",
    "            'diff': outs\n",
    "        }\n",
    "        df = pd.DataFrame(data)\n",
    "        df_sorted = df.sort_values('diff')\n",
    "        return df_sorted"
   ]
  },
  {
   "cell_type": "code",
   "execution_count": 48,
   "metadata": {},
   "outputs": [],
   "source": [
    "def print_comparisons(pre_average, post_average, tolerance):\n",
    "\n",
    "    dict = {}\n",
    "    diffmat = pre_average - post_average\n",
    "\n",
    "    # abs diff matrix\n",
    "    abs = {}\n",
    "    print(\"Absolute Difference:\")\n",
    "\n",
    "    abs_diffmat = np.sqrt(np.square(diffmat)) # make abs diff mat\n",
    "    \n",
    "    abs_diffmat_summary = get_stats(abs_diffmat) # get summary of mat\n",
    "    print(f\"Summary Statistics: {abs_diffmat_summary}\") # print summary\n",
    "\n",
    "    # get outlier differences\n",
    "    outlier_abs_diff = abs_diffmat[abs_diffmat>tolerance]\n",
    "\n",
    "\n",
    "    # make hist of out diffs\n",
    "\n",
    "    \n",
    "\n",
    "\n",
    "    # rel diff matrix\n",
    "    rel_diff = (abs_diff) / ((pre_average + post_average) + 10**-16)\n",
    "\n",
    "\n",
    "    # rel max diff matrix\n",
    "\n",
    "\n",
    "    dict[\"abs\"] = abs\n",
    "\n",
    "    return dict\n",
    "\n",
    "\n",
    "\n"
   ]
  },
  {
   "cell_type": "markdown",
   "metadata": {},
   "source": [
    "## Prepare input data"
   ]
  },
  {
   "cell_type": "code",
   "execution_count": 49,
   "metadata": {},
   "outputs": [],
   "source": [
    "targets_txt = 'https://raw.githubusercontent.com/calico/basenji/master/manuscripts/cross2020/targets_human.txt'\n",
    "df_targets = pd.read_csv(targets_txt, sep='\\t')"
   ]
  },
  {
   "cell_type": "code",
   "execution_count": 50,
   "metadata": {},
   "outputs": [],
   "source": [
    "track_names = df_targets['description'].tolist()"
   ]
  },
  {
   "cell_type": "code",
   "execution_count": 51,
   "metadata": {},
   "outputs": [
    {
     "data": {
      "text/html": [
       "<div>\n",
       "<style scoped>\n",
       "    .dataframe tbody tr th:only-of-type {\n",
       "        vertical-align: middle;\n",
       "    }\n",
       "\n",
       "    .dataframe tbody tr th {\n",
       "        vertical-align: top;\n",
       "    }\n",
       "\n",
       "    .dataframe thead th {\n",
       "        text-align: right;\n",
       "    }\n",
       "</style>\n",
       "<table border=\"1\" class=\"dataframe\">\n",
       "  <thead>\n",
       "    <tr style=\"text-align: right;\">\n",
       "      <th></th>\n",
       "      <th>chroms</th>\n",
       "      <th>link</th>\n",
       "    </tr>\n",
       "    <tr>\n",
       "      <th>chroms</th>\n",
       "      <th></th>\n",
       "      <th></th>\n",
       "    </tr>\n",
       "  </thead>\n",
       "  <tbody>\n",
       "    <tr>\n",
       "      <th>1</th>\n",
       "      <td>1</td>\n",
       "      <td>https://uchicago.box.com/shared/static/9q9n4a0...</td>\n",
       "    </tr>\n",
       "    <tr>\n",
       "      <th>2</th>\n",
       "      <td>2</td>\n",
       "      <td>https://uchicago.box.com/shared/static/1tk6a3f...</td>\n",
       "    </tr>\n",
       "    <tr>\n",
       "      <th>3</th>\n",
       "      <td>3</td>\n",
       "      <td>https://uchicago.box.com/shared/static/77ldwqq...</td>\n",
       "    </tr>\n",
       "    <tr>\n",
       "      <th>4</th>\n",
       "      <td>4</td>\n",
       "      <td>https://uchicago.box.com/shared/static/s0g48al...</td>\n",
       "    </tr>\n",
       "    <tr>\n",
       "      <th>5</th>\n",
       "      <td>5</td>\n",
       "      <td>https://uchicago.box.com/shared/static/yafgxb1...</td>\n",
       "    </tr>\n",
       "    <tr>\n",
       "      <th>6</th>\n",
       "      <td>6</td>\n",
       "      <td>https://uchicago.box.com/shared/static/9vpxc7z...</td>\n",
       "    </tr>\n",
       "    <tr>\n",
       "      <th>7</th>\n",
       "      <td>7</td>\n",
       "      <td>https://uchicago.box.com/shared/static/hkru0gi...</td>\n",
       "    </tr>\n",
       "    <tr>\n",
       "      <th>8</th>\n",
       "      <td>8</td>\n",
       "      <td>https://uchicago.box.com/shared/static/ruac33s...</td>\n",
       "    </tr>\n",
       "    <tr>\n",
       "      <th>9</th>\n",
       "      <td>9</td>\n",
       "      <td>https://uchicago.box.com/shared/static/dfw6gkj...</td>\n",
       "    </tr>\n",
       "    <tr>\n",
       "      <th>10</th>\n",
       "      <td>10</td>\n",
       "      <td>https://uchicago.box.com/shared/static/ek50gvt...</td>\n",
       "    </tr>\n",
       "  </tbody>\n",
       "</table>\n",
       "</div>"
      ],
      "text/plain": [
       "       chroms                                               link\n",
       "chroms                                                          \n",
       "1           1  https://uchicago.box.com/shared/static/9q9n4a0...\n",
       "2           2  https://uchicago.box.com/shared/static/1tk6a3f...\n",
       "3           3  https://uchicago.box.com/shared/static/77ldwqq...\n",
       "4           4  https://uchicago.box.com/shared/static/s0g48al...\n",
       "5           5  https://uchicago.box.com/shared/static/yafgxb1...\n",
       "6           6  https://uchicago.box.com/shared/static/9vpxc7z...\n",
       "7           7  https://uchicago.box.com/shared/static/hkru0gi...\n",
       "8           8  https://uchicago.box.com/shared/static/ruac33s...\n",
       "9           9  https://uchicago.box.com/shared/static/dfw6gkj...\n",
       "10         10  https://uchicago.box.com/shared/static/ek50gvt..."
      ]
     },
     "execution_count": 51,
     "metadata": {},
     "output_type": "execute_result"
    }
   ],
   "source": [
    "chrom_bed_downloads = pd.read_csv(\"https://uchicago.box.com/shared/static/du77wf31li38tciv8imivwu57svae03p.csv\")\n",
    "chrom_bed_downloads.index = chrom_bed_downloads[\"chroms\"]\n",
    "\n",
    "chrom_bed_downloads.head(10)"
   ]
  },
  {
   "cell_type": "code",
   "execution_count": 52,
   "metadata": {},
   "outputs": [
    {
     "data": {
      "text/html": [
       "<div>\n",
       "<style scoped>\n",
       "    .dataframe tbody tr th:only-of-type {\n",
       "        vertical-align: middle;\n",
       "    }\n",
       "\n",
       "    .dataframe tbody tr th {\n",
       "        vertical-align: top;\n",
       "    }\n",
       "\n",
       "    .dataframe thead th {\n",
       "        text-align: right;\n",
       "    }\n",
       "</style>\n",
       "<table border=\"1\" class=\"dataframe\">\n",
       "  <thead>\n",
       "    <tr style=\"text-align: right;\">\n",
       "      <th></th>\n",
       "      <th>gene_id</th>\n",
       "      <th>gene_name</th>\n",
       "      <th>TargetID</th>\n",
       "      <th>Chr</th>\n",
       "      <th>Coord</th>\n",
       "      <th>HG00096</th>\n",
       "      <th>HG00097</th>\n",
       "      <th>HG00099</th>\n",
       "      <th>HG00100</th>\n",
       "      <th>HG00101</th>\n",
       "      <th>...</th>\n",
       "      <th>NA20810</th>\n",
       "      <th>NA20811</th>\n",
       "      <th>NA20812</th>\n",
       "      <th>NA20813</th>\n",
       "      <th>NA20814</th>\n",
       "      <th>NA20815</th>\n",
       "      <th>NA20816</th>\n",
       "      <th>NA20819</th>\n",
       "      <th>NA20826</th>\n",
       "      <th>NA20828</th>\n",
       "    </tr>\n",
       "  </thead>\n",
       "  <tbody>\n",
       "    <tr>\n",
       "      <th>0</th>\n",
       "      <td>ENSG00000223972.4</td>\n",
       "      <td>DDX11L1</td>\n",
       "      <td>ENSG00000223972.4</td>\n",
       "      <td>1</td>\n",
       "      <td>11869</td>\n",
       "      <td>0.320818</td>\n",
       "      <td>0.344202</td>\n",
       "      <td>0.354225</td>\n",
       "      <td>0.478064</td>\n",
       "      <td>-0.102815</td>\n",
       "      <td>...</td>\n",
       "      <td>1.008605</td>\n",
       "      <td>0.384489</td>\n",
       "      <td>0.581284</td>\n",
       "      <td>0.513981</td>\n",
       "      <td>0.667449</td>\n",
       "      <td>0.350890</td>\n",
       "      <td>0.186103</td>\n",
       "      <td>-0.037976</td>\n",
       "      <td>0.405439</td>\n",
       "      <td>0.199143</td>\n",
       "    </tr>\n",
       "    <tr>\n",
       "      <th>1</th>\n",
       "      <td>ENSG00000227232.3</td>\n",
       "      <td>WASH7P</td>\n",
       "      <td>ENSG00000227232.3</td>\n",
       "      <td>1</td>\n",
       "      <td>29806</td>\n",
       "      <td>33.714457</td>\n",
       "      <td>20.185174</td>\n",
       "      <td>18.095407</td>\n",
       "      <td>24.100871</td>\n",
       "      <td>29.018719</td>\n",
       "      <td>...</td>\n",
       "      <td>30.980194</td>\n",
       "      <td>34.086207</td>\n",
       "      <td>39.678442</td>\n",
       "      <td>29.643513</td>\n",
       "      <td>27.120420</td>\n",
       "      <td>29.121624</td>\n",
       "      <td>31.117198</td>\n",
       "      <td>32.047074</td>\n",
       "      <td>22.798959</td>\n",
       "      <td>23.563874</td>\n",
       "    </tr>\n",
       "    <tr>\n",
       "      <th>2</th>\n",
       "      <td>ENSG00000243485.1</td>\n",
       "      <td>MIR1302-11</td>\n",
       "      <td>ENSG00000243485.1</td>\n",
       "      <td>1</td>\n",
       "      <td>29554</td>\n",
       "      <td>0.240408</td>\n",
       "      <td>0.157456</td>\n",
       "      <td>0.218806</td>\n",
       "      <td>0.320878</td>\n",
       "      <td>0.067833</td>\n",
       "      <td>...</td>\n",
       "      <td>0.065940</td>\n",
       "      <td>0.228784</td>\n",
       "      <td>0.140642</td>\n",
       "      <td>0.283905</td>\n",
       "      <td>0.273821</td>\n",
       "      <td>0.286311</td>\n",
       "      <td>0.324060</td>\n",
       "      <td>0.049574</td>\n",
       "      <td>0.255288</td>\n",
       "      <td>0.157440</td>\n",
       "    </tr>\n",
       "    <tr>\n",
       "      <th>3</th>\n",
       "      <td>ENSG00000238009.2</td>\n",
       "      <td>RP11-34P13.7</td>\n",
       "      <td>ENSG00000238009.2</td>\n",
       "      <td>1</td>\n",
       "      <td>133566</td>\n",
       "      <td>0.328272</td>\n",
       "      <td>0.327932</td>\n",
       "      <td>0.090064</td>\n",
       "      <td>0.420443</td>\n",
       "      <td>0.220269</td>\n",
       "      <td>...</td>\n",
       "      <td>0.274071</td>\n",
       "      <td>0.384179</td>\n",
       "      <td>0.533693</td>\n",
       "      <td>0.307221</td>\n",
       "      <td>0.307367</td>\n",
       "      <td>0.400278</td>\n",
       "      <td>0.612321</td>\n",
       "      <td>0.666633</td>\n",
       "      <td>0.281138</td>\n",
       "      <td>1.346129</td>\n",
       "    </tr>\n",
       "    <tr>\n",
       "      <th>4</th>\n",
       "      <td>ENSG00000239945.1</td>\n",
       "      <td>RP11-34P13.8</td>\n",
       "      <td>ENSG00000239945.1</td>\n",
       "      <td>1</td>\n",
       "      <td>91105</td>\n",
       "      <td>0.332171</td>\n",
       "      <td>-0.032164</td>\n",
       "      <td>0.017323</td>\n",
       "      <td>0.424677</td>\n",
       "      <td>0.214025</td>\n",
       "      <td>...</td>\n",
       "      <td>0.347323</td>\n",
       "      <td>0.346744</td>\n",
       "      <td>0.073580</td>\n",
       "      <td>0.400396</td>\n",
       "      <td>0.470517</td>\n",
       "      <td>0.069749</td>\n",
       "      <td>0.299353</td>\n",
       "      <td>0.090019</td>\n",
       "      <td>0.282554</td>\n",
       "      <td>-0.157170</td>\n",
       "    </tr>\n",
       "  </tbody>\n",
       "</table>\n",
       "<p>5 rows × 467 columns</p>\n",
       "</div>"
      ],
      "text/plain": [
       "             gene_id     gene_name           TargetID Chr   Coord    HG00096  \\\n",
       "0  ENSG00000223972.4       DDX11L1  ENSG00000223972.4   1   11869   0.320818   \n",
       "1  ENSG00000227232.3        WASH7P  ENSG00000227232.3   1   29806  33.714457   \n",
       "2  ENSG00000243485.1    MIR1302-11  ENSG00000243485.1   1   29554   0.240408   \n",
       "3  ENSG00000238009.2  RP11-34P13.7  ENSG00000238009.2   1  133566   0.328272   \n",
       "4  ENSG00000239945.1  RP11-34P13.8  ENSG00000239945.1   1   91105   0.332171   \n",
       "\n",
       "     HG00097    HG00099    HG00100    HG00101  ...    NA20810    NA20811  \\\n",
       "0   0.344202   0.354225   0.478064  -0.102815  ...   1.008605   0.384489   \n",
       "1  20.185174  18.095407  24.100871  29.018719  ...  30.980194  34.086207   \n",
       "2   0.157456   0.218806   0.320878   0.067833  ...   0.065940   0.228784   \n",
       "3   0.327932   0.090064   0.420443   0.220269  ...   0.274071   0.384179   \n",
       "4  -0.032164   0.017323   0.424677   0.214025  ...   0.347323   0.346744   \n",
       "\n",
       "     NA20812    NA20813    NA20814    NA20815    NA20816    NA20819  \\\n",
       "0   0.581284   0.513981   0.667449   0.350890   0.186103  -0.037976   \n",
       "1  39.678442  29.643513  27.120420  29.121624  31.117198  32.047074   \n",
       "2   0.140642   0.283905   0.273821   0.286311   0.324060   0.049574   \n",
       "3   0.533693   0.307221   0.307367   0.400278   0.612321   0.666633   \n",
       "4   0.073580   0.400396   0.470517   0.069749   0.299353   0.090019   \n",
       "\n",
       "     NA20826    NA20828  \n",
       "0   0.405439   0.199143  \n",
       "1  22.798959  23.563874  \n",
       "2   0.255288   0.157440  \n",
       "3   0.281138   1.346129  \n",
       "4   0.282554  -0.157170  \n",
       "\n",
       "[5 rows x 467 columns]"
      ]
     },
     "execution_count": 52,
     "metadata": {},
     "output_type": "execute_result"
    }
   ],
   "source": [
    "chr1_tss = pd.read_table('/grand/TFXcan/imlab/users/lvairus/hackenf/data/tss_by_chr/chr17_tss_by_gene.txt', sep='\\t')\n",
    "amigo1_variations = pd.read_table('/grand/TFXcan/imlab/users/lvairus/hackenf/data/individual_beds/chr17/chr17_GSDMB.bed', sep='\\t')\n",
    "geuvadis_gene_expression = pd.read_table('https://uchicago.box.com/shared/static/5vwc7pjw9qmtv7298c4rc7bcuicoyemt.gz', sep='\\t',\n",
    "                                         dtype={'gene_id': str, 'gene_name':str, 'TargetID':str, 'Chr':str})\n",
    "geuvadis_gene_expression.head(5)\n"
   ]
  },
  {
   "cell_type": "code",
   "execution_count": 53,
   "metadata": {},
   "outputs": [],
   "source": [
    "model = Enformer(model_path) # here we load the model architecture.\n",
    "\n",
    "fasta_extractor = FastaStringExtractor(fasta_file) # we define a class called fasta_extractor to help us extra raw sequence data"
   ]
  },
  {
   "cell_type": "code",
   "execution_count": 54,
   "metadata": {},
   "outputs": [
    {
     "name": "stdout",
     "output_type": "stream",
     "text": [
      "{'GSDMB': ['17', 38060848, 38077313]}\n"
     ]
    }
   ],
   "source": [
    "gene_intervals = collect_intervals(chromosomes=['17'], gene_list=['GSDMB'])\n",
    "print(gene_intervals)\n"
   ]
  },
  {
   "cell_type": "markdown",
   "metadata": {},
   "source": [
    "# Testing Class"
   ]
  },
  {
   "cell_type": "code",
   "execution_count": null,
   "metadata": {},
   "outputs": [],
   "source": [
    "test = RunCompare('GSDMB', '17', 'NA12413')"
   ]
  },
  {
   "cell_type": "code",
   "execution_count": 59,
   "metadata": {},
   "outputs": [],
   "source": [
    "abs, rel, relmax, relmed = (test.abs_diffmat, test.rel_diffmat, test.relmax_diffmat, test.relmed_diffmat)"
   ]
  },
  {
   "cell_type": "code",
   "execution_count": 60,
   "metadata": {},
   "outputs": [
    {
     "data": {
      "text/plain": [
       "{'mean': 0.21557848,\n",
       " 'median': 0.08500237,\n",
       " 'std_dev': 0.5238661,\n",
       " 'minimum': 0.0,\n",
       " 'maximum': 73.63812,\n",
       " 'total_sum': 1026250.1,\n",
       " 'q1': 0.02724431036040187,\n",
       " 'q2': 0.0850023701786995,\n",
       " 'q3': 0.21821939945220947,\n",
       " 'iqr': 0.1909750890918076}"
      ]
     },
     "execution_count": 60,
     "metadata": {},
     "output_type": "execute_result"
    }
   ],
   "source": [
    "test.get_summary(rel)"
   ]
  },
  {
   "cell_type": "code",
   "execution_count": 61,
   "metadata": {},
   "outputs": [
    {
     "data": {
      "text/plain": [
       "array([50.049995, 56.51611 , 57.601334, 54.03983 , 55.104267, 50.166138,\n",
       "       73.63812 , 70.30336 , 60.306145, 73.36514 ], dtype=float32)"
      ]
     },
     "execution_count": 61,
     "metadata": {},
     "output_type": "execute_result"
    }
   ],
   "source": [
    "test.get_outliers(rel, 50)"
   ]
  },
  {
   "cell_type": "code",
   "execution_count": 64,
   "metadata": {},
   "outputs": [
    {
     "name": "stdout",
     "output_type": "stream",
     "text": [
      "to get list of unique inds: set(inds_arr) \n",
      "get count of inds: Counter(inds_arr)\n"
     ]
    }
   ],
   "source": [
    "all_inds, row_inds, col_inds = test.get_outlier_inds(rel, 50)"
   ]
  },
  {
   "cell_type": "code",
   "execution_count": 68,
   "metadata": {},
   "outputs": [
    {
     "ename": "AttributeError",
     "evalue": "'My_class' object has no attribute 'plot_hist'",
     "output_type": "error",
     "traceback": [
      "\u001b[0;31m---------------------------------------------------------------------------\u001b[0m",
      "\u001b[0;31mAttributeError\u001b[0m                            Traceback (most recent call last)",
      "Cell \u001b[0;32mIn[68], line 1\u001b[0m\n\u001b[0;32m----> 1\u001b[0m test\u001b[39m.\u001b[39;49mplot_hist(row_inds, \u001b[39m20\u001b[39m)\n",
      "\u001b[0;31mAttributeError\u001b[0m: 'My_class' object has no attribute 'plot_hist'"
     ]
    }
   ],
   "source": [
    "test.plot_hist(row_inds, 20)"
   ]
  },
  {
   "cell_type": "code",
   "execution_count": null,
   "metadata": {},
   "outputs": [],
   "source": [
    "# get_summary(self, arr):\n",
    "# def get_outliers(self, arr, tol):\n",
    "# def get_outlier_inds(self, arr, tol):\n",
    "# def plot_hist(self, arr, bin_num):\n",
    "# def plot_tol_vs_outs(self, arr, mintol, maxtol, steps):\n",
    "# def make_df(self, arr, tol):"
   ]
  },
  {
   "cell_type": "markdown",
   "metadata": {},
   "source": [
    "## Run Predictions\n",
    "\n",
    "We'll pick one individual at random."
   ]
  },
  {
   "cell_type": "code",
   "execution_count": 85,
   "metadata": {},
   "outputs": [
    {
     "data": {
      "text/plain": [
       "'NA12413'"
      ]
     },
     "execution_count": 85,
     "metadata": {},
     "output_type": "execute_result"
    }
   ],
   "source": [
    "# rand_individual = np.random.choice(a=geuvadis_gene_expression.columns[6:-1], replace=False) # individuals we are interested in\n",
    "rand_individual = 'NA12413'"
   ]
  },
  {
   "cell_type": "code",
   "execution_count": 107,
   "metadata": {},
   "outputs": [],
   "source": [
    "gene = 'GSDMB'\n",
    "gene_interval = gene_intervals[gene]\n",
    "target_interval = kipoiseq.Interval(\"chr\" + gene_interval[0],\n",
    "                                        gene_interval[1],\n",
    "                                        gene_interval[2])\n",
    "target_fa = fasta_extractor.extract(target_interval.resize(SEQUENCE_LENGTH))\n",
    "window_coords = target_interval.resize(SEQUENCE_LENGTH)\n",
    "cur_gene_vars = pd.read_csv(\"/grand/TFXcan/imlab/users/lvairus/hackenf/data/individual_beds/chr\" + gene_interval[0] + \"/chr\" + gene_interval[0] + \"_\"+ gene + \".bed\", sep=\"\\t\", header=0) # read in the appropriate bed file for the gene\n"
   ]
  },
  {
   "cell_type": "code",
   "execution_count": 108,
   "metadata": {},
   "outputs": [],
   "source": [
    "haplo_1, haplo_2 = geno_to_seq(gene, rand_individual)\n",
    "\n",
    "haplo_1_enc = one_hot_encode(\"\".join(haplo_1))[np.newaxis]\n",
    "haplo_2_enc = one_hot_encode(\"\".join(haplo_2))[np.newaxis]\n",
    "average_enc = np.add(haplo_1_enc, haplo_2_enc) / 2"
   ]
  },
  {
   "cell_type": "code",
   "execution_count": 109,
   "metadata": {},
   "outputs": [],
   "source": [
    "prediction_1 = model.predict_on_batch(haplo_1_enc)['human'][0]\n",
    "prediction_2 = model.predict_on_batch(haplo_2_enc)['human'][0]\n",
    "\n",
    "post_average = (prediction_1 + prediction_2) / 2\n",
    "pre_average = model.predict_on_batch(average_enc)['human'][0]"
   ]
  },
  {
   "cell_type": "markdown",
   "metadata": {},
   "source": [
    "## Comparing Predictions"
   ]
  },
  {
   "cell_type": "code",
   "execution_count": 113,
   "metadata": {},
   "outputs": [
    {
     "name": "stdout",
     "output_type": "stream",
     "text": [
      "Currently on gene GSDMB, and predicting on individual NA12413...\n"
     ]
    }
   ],
   "source": [
    "pre_average2, post_average2 = run_predictions2(gene, '17', rand_individual)"
   ]
  },
  {
   "cell_type": "code",
   "execution_count": 110,
   "metadata": {},
   "outputs": [],
   "source": [
    "diff = pre_average - post_average\n",
    "\n",
    "abs_diff = np.sqrt(np.square(diff))\n",
    "\n",
    "rel_diff = (abs_diff) / ((pre_average + post_average) + 10**-16)"
   ]
  },
  {
   "cell_type": "code",
   "execution_count": 111,
   "metadata": {},
   "outputs": [
    {
     "name": "stdout",
     "output_type": "stream",
     "text": [
      "Mean: 0.011741725\n",
      "Median: 0.0024814606\n",
      "Standard Deviation: 0.06555718\n",
      "Minimum: 0.0\n",
      "Maximum: 10.2612915\n",
      "Sum: 55895.87\n"
     ]
    }
   ],
   "source": [
    "# Summary Statistics of Absolute Differece\n",
    "arr = abs_diff\n",
    "\n",
    "print(\"Mean:\", np.mean(arr))\n",
    "print(\"Median:\", np.median(arr))\n",
    "print(\"Standard Deviation:\", np.std(arr))\n",
    "print(\"Minimum:\", np.min(arr))\n",
    "print(\"Maximum:\", np.max(arr))\n",
    "print(\"Sum:\", np.sum(arr))"
   ]
  },
  {
   "cell_type": "code",
   "execution_count": 91,
   "metadata": {},
   "outputs": [
    {
     "name": "stdout",
     "output_type": "stream",
     "text": [
      "Mean: 0.00026652514\n",
      "Median: 8.4674466e-05\n",
      "Standard Deviation: 0.0011749842\n",
      "Minimum: 0.0\n",
      "Maximum: 0.24099354\n",
      "Sum: 1268.779\n"
     ]
    }
   ],
   "source": [
    "# Summary Statistics of Relative Difference\n",
    "arr = rel_diff\n",
    "\n",
    "print(\"Mean:\", np.mean(arr))\n",
    "print(\"Median:\", np.median(arr))\n",
    "print(\"Standard Deviation:\", np.std(arr))\n",
    "print(\"Minimum:\", np.min(arr))\n",
    "print(\"Maximum:\", np.max(arr))\n",
    "print(\"Sum:\", np.sum(arr))"
   ]
  },
  {
   "cell_type": "code",
   "execution_count": 92,
   "metadata": {},
   "outputs": [
    {
     "data": {
      "text/plain": [
       "72"
      ]
     },
     "execution_count": 92,
     "metadata": {},
     "output_type": "execute_result"
    }
   ],
   "source": [
    "bigDiff = abs_diff[abs_diff>1]\n",
    "len(bigDiff)"
   ]
  },
  {
   "cell_type": "code",
   "execution_count": 93,
   "metadata": {},
   "outputs": [
    {
     "data": {
      "image/png": "[encoded data removed]",
      "text/plain": [
       "<Figure size 640x480 with 1 Axes>"
      ]
     },
     "metadata": {
      "image/png": {
       "height": 454,
       "width": 562
      }
     },
     "output_type": "display_data"
    }
   ],
   "source": [
    "# Plot the histogram\n",
    "plt.hist(bigDiff, bins=20)\n",
    "\n",
    "# Add labels and title\n",
    "plt.xlabel('Value')\n",
    "plt.ylabel('Frequency')\n",
    "plt.title('Histogram')\n",
    "\n",
    "# Display the plot\n",
    "plt.show()"
   ]
  },
  {
   "cell_type": "markdown",
   "metadata": {},
   "source": [
    "## In which tracks is it not precise?"
   ]
  },
  {
   "cell_type": "code",
   "execution_count": 94,
   "metadata": {},
   "outputs": [
    {
     "data": {
      "text/plain": [
       "(72,\n",
       " array([[ 773, 4740],\n",
       "        [ 773, 4746],\n",
       "        [ 773, 4747],\n",
       "        [ 773, 4748],\n",
       "        [ 773, 4754],\n",
       "        [ 773, 4759],\n",
       "        [ 773, 4760],\n",
       "        [ 773, 4764],\n",
       "        [ 773, 4766],\n",
       "        [ 773, 4770],\n",
       "        [ 773, 4777],\n",
       "        [ 773, 4782],\n",
       "        [ 773, 4797],\n",
       "        [ 773, 4808],\n",
       "        [ 773, 4810],\n",
       "        [ 773, 4815],\n",
       "        [ 773, 4816],\n",
       "        [ 773, 4817],\n",
       "        [ 773, 4818],\n",
       "        [ 773, 4819],\n",
       "        [ 773, 4868],\n",
       "        [ 773, 4869],\n",
       "        [ 773, 4870],\n",
       "        [ 773, 4874],\n",
       "        [ 773, 4877],\n",
       "        [ 773, 4879],\n",
       "        [ 773, 4881],\n",
       "        [ 773, 4884],\n",
       "        [ 773, 4885],\n",
       "        [ 773, 4886],\n",
       "        [ 773, 4887],\n",
       "        [ 773, 4890],\n",
       "        [ 773, 4892],\n",
       "        [ 773, 4893],\n",
       "        [ 773, 4897],\n",
       "        [ 773, 4898],\n",
       "        [ 773, 4900],\n",
       "        [ 773, 4902],\n",
       "        [ 773, 4905],\n",
       "        [ 773, 4906],\n",
       "        [ 773, 4909],\n",
       "        [ 773, 4920],\n",
       "        [ 773, 5056],\n",
       "        [ 773, 5057],\n",
       "        [ 773, 5072],\n",
       "        [ 773, 5073],\n",
       "        [ 773, 5078],\n",
       "        [ 773, 5079],\n",
       "        [ 773, 5080],\n",
       "        [ 773, 5106],\n",
       "        [ 773, 5110],\n",
       "        [ 773, 5115],\n",
       "        [ 773, 5127],\n",
       "        [ 773, 5144],\n",
       "        [ 773, 5150],\n",
       "        [ 773, 5196],\n",
       "        [ 773, 5198],\n",
       "        [ 773, 5212],\n",
       "        [ 773, 5213],\n",
       "        [ 773, 5236],\n",
       "        [ 773, 5238],\n",
       "        [ 773, 5300],\n",
       "        [ 829, 2652],\n",
       "        [ 830,  733],\n",
       "        [ 830,  746],\n",
       "        [ 830,  801],\n",
       "        [ 830,  810],\n",
       "        [ 830,  812],\n",
       "        [ 830,  814],\n",
       "        [ 830,  815],\n",
       "        [ 830,  822],\n",
       "        [ 830, 3647]]))"
      ]
     },
     "execution_count": 94,
     "metadata": {},
     "output_type": "execute_result"
    }
   ],
   "source": [
    "# max diff tolerance is 1. If a diff is greater than 1 we will count it as too big\n",
    "tolerance = 1\n",
    "\n",
    "indices = np.where(abs_diff > tolerance)\n",
    "indices[0][0], indices[1][0]\n",
    "\n",
    "ind_of_big_diffs = np.array(list(zip(indices[0], indices[1])))\n",
    "len(ind_of_big_diffs), ind_of_big_diffs"
   ]
  },
  {
   "cell_type": "code",
   "execution_count": null,
   "metadata": {},
   "outputs": [],
   "source": []
  },
  {
   "cell_type": "markdown",
   "metadata": {},
   "source": [
    "### cols"
   ]
  },
  {
   "cell_type": "code",
   "execution_count": 95,
   "metadata": {},
   "outputs": [],
   "source": [
    "# all the indices of the columns where the diff exceeds tolerance\n",
    "col_inds = indices[1]"
   ]
  },
  {
   "cell_type": "code",
   "execution_count": 96,
   "metadata": {},
   "outputs": [
    {
     "data": {
      "text/plain": [
       "[]"
      ]
     },
     "execution_count": 96,
     "metadata": {},
     "output_type": "execute_result"
    }
   ],
   "source": [
    "counts = Counter(col_inds)\n",
    "[(key,value) for key,value in counts.items() if value > 8]"
   ]
  },
  {
   "cell_type": "code",
   "execution_count": 97,
   "metadata": {},
   "outputs": [
    {
     "name": "stdout",
     "output_type": "stream",
     "text": [
      "Number of unique col ind: 72 \n",
      "Total col ind: 72\n"
     ]
    }
   ],
   "source": [
    "print(f\"Number of unique col ind: {len(set(col_inds))} \\nTotal col ind: {len(col_inds)}\")"
   ]
  },
  {
   "cell_type": "code",
   "execution_count": 98,
   "metadata": {},
   "outputs": [
    {
     "data": {
      "image/png": "[encoded data removed]",
      "text/plain": [
       "<Figure size 640x480 with 1 Axes>"
      ]
     },
     "metadata": {
      "image/png": {
       "height": 434,
       "width": 543
      }
     },
     "output_type": "display_data"
    }
   ],
   "source": [
    "plt.hist(col_inds, bins=200)  # Specify the number of bins\n",
    "plt.title('Histogram of col indexes')\n",
    "plt.show()"
   ]
  },
  {
   "cell_type": "markdown",
   "metadata": {},
   "source": [
    "Analysis: \n",
    "the difference exceeds the tolerance in 227 unique columns that are pretty evenly distributed, so enformer doesn't necessarily do better or worse with averaging before/after in any particular cell line\n",
    "\n",
    "i want to get the amount of times it affects each col\n",
    "227 uniqe cols"
   ]
  },
  {
   "cell_type": "markdown",
   "metadata": {},
   "source": [
    "### rows"
   ]
  },
  {
   "cell_type": "code",
   "execution_count": 99,
   "metadata": {},
   "outputs": [
    {
     "data": {
      "text/plain": [
       "(3, 72)"
      ]
     },
     "execution_count": 99,
     "metadata": {},
     "output_type": "execute_result"
    }
   ],
   "source": [
    "len(set(indices[0])), len(indices[0])"
   ]
  },
  {
   "cell_type": "code",
   "execution_count": 100,
   "metadata": {},
   "outputs": [
    {
     "name": "stdout",
     "output_type": "stream",
     "text": [
      "Mean: 780.9027777777778\n",
      "Median: 773.0\n",
      "Standard Deviation: 19.678075590631757\n",
      "Minimum: 773\n",
      "Maximum: 830\n",
      "Sum: 56225\n"
     ]
    }
   ],
   "source": [
    "# Summary Statistics of rows\n",
    "arr1 = indices[0]\n",
    "\n",
    "print(\"Mean:\", np.mean(arr1))\n",
    "print(\"Median:\", np.median(arr1))\n",
    "print(\"Standard Deviation:\", np.std(arr1))\n",
    "print(\"Minimum:\", np.min(arr1))\n",
    "print(\"Maximum:\", np.max(arr1))\n",
    "print(\"Sum:\", np.sum(arr1))\n",
    "\n",
    "q1 = np.percentile(arr, 25)\n",
    "q3 = np.percentile(arr, 75)\n",
    "iqr = q3 - q1\n",
    "\n",
    "print(\"Q1:\", q1)\n",
    "print(\"Q3:\", q3)\n",
    "print(\"Interquartile Range:\", iqr)"
   ]
  },
  {
   "cell_type": "code",
   "execution_count": 101,
   "metadata": {},
   "outputs": [
    {
     "data": {
      "image/png": "[encoded data removed]",
      "text/plain": [
       "<Figure size 640x480 with 1 Axes>"
      ]
     },
     "metadata": {
      "image/png": {
       "height": 434,
       "width": 543
      }
     },
     "output_type": "display_data"
    }
   ],
   "source": [
    "plt.hist(indices[0], bins=30)  # Specify the number of bins\n",
    "plt.title('Histogram of row indexes')\n",
    "plt.show()"
   ]
  },
  {
   "cell_type": "markdown",
   "metadata": {},
   "source": [
    "Analysis:\n",
    "There are only a few specific locations where enformer does worse "
   ]
  },
  {
   "cell_type": "markdown",
   "metadata": {},
   "source": [
    "## Comparing across tracks"
   ]
  },
  {
   "cell_type": "code",
   "execution_count": 102,
   "metadata": {},
   "outputs": [],
   "source": [
    "res = []\n",
    "for i in range(5313):\n",
    "    pre_track = pre_average[:, i]\n",
    "    post_track = post_average[:, i]\n",
    "    corr = np.corrcoef(pre_track, post_track)[0][1]\n",
    "    res.append(corr)\n"
   ]
  },
  {
   "cell_type": "markdown",
   "metadata": {},
   "source": [
    "The results from both methods are nearly identical."
   ]
  },
  {
   "cell_type": "code",
   "execution_count": 103,
   "metadata": {},
   "outputs": [
    {
     "name": "stdout",
     "output_type": "stream",
     "text": [
      "0.9989958894392978 0.9999999912865261\n"
     ]
    }
   ],
   "source": [
    "print(min(res), max(res))"
   ]
  }
 ],
 "metadata": {
  "kernelspec": {
   "display_name": "Python 3",
   "language": "python",
   "name": "python3"
  },
  "language_info": {
   "codemirror_mode": {
    "name": "ipython",
    "version": 3
   },
   "file_extension": ".py",
   "mimetype": "text/x-python",
   "name": "python",
   "nbconvert_exporter": "python",
   "pygments_lexer": "ipython3",
   "version": "3.10.9"
  },
  "orig_nbformat": 4
 },
 "nbformat": 4,
 "nbformat_minor": 2
}
