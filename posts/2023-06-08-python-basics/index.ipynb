{
  "cells": [
    {
      "cell_type": "raw",
      "metadata": {},
      "source": [
        "---\n",
        "title: Python Basics \n",
        "description: \"Basic information and commands for python\"\n",
        "author: \"Laura Vairus\"\n",
        "date: \"2023-06-08\"\n",
        "categories: [code, training, tutorial, cheatsheet]\n",
        "image: \"image.jpg\"\n",
        "---"
      ],
      "id": "ec1e0040"
    },
    {
      "cell_type": "markdown",
      "metadata": {},
      "source": [
        "### Types of Variable (Datatypes):\n",
        "\n",
        "| Type    | Name  | Description                      | Examples                                                                               |\n",
        "|-----------------|-----------------|-----------------|---------------------|\n",
        "| Integer | int   | all integers                     | -2, -1, 0, 1, 2                                                                        |\n",
        "| Float   | float | all decimals                     | 1.0, 2.5, 4.987                                                                        |\n",
        "| String  | str   | sequence of characters           | \"any text enclosed in single or double quotes, includes spaces and special characters\" |\n",
        "| Boolean | bool  | expression that is True or False | True, False, 2==2 (is read as True), 2==1 (is read as False)                           |\n",
        "\n",
        "Name variables using \"camel case\" format. Single word variable names should be all lowercase and multi-word names should have all but the first word capitalized\n",
        "\n",
        "it's best for variable names to be short but clear so you know what it's referring to\n",
        "\n",
        "(This is not required but is good practice)\n",
        "\n",
        "example: word, twoWords, varNameExample,\n",
        "\n",
        "## Operations:\n",
        "\n",
        "Python can compute simple calculations with operators\n",
        "\n",
        "| Character | Operation      | Example         |\n",
        "|-----------|----------------|-----------------|\n",
        "| \\+        | addition       | 1 + 2 -\\> 3     |\n",
        "| \\-        | subtraction    | 10 - 5 -\\> 5    |\n",
        "| \\*        | multiplication | 3 \\* 4 -\\> 12   |\n",
        "| /         | division       | 15 / 3 -\\> 5    |\n",
        "| \\*\\*      | power          | 4 \\*\\* 2 -\\> 16 |\n",
        "| //        | floor division | 7 // 2 -\\> 3    |\n",
        "\n",
        "(There don't need to be spaces between the numbers and operations, it's up to you)\n",
        "\n",
        "Ask mami: are we gonna read files in python? if so learn how to work with files\n",
        "\n",
        "## User Input\n",
        "\n",
        "If you want to interact with the user of your code, use the `input()` command\n"
      ],
      "id": "db180b31"
    },
    {
      "cell_type": "code",
      "metadata": {},
      "source": [
        "# General Format: \n",
        "userInput = input(\"message\")\n",
        "# will ask the user to input something, that will get assigned to varName"
      ],
      "id": "80d71479",
      "execution_count": null,
      "outputs": []
    },
    {
      "cell_type": "markdown",
      "metadata": {},
      "source": [
        "Runnning this line of code will prompt the user to enter a response based on what you write in the \"message.\" Their response will then get assigned to your variable, in this case `userInput`\n",
        "\n",
        "''' {python}\n",
        "# Example\n",
        "userName = input(\"What's your name? \")\n",
        "# userName will be what they enter\n",
        "```\n",
        "\n",
        "\n",
        "\n",
        "### "
      ],
      "id": "72d048a8"
    }
  ],
  "metadata": {
    "kernelspec": {
      "name": "python3",
      "language": "python",
      "display_name": "Python 3 (ipykernel)"
    }
  },
  "nbformat": 4,
  "nbformat_minor": 5
}