{
 "cells": [
  {
   "attachments": {},
   "cell_type": "markdown",
   "metadata": {},
   "source": [
    "---\n",
    "title: \"Iris Neural Network Training\"\n",
    "author: \"Laura Vairus\"\n",
    "date: \"06-21-2023\"\n",
    "---"
   ]
  },
  {
   "cell_type": "code",
   "execution_count": 329,
   "metadata": {},
   "outputs": [],
   "source": [
    "# importing packages\n",
    "\n",
    "import torch\n",
    "import torch.nn as nn\n",
    "import torch.nn.functional as F\n",
    "import torch.optim as optim\n",
    "from torch.utils.data import DataLoader, Dataset\n",
    "from sklearn import datasets\n",
    "from sklearn.decomposition import PCA\n",
    "from sklearn.model_selection import train_test_split"
   ]
  },
  {
   "cell_type": "code",
   "execution_count": 330,
   "metadata": {},
   "outputs": [],
   "source": [
    "\n",
    "# defining NN\n",
    "\n",
    "class Net(nn.Module):\n",
    "    def __init__(self, layer_sizes):\n",
    "        super(Net, self).__init__()\n",
    "        self.layers = nn.ModuleList()\n",
    "        self.num_layers = len(layer_sizes) - 1\n",
    "\n",
    "        # Create hidden layers\n",
    "        for i in range(self.num_layers):\n",
    "            self.layers.append(nn.Linear(layer_sizes[i], layer_sizes[i+1]))\n",
    "        \n",
    "        # output layer\n",
    "        self.layers.append(nn.Sigmoid())\n",
    "\n",
    "    def forward(self, x):\n",
    "        for i in range(self.num_layers):\n",
    "            x = torch.relu(self.layers[i](x))\n",
    "\n",
    "        return x\n"
   ]
  },
  {
   "cell_type": "code",
   "execution_count": 331,
   "metadata": {},
   "outputs": [],
   "source": [
    "# defining dataset\n",
    "\n",
    "class MyDataset(Dataset):\n",
    "    def __init__(self, x, y):\n",
    "        self.x = x\n",
    "        self.y = y\n",
    "\n",
    "    def __len__(self):\n",
    "        L = self.x.shape[0]\n",
    "        return L\n",
    "\n",
    "    def __getitem__(self, i):\n",
    "        return (self.x[i, :], self.y[i])\n"
   ]
  },
  {
   "cell_type": "code",
   "execution_count": 332,
   "metadata": {},
   "outputs": [],
   "source": [
    "# getting data\n",
    "\n",
    "iris = datasets.load_iris() # all data\n",
    "\n",
    "data = torch.from_numpy(iris.data).float() # splitting into data tensors (X)\n",
    "target = torch.from_numpy(iris.target).long() # and target tensors (Y)\n",
    "\n",
    "# splitting dataset into training and testing groups\n",
    "trainX, testX, trainY, testY = train_test_split(data, target, test_size=0.1, random_state=42)\n",
    "# X is data/attributes\n",
    "# Y is targets/labels\n",
    "\n",
    "# making data a Dataset object\n",
    "trainDataset = MyDataset(trainX, trainY)\n",
    "testDataset = MyDataset(testX, testY)\n",
    "\n",
    "# putting Dataset into Loader\n",
    "trainLoader = DataLoader(trainDataset, batch_size=8, shuffle=False)\n",
    "# testLoader = DataLoader(testDataset, batch_size=4, shuffle=True)\n"
   ]
  },
  {
   "cell_type": "code",
   "execution_count": 333,
   "metadata": {},
   "outputs": [
    {
     "data": {
      "text/plain": [
       "Net(\n",
       "  (layers): ModuleList(\n",
       "    (0): Linear(in_features=4, out_features=40, bias=True)\n",
       "    (1-2): 2 x Linear(in_features=40, out_features=40, bias=True)\n",
       "    (3): Linear(in_features=40, out_features=3, bias=True)\n",
       "    (4): Sigmoid()\n",
       "  )\n",
       ")"
      ]
     },
     "execution_count": 333,
     "metadata": {},
     "output_type": "execute_result"
    }
   ],
   "source": [
    "layer_sizes = [4, 40, 40, 40, 3]  # Input size, hidden layer sizes, output size\n",
    "net = Net(layer_sizes)\n",
    "net"
   ]
  },
  {
   "cell_type": "code",
   "execution_count": 334,
   "metadata": {},
   "outputs": [],
   "source": [
    "optimizer = optim.SGD(net.parameters(), lr=0.01)\n",
    "criterion = nn.CrossEntropyLoss()"
   ]
  },
  {
   "cell_type": "code",
   "execution_count": 335,
   "metadata": {},
   "outputs": [],
   "source": [
    "# training NN\n",
    "\n",
    "nepochs = 5000\n",
    "epoch_loss = []\n",
    "test_loss = []\n",
    "\n",
    "for epoch in range(nepochs):\n",
    "    net.train()\n",
    "    iter_loss = 0\n",
    "    dt_size = 0\n",
    "    for i, (bX, bY) in enumerate(trainLoader):\n",
    "        optimizer.zero_grad()   # zero the gradient buffers\n",
    "        output = net(bX)\n",
    "        loss = criterion(output, bY)\n",
    "        loss.backward()\n",
    "        optimizer.step()\n",
    "        #print(f'iteration {i}: loss {loss.item()}')\n",
    "        iter_loss += loss.item()*bX.shape[0]\n",
    "        dt_size += bX.shape[0]\n",
    "    epoch_loss.append(iter_loss/dt_size)\n",
    "    \n",
    "    net.eval() # tell the network you want to evaluate\n",
    "    with torch.no_grad():\n",
    "        output = net(testX)\n",
    "        loss = criterion(output, testY)\n",
    "        test_loss.append(loss.item())\n",
    "\n",
    "    \n",
    "    # print(f'epoch {epoch}: loss {iter_loss/(i+1)}')\n",
    "\n",
    "    # print(loss)\n",
    "    # epoch_loss\n"
   ]
  },
  {
   "cell_type": "code",
   "execution_count": 336,
   "metadata": {},
   "outputs": [
    {
     "data": {
      "text/plain": [
       "<matplotlib.legend.Legend at 0x292a95dd0>"
      ]
     },
     "execution_count": 336,
     "metadata": {},
     "output_type": "execute_result"
    },
    {
     "data": {
      "image/png": "[encoded data removed]",
      "text/plain": [
       "<Figure size 640x480 with 1 Axes>"
      ]
     },
     "metadata": {},
     "output_type": "display_data"
    }
   ],
   "source": [
    "import matplotlib.pyplot as plt\n",
    "#plt.plot(epoch_loss)\n",
    "\n",
    "plt.plot(epoch_loss, label='train')\n",
    "plt.plot(test_loss, label='test', alpha=0.2)\n",
    "plt.legend(loc=\"upper right\")"
   ]
  },
  {
   "cell_type": "code",
   "execution_count": 337,
   "metadata": {},
   "outputs": [
    {
     "name": "stdout",
     "output_type": "stream",
     "text": [
      "testing\n",
      "torch.Size([15, 4])\n",
      "tensor(0.4740, grad_fn=<NllLossBackward0>)\n"
     ]
    }
   ],
   "source": [
    "# testing NN\n",
    "\n",
    "print(\"testing\")\n",
    "optimizer.zero_grad()\n",
    "output = net(testX)\n",
    "print(testX.shape)\n",
    "loss = criterion(output, testY)\n",
    "print(loss)\n",
    "# print(output)"
   ]
  },
  {
   "cell_type": "code",
   "execution_count": 338,
   "metadata": {},
   "outputs": [
    {
     "name": "stdout",
     "output_type": "stream",
     "text": [
      "tensor([[1, 1],\n",
      "        [0, 0],\n",
      "        [2, 2],\n",
      "        [1, 1],\n",
      "        [1, 1],\n",
      "        [0, 0],\n",
      "        [1, 1],\n",
      "        [2, 2],\n",
      "        [1, 1],\n",
      "        [1, 1],\n",
      "        [2, 2],\n",
      "        [0, 0],\n",
      "        [0, 0],\n",
      "        [0, 0],\n",
      "        [0, 0]])\n",
      "15\n"
     ]
    }
   ],
   "source": [
    "# analyzing and printing results\n",
    "\n",
    "preds = []\n",
    "for row in output:\n",
    "    if row.max() == row[0]:\n",
    "        preds.append(0)\n",
    "    elif row.max() == row[1]:\n",
    "        preds.append(1)\n",
    "    else:\n",
    "        preds.append(2)\n",
    "tPreds = torch.tensor(preds).view(15,1)\n",
    "tTargets = testY.view(15,1)\n",
    "\n",
    "result = torch.cat([tPreds,tTargets], dim=1)\n",
    "print(result)\n",
    "correct = 0\n",
    "for row in result:\n",
    "    if row[0] == row[1]:\n",
    "        correct += 1\n",
    "\n",
    "print(correct)\n"
   ]
  }
 ],
 "metadata": {
  "kernelspec": {
   "display_name": "dlgtools",
   "language": "python",
   "name": "python3"
  },
  "language_info": {
   "codemirror_mode": {
    "name": "ipython",
    "version": 3
   },
   "file_extension": ".py",
   "mimetype": "text/x-python",
   "name": "python",
   "nbconvert_exporter": "python",
   "pygments_lexer": "ipython3",
   "version": "3.11.3"
  },
  "orig_nbformat": 4
 },
 "nbformat": 4,
 "nbformat_minor": 2
}
