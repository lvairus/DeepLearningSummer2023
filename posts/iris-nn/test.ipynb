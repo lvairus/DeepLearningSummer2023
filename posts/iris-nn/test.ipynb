{
 "cells": [
  {
   "attachments": {},
   "cell_type": "markdown",
   "metadata": {},
   "source": [
    "---\n",
    "title: \"Iris Neural Network Training\"\n",
    "author: \"Laura Vairus\"\n",
    "date: \"06-21-2023\"\n",
    "---"
   ]
  },
  {
   "cell_type": "code",
   "execution_count": 301,
   "metadata": {},
   "outputs": [],
   "source": [
    "# importing packages\n",
    "\n",
    "import torch\n",
    "import torch.nn as nn\n",
    "import torch.nn.functional as F\n",
    "import torch.optim as optim\n",
    "from torch.utils.data import DataLoader, Dataset\n",
    "from sklearn import datasets\n",
    "from sklearn.decomposition import PCA\n",
    "from sklearn.model_selection import train_test_split"
   ]
  },
  {
   "cell_type": "code",
   "execution_count": 302,
   "metadata": {},
   "outputs": [],
   "source": [
    "\n",
    "# defining NN\n",
    "\"\"\"\n",
    "class Net(nn.Module):\n",
    "\n",
    "    def __init__(self, inp, hl1, hl2, hl3, out):\n",
    "        super(Net, self).__init__()\n",
    "        # an affine operation: y = Wx + b\n",
    "        self.fc1 = nn.Linear(inp, hl1) \n",
    "        self.fc2 = nn.Linear(hl1, hl2)\n",
    "        self.fc4 = nn.Linear(hl2, hl3)\n",
    "        self.fc5 = nn.Linear(hl3, out)\n",
    "        self.s = nn.Sigmoid()\n",
    "\n",
    "    def forward(self, x):\n",
    "        x = F.relu(self.fc1(x))\n",
    "        x = F.relu(self.fc2(x))\n",
    "        x = F.relu(self.fc4(x))\n",
    "        x = self.fc5(x)\n",
    "        x = self.s(x)\n",
    "        return x\n",
    "\"\"\"\n",
    "\n",
    "class Net(nn.Module):\n",
    "    def __init__(self, layer_sizes):\n",
    "        super(Net, self).__init__()\n",
    "        self.layers = nn.ModuleList()\n",
    "        self.num_layers = len(layer_sizes) - 1\n",
    "\n",
    "        # Create hidden layers\n",
    "        for i in range(self.num_layers):\n",
    "            self.layers.append(nn.Linear(layer_sizes[i], layer_sizes[i+1]))\n",
    "        \n",
    "        # output layer\n",
    "        self.layers.append(nn.Sigmoid())\n",
    "\n",
    "    def forward(self, x):\n",
    "        for i in range(self.num_layers):\n",
    "            x = torch.relu(self.layers[i](x))\n",
    "\n",
    "        return x\n"
   ]
  },
  {
   "cell_type": "code",
   "execution_count": 303,
   "metadata": {},
   "outputs": [
    {
     "data": {
      "text/plain": [
       "Net(\n",
       "  (layers): ModuleList(\n",
       "    (0): Linear(in_features=4, out_features=30, bias=True)\n",
       "    (1): Linear(in_features=30, out_features=20, bias=True)\n",
       "    (2): Linear(in_features=20, out_features=10, bias=True)\n",
       "    (3): Linear(in_features=10, out_features=3, bias=True)\n",
       "    (4): Sigmoid()\n",
       "  )\n",
       ")"
      ]
     },
     "execution_count": 303,
     "metadata": {},
     "output_type": "execute_result"
    }
   ],
   "source": [
    "layer_sizes = [4, 30, 20, 10, 3]  # Input size, hidden layer sizes, output size\n",
    "net = Net(layer_sizes)\n",
    "net"
   ]
  },
  {
   "cell_type": "code",
   "execution_count": 304,
   "metadata": {},
   "outputs": [],
   "source": [
    "optimizer = optim.SGD(net.parameters(), lr=0.01)\n",
    "criterion = nn.CrossEntropyLoss()"
   ]
  },
  {
   "cell_type": "code",
   "execution_count": 305,
   "metadata": {},
   "outputs": [],
   "source": [
    "# defining dataset\n",
    "\n",
    "class MyDataset(Dataset):\n",
    "    def __init__(self, x, y):\n",
    "        self.x = x\n",
    "        self.y = y\n",
    "\n",
    "    def __len__(self):\n",
    "        L = self.x.shape[0]\n",
    "        return L\n",
    "\n",
    "    def __getitem__(self, i):\n",
    "        return (self.x[i, :], self.y[i])\n"
   ]
  },
  {
   "cell_type": "code",
   "execution_count": 306,
   "metadata": {},
   "outputs": [],
   "source": [
    "# getting data\n",
    "\n",
    "iris = datasets.load_iris() # all data\n",
    "\n",
    "data = torch.from_numpy(iris.data).float() # splitting into data tensors (X)\n",
    "target = torch.from_numpy(iris.target).long() # and target tensors (Y)\n",
    "\n",
    "# splitting dataset into training and testing groups\n",
    "trainX, testX, trainY, testY = train_test_split(data, target, test_size=0.1, random_state=42)\n",
    "# X is data/attributes\n",
    "# Y is targets/labels\n",
    "\n",
    "# making data a Dataset object\n",
    "trainDataset = MyDataset(trainX, trainY)\n",
    "testDataset = MyDataset(testX, testY)\n",
    "\n",
    "# putting Dataset into Loader\n",
    "trainLoader = DataLoader(trainDataset, batch_size=8, shuffle=True)\n",
    "testLoader = DataLoader(testDataset, batch_size=4, shuffle=True)\n"
   ]
  },
  {
   "cell_type": "code",
   "execution_count": 307,
   "metadata": {},
   "outputs": [],
   "source": [
    "# training NN\n",
    "\n",
    "nepochs = 100\n",
    "epoch_loss = []\n",
    "\n",
    "for epoch in range(nepochs):\n",
    "    iter_loss = 0\n",
    "    for i, (bX, bY) in enumerate(trainLoader):\n",
    "        optimizer.zero_grad()   # zero the gradient buffers\n",
    "        output = net(bX)\n",
    "        loss = criterion(output, bY)\n",
    "        loss.backward()\n",
    "        optimizer.step()\n",
    "        #print(f'iteration {i}: loss {loss.item()}')\n",
    "        iter_loss += loss.item()\n",
    "    epoch_loss.append(iter_loss/(i+1))\n",
    "    # print(f'epoch {epoch}: loss {iter_loss/(i+1)}')\n",
    "\n",
    "    # print(loss)\n"
   ]
  },
  {
   "cell_type": "code",
   "execution_count": 308,
   "metadata": {},
   "outputs": [
    {
     "data": {
      "text/plain": [
       "[1.089932595982271,\n",
       " 1.0780915232265698,\n",
       " 1.0698856536079855,\n",
       " 1.0620966939365162,\n",
       " 1.051463221802431,\n",
       " 1.0407792960896212,\n",
       " 1.0263941287994385,\n",
       " 1.006874662988326,\n",
       " 0.9818673975327435,\n",
       " 0.9543773672159981,\n",
       " 0.9278924991102779,\n",
       " 0.892082112676957,\n",
       " 0.8528847378842971,\n",
       " 0.8151910129715415,\n",
       " 0.7762638295398039,\n",
       " 0.7339987334083108,\n",
       " 0.6915121253798989,\n",
       " 0.6529985280597911,\n",
       " 0.6120010228718028,\n",
       " 0.577684718019822,\n",
       " 0.537588391233893,\n",
       " 0.5076155101551729,\n",
       " 0.48230401382726784,\n",
       " 0.45989446254337535,\n",
       " 0.44066135672961965,\n",
       " 0.4121406087104012,\n",
       " 0.3928568380720475,\n",
       " 0.3732422344824847,\n",
       " 0.3446122083593817,\n",
       " 0.33735772266107444,\n",
       " 0.3142062723636627,\n",
       " 0.3080035522580147,\n",
       " 0.2785126128617455,\n",
       " 0.2714738609159694,\n",
       " 0.25107884670005126,\n",
       " 0.2379030300413861,\n",
       " 0.22928375860347466,\n",
       " 0.2026286813266137,\n",
       " 0.2178823264206157,\n",
       " 0.19517485665924408,\n",
       " 0.20197849501581752,\n",
       " 0.1951888777753886,\n",
       " 0.19636180690106222,\n",
       " 0.19281140714883804,\n",
       " 0.16958910445956624,\n",
       " 0.17367594732957728,\n",
       " 0.15995553683708696,\n",
       " 0.14281793201670928,\n",
       " 0.20035550633774085,\n",
       " 0.1659274809062481,\n",
       " 0.1421836890718516,\n",
       " 0.14311273231664123,\n",
       " 0.119171392172575,\n",
       " 0.14668690128361478,\n",
       " 0.16042900331975782,\n",
       " 0.1102606740725391,\n",
       " 0.1581820836838554,\n",
       " 0.13461540573660066,\n",
       " 0.16296004821710727,\n",
       " 0.1213293199920479,\n",
       " 0.12789003748227568,\n",
       " 0.16090759580187938,\n",
       " 0.1529751457821797,\n",
       " 0.10146084499052342,\n",
       " 0.14100522230214932,\n",
       " 0.1049810720826773,\n",
       " 0.11155775633147534,\n",
       " 0.10951150008751188,\n",
       " 0.12753714467672742,\n",
       " 0.17456571779706898,\n",
       " 0.10472052445744767,\n",
       " 0.09768917438957621,\n",
       " 0.10721259117674302,\n",
       " 0.10751658004215535,\n",
       " 0.11949179442051579,\n",
       " 0.13707306488033602,\n",
       " 0.13714948592378812,\n",
       " 0.1302530608304283,\n",
       " 0.1622128228602164,\n",
       " 0.1422118198893526,\n",
       " 0.10186021829790928,\n",
       " 0.10798571625834003,\n",
       " 0.0845348046928206,\n",
       " 0.21633452007218318,\n",
       " 0.13113987621139078,\n",
       " 0.13525098699199803,\n",
       " 0.11727344157064662,\n",
       " 0.138534656534081,\n",
       " 0.09484674929476836,\n",
       " 0.11408404238960322,\n",
       " 0.08664089983657879,\n",
       " 0.09082044567912817,\n",
       " 0.08115927672342342,\n",
       " 0.1474215361454031,\n",
       " 0.15857262180789428,\n",
       " 0.12826845986659036,\n",
       " 0.11472896952182055,\n",
       " 0.2042937748517622,\n",
       " 0.09265142229988295,\n",
       " 0.09727475545643006]"
      ]
     },
     "execution_count": 308,
     "metadata": {},
     "output_type": "execute_result"
    }
   ],
   "source": [
    "epoch_loss"
   ]
  },
  {
   "cell_type": "code",
   "execution_count": 309,
   "metadata": {},
   "outputs": [
    {
     "data": {
      "text/plain": [
       "[<matplotlib.lines.Line2D at 0x291ce58d0>]"
      ]
     },
     "execution_count": 309,
     "metadata": {},
     "output_type": "execute_result"
    },
    {
     "data": {
      "image/png": "[encoded data removed]",
      "text/plain": [
       "<Figure size 640x480 with 1 Axes>"
      ]
     },
     "metadata": {},
     "output_type": "display_data"
    }
   ],
   "source": [
    "import matplotlib.pyplot as plt\n",
    "\n",
    "plt.plot(epoch_loss)"
   ]
  },
  {
   "cell_type": "code",
   "execution_count": 310,
   "metadata": {},
   "outputs": [
    {
     "name": "stdout",
     "output_type": "stream",
     "text": [
      "testing\n",
      "torch.Size([15, 4])\n",
      "tensor(0.1146, grad_fn=<NllLossBackward0>)\n"
     ]
    }
   ],
   "source": [
    "# testing NN\n",
    "\n",
    "print(\"testing\")\n",
    "optimizer.zero_grad()\n",
    "output = net(testX)\n",
    "print(testX.shape)\n",
    "loss = criterion(output, testY)\n",
    "print(loss)\n",
    "# print(output)"
   ]
  },
  {
   "cell_type": "code",
   "execution_count": 311,
   "metadata": {},
   "outputs": [
    {
     "name": "stdout",
     "output_type": "stream",
     "text": [
      "tensor([[1, 1],\n",
      "        [0, 0],\n",
      "        [2, 2],\n",
      "        [1, 1],\n",
      "        [1, 1],\n",
      "        [0, 0],\n",
      "        [1, 1],\n",
      "        [2, 2],\n",
      "        [2, 1],\n",
      "        [1, 1],\n",
      "        [2, 2],\n",
      "        [0, 0],\n",
      "        [0, 0],\n",
      "        [0, 0],\n",
      "        [0, 0]])\n",
      "14\n"
     ]
    }
   ],
   "source": [
    "# analyzing and printing results\n",
    "\n",
    "preds = []\n",
    "for row in output:\n",
    "    if row.max() == row[0]:\n",
    "        preds.append(0)\n",
    "    elif row.max() == row[1]:\n",
    "        preds.append(1)\n",
    "    else:\n",
    "        preds.append(2)\n",
    "tPreds = torch.tensor(preds).view(15,1)\n",
    "tTargets = testY.view(15,1)\n",
    "\n",
    "result = torch.cat([tPreds,tTargets], dim=1)\n",
    "print(result)\n",
    "correct = 0\n",
    "for row in result:\n",
    "    if row[0] == row[1]:\n",
    "        correct += 1\n",
    "\n",
    "print(correct)\n"
   ]
  }
 ],
 "metadata": {
  "kernelspec": {
   "display_name": "dlgtools",
   "language": "python",
   "name": "python3"
  },
  "language_info": {
   "codemirror_mode": {
    "name": "ipython",
    "version": 3
   },
   "file_extension": ".py",
   "mimetype": "text/x-python",
   "name": "python",
   "nbconvert_exporter": "python",
   "pygments_lexer": "ipython3",
   "version": "3.11.3"
  },
  "orig_nbformat": 4
 },
 "nbformat": 4,
 "nbformat_minor": 2
}
